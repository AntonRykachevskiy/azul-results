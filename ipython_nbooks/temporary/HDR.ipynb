{
 "cells": [
  {
   "cell_type": "code",
   "execution_count": 1,
   "metadata": {
    "collapsed": true
   },
   "outputs": [],
   "source": [
    "from hdrh.histogram import HdrHistogram\n",
    "from hdrh.log import HistogramLogReader"
   ]
  },
  {
   "cell_type": "code",
   "execution_count": 10,
   "metadata": {
    "collapsed": false
   },
   "outputs": [],
   "source": [
    "LOWEST = 1\n",
    "HIGHEST = 3600 * 1000 * 1000\n",
    "SIGNIFICANT = 3\n",
    "\n",
    "\n",
    "histogram = HdrHistogram(1, HIGHEST, SIGNIFICANT)"
   ]
  },
  {
   "cell_type": "code",
   "execution_count": 11,
   "metadata": {
    "collapsed": false
   },
   "outputs": [],
   "source": [
    "reader = HistogramLogReader(\"2015.11.14-11_57_12-ycsb-run-10000-d-READ.hdr\",\n",
    "                           histogram)"
   ]
  },
  {
   "cell_type": "code",
   "execution_count": 12,
   "metadata": {
    "collapsed": false
   },
   "outputs": [
    {
     "name": "stdout",
     "output_type": "stream",
     "text": [
      "None\n"
     ]
    }
   ],
   "source": [
    "print reader.get_next_interval_histogram(0.0, 1.0, True)"
   ]
  },
  {
   "cell_type": "code",
   "execution_count": 13,
   "metadata": {
    "collapsed": false
   },
   "outputs": [
    {
     "ename": "HdrCookieException",
     "evalue": "",
     "output_type": "error",
     "traceback": [
      "\u001b[1;31m---------------------------------------------------------------------------\u001b[0m",
      "\u001b[1;31mHdrCookieException\u001b[0m                        Traceback (most recent call last)",
      "\u001b[1;32m<ipython-input-13-124baa9fdfa3>\u001b[0m in \u001b[0;36m<module>\u001b[1;34m()\u001b[0m\n\u001b[1;32m----> 1\u001b[1;33m \u001b[0mreader\u001b[0m\u001b[1;33m.\u001b[0m\u001b[0mget_next_interval_histogram\u001b[0m\u001b[1;33m(\u001b[0m\u001b[0mabsolute\u001b[0m \u001b[1;33m=\u001b[0m \u001b[0mTrue\u001b[0m\u001b[1;33m)\u001b[0m\u001b[1;33m\u001b[0m\u001b[0m\n\u001b[0m",
      "\u001b[1;32m/home/anton/anaconda2/lib/python2.7/site-packages/hdrh/log.pyc\u001b[0m in \u001b[0;36mget_next_interval_histogram\u001b[1;34m(self, range_start_time_sec, range_end_time_sec, absolute)\u001b[0m\n\u001b[0;32m    334\u001b[0m                                                     \u001b[0mrange_start_time_sec\u001b[0m\u001b[1;33m,\u001b[0m\u001b[1;33m\u001b[0m\u001b[0m\n\u001b[0;32m    335\u001b[0m                                                     \u001b[0mrange_end_time_sec\u001b[0m\u001b[1;33m,\u001b[0m\u001b[1;33m\u001b[0m\u001b[0m\n\u001b[1;32m--> 336\u001b[1;33m                                                     absolute)\n\u001b[0m\u001b[0;32m    337\u001b[0m \u001b[1;33m\u001b[0m\u001b[0m\n\u001b[0;32m    338\u001b[0m     def add_next_interval_histogram(self,\n",
      "\u001b[1;32m/home/anton/anaconda2/lib/python2.7/site-packages/hdrh/log.pyc\u001b[0m in \u001b[0;36m_decode_next_interval_histogram\u001b[1;34m(self, dest_histogram, range_start_time_sec, range_end_time_sec, absolute)\u001b[0m\n\u001b[0;32m    283\u001b[0m                 \u001b[0mhistogram\u001b[0m\u001b[1;33m.\u001b[0m\u001b[0mdecode_and_add\u001b[0m\u001b[1;33m(\u001b[0m\u001b[0mcpayload\u001b[0m\u001b[1;33m)\u001b[0m\u001b[1;33m\u001b[0m\u001b[0m\n\u001b[0;32m    284\u001b[0m             \u001b[1;32melse\u001b[0m\u001b[1;33m:\u001b[0m\u001b[1;33m\u001b[0m\u001b[0m\n\u001b[1;32m--> 285\u001b[1;33m                 \u001b[0mhistogram\u001b[0m \u001b[1;33m=\u001b[0m \u001b[0mHdrHistogram\u001b[0m\u001b[1;33m.\u001b[0m\u001b[0mdecode\u001b[0m\u001b[1;33m(\u001b[0m\u001b[0mcpayload\u001b[0m\u001b[1;33m)\u001b[0m\u001b[1;33m\u001b[0m\u001b[0m\n\u001b[0m\u001b[0;32m    286\u001b[0m                 \u001b[0mhistogram\u001b[0m\u001b[1;33m.\u001b[0m\u001b[0mset_start_time_stamp\u001b[0m\u001b[1;33m(\u001b[0m\u001b[0mabsolute_start_time_stamp_sec\u001b[0m \u001b[1;33m*\u001b[0m \u001b[1;36m1000.0\u001b[0m\u001b[1;33m)\u001b[0m\u001b[1;33m\u001b[0m\u001b[0m\n\u001b[0;32m    287\u001b[0m                 \u001b[0mhistogram\u001b[0m\u001b[1;33m.\u001b[0m\u001b[0mset_end_time_stamp\u001b[0m\u001b[1;33m(\u001b[0m\u001b[0mabsolute_end_time_stamp_sec\u001b[0m \u001b[1;33m*\u001b[0m \u001b[1;36m1000.0\u001b[0m\u001b[1;33m)\u001b[0m\u001b[1;33m\u001b[0m\u001b[0m\n",
      "\u001b[1;32m/home/anton/anaconda2/lib/python2.7/site-packages/hdrh/histogram.pyc\u001b[0m in \u001b[0;36mdecode\u001b[1;34m(encoded_histogram, b64_wrap)\u001b[0m\n\u001b[0;32m    561\u001b[0m                 \u001b[1;32min\u001b[0m \u001b[0mcase\u001b[0m \u001b[0mof\u001b[0m \u001b[0mzlib\u001b[0m \u001b[0mdecompression\u001b[0m \u001b[0merror\u001b[0m\u001b[1;33m\u001b[0m\u001b[0m\n\u001b[0;32m    562\u001b[0m         '''\n\u001b[1;32m--> 563\u001b[1;33m         \u001b[0mhdr_payload\u001b[0m \u001b[1;33m=\u001b[0m \u001b[0mHdrHistogramEncoder\u001b[0m\u001b[1;33m.\u001b[0m\u001b[0mdecode\u001b[0m\u001b[1;33m(\u001b[0m\u001b[0mencoded_histogram\u001b[0m\u001b[1;33m,\u001b[0m \u001b[0mb64_wrap\u001b[0m\u001b[1;33m)\u001b[0m\u001b[1;33m\u001b[0m\u001b[0m\n\u001b[0m\u001b[0;32m    564\u001b[0m         \u001b[0mpayload\u001b[0m \u001b[1;33m=\u001b[0m \u001b[0mhdr_payload\u001b[0m\u001b[1;33m.\u001b[0m\u001b[0mpayload\u001b[0m\u001b[1;33m\u001b[0m\u001b[0m\n\u001b[0;32m    565\u001b[0m         histogram = HdrHistogram(payload.lowest_trackable_value,\n",
      "\u001b[1;32m/home/anton/anaconda2/lib/python2.7/site-packages/hdrh/codec.pyc\u001b[0m in \u001b[0;36mdecode\u001b[1;34m(encoded_histogram, b64_wrap)\u001b[0m\n\u001b[0;32m    338\u001b[0m             \u001b[0mheader\u001b[0m \u001b[1;33m=\u001b[0m \u001b[0mExternalHeader\u001b[0m\u001b[1;33m.\u001b[0m\u001b[0mfrom_buffer_copy\u001b[0m\u001b[1;33m(\u001b[0m\u001b[0mb64decode\u001b[0m\u001b[1;33m)\u001b[0m\u001b[1;33m\u001b[0m\u001b[0m\n\u001b[0;32m    339\u001b[0m             \u001b[1;32mif\u001b[0m \u001b[0mget_cookie_base\u001b[0m\u001b[1;33m(\u001b[0m\u001b[0mheader\u001b[0m\u001b[1;33m.\u001b[0m\u001b[0mcookie\u001b[0m\u001b[1;33m)\u001b[0m \u001b[1;33m!=\u001b[0m \u001b[0mV2_COMPRESSION_COOKIE_BASE\u001b[0m\u001b[1;33m:\u001b[0m\u001b[1;33m\u001b[0m\u001b[0m\n\u001b[1;32m--> 340\u001b[1;33m                 \u001b[1;32mraise\u001b[0m \u001b[0mHdrCookieException\u001b[0m\u001b[1;33m(\u001b[0m\u001b[1;33m)\u001b[0m\u001b[1;33m\u001b[0m\u001b[0m\n\u001b[0m\u001b[0;32m    341\u001b[0m             \u001b[1;32mif\u001b[0m \u001b[0mheader\u001b[0m\u001b[1;33m.\u001b[0m\u001b[0mlength\u001b[0m \u001b[1;33m!=\u001b[0m \u001b[0mb64dec_len\u001b[0m \u001b[1;33m-\u001b[0m \u001b[0mext_header_size\u001b[0m\u001b[1;33m:\u001b[0m\u001b[1;33m\u001b[0m\u001b[0m\n\u001b[0;32m    342\u001b[0m                 raise HdrLengthException('Decoded length=%d buffer length=%d' %\n",
      "\u001b[1;31mHdrCookieException\u001b[0m: "
     ]
    }
   ],
   "source": [
    "reader.get_next_interval_histogram(absolute = True)"
   ]
  },
  {
   "cell_type": "code",
   "execution_count": null,
   "metadata": {
    "collapsed": false
   },
   "outputs": [],
   "source": [
    "reader.ob\n"
   ]
  },
  {
   "cell_type": "code",
   "execution_count": null,
   "metadata": {
    "collapsed": false
   },
   "outputs": [],
   "source": [
    "hdr.version"
   ]
  },
  {
   "cell_type": "code",
   "execution_count": null,
   "metadata": {
    "collapsed": true
   },
   "outputs": [],
   "source": [
    "import hdrh\n"
   ]
  },
  {
   "cell_type": "code",
   "execution_count": null,
   "metadata": {
    "collapsed": false
   },
   "outputs": [],
   "source": [
    "hdrh.__name__"
   ]
  },
  {
   "cell_type": "code",
   "execution_count": null,
   "metadata": {
    "collapsed": true
   },
   "outputs": [],
   "source": []
  }
 ],
 "metadata": {
  "kernelspec": {
   "display_name": "Python 2",
   "language": "python",
   "name": "python2"
  },
  "language_info": {
   "codemirror_mode": {
    "name": "ipython",
    "version": 2
   },
   "file_extension": ".py",
   "mimetype": "text/x-python",
   "name": "python",
   "nbconvert_exporter": "python",
   "pygments_lexer": "ipython2",
   "version": "2.7.11"
  }
 },
 "nbformat": 4,
 "nbformat_minor": 0
}
