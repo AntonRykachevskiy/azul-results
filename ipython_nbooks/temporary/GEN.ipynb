{
 "cells": [
  {
   "cell_type": "code",
   "execution_count": 42,
   "metadata": {
    "collapsed": true
   },
   "outputs": [],
   "source": [
    "import distribution_generator as dg\n",
    "from scipy import stats\n",
    "import numpy as np\n",
    "import matplotlib.pyplot as plt\n",
    "%matplotlib inline"
   ]
  },
  {
   "cell_type": "code",
   "execution_count": 9,
   "metadata": {
    "collapsed": true
   },
   "outputs": [],
   "source": [
    "def sampleGenTest():\n",
    "    sample = [lognormvariate(1, 1) for i in range(3000)]\n",
    "    den = calcPropobilityDensity(sample, 1)\n",
    "    sample2 = sampleFromDensity(den)\n",
    "    den2 = calcPropobilityDensity(sample2, 1)\n",
    "    plt.plot(den)\n",
    "    plt.plot(den2)\n",
    "    #plt.plot(np.sort(sample))\n",
    "    #plt.plot(np.sort(sample2))\n",
    "    plt.show()\n",
    "    \n",
    "    \n",
    "\n",
    "#put cass\n",
    "#watch i TLB misses\n",
    "#\n",
    "#compare zing and dolphin"
   ]
  },
  {
   "cell_type": "code",
   "execution_count": 10,
   "metadata": {
    "collapsed": true
   },
   "outputs": [],
   "source": [
    "def runGenerator(config):\n",
    "    RG = dg.RequestGenerator(throughput = config['throughput'],\n",
    "                             end_time = config['duration'],\n",
    "                             computation_difficulty = config['computational_dificulty'],\n",
    "                             HEAP_usage = config['HEAP_usage'],\n",
    "                             memory_size = config['memory_size'],\n",
    "                             memory_treated = config['memory_treated']\n",
    "                            )\n",
    "    RP = dg.RequestProcessor(cores_number = config['cores_number'],\n",
    "                            request_list = RG.getRequestList(),\n",
    "                            HEAP = config['HEAP_size'],\n",
    "                            memory_size = config['memory_size'],\n",
    "                            cores_computation_error_sigma = config['computation_error_sigma'],\n",
    "                            GC_time_coefficient = config['GC_time_coefficient'])\n",
    "    RP.processRequests(RG.getRequestList())\n",
    "\n",
    "    times = []\n",
    "    for request in RP.getProcessedRequestList():\n",
    "        times.append(request.getWorkTime())\n",
    "    \n",
    "    return times"
   ]
  },
  {
   "cell_type": "code",
   "execution_count": 11,
   "metadata": {
    "collapsed": true
   },
   "outputs": [],
   "source": [
    "def readConfig():\n",
    "    filename = 'simulator_config.conf.txt'\n",
    "    config_df = pd.read_table(filename, sep = ':',\n",
    "                           skipinitialspace = True, header = None, names = ['params', 'vals'])\n",
    "    config = dict(zip(config_df.params, list(map(int, config_df.vals))))\n",
    "    return config\n",
    "    "
   ]
  },
  {
   "cell_type": "code",
   "execution_count": 17,
   "metadata": {
    "collapsed": true
   },
   "outputs": [],
   "source": [
    "def plotDensity(densities, log_flag = False, height = 4, width = 12, left = None, right = None, axes_limits = None,\n",
    "               colors = None, name = None):\n",
    "    \n",
    "    if type(densities[0]) != list and type(densities[0]) != np.ndarray:\n",
    "        densities = [densities]\n",
    "    fig = plt.figure(figsize=(width, height))\n",
    "    ax = fig.add_subplot(1,1,1)\n",
    "\n",
    "    if axes_limits:\n",
    "        ax.axis(axes_limits)\n",
    "        ax = plt.gca()\n",
    "        ax.set_autoscale_on(False)\n",
    "\n",
    "    if left is None:\n",
    "        left = 0\n",
    "    if right is None:\n",
    "        right = len(densities[0])\n",
    "        \n",
    "    for i in range(len(densities)):\n",
    "        density = densities[i]\n",
    "        if colors is None:\n",
    "            ax.plot(density[left : right])\n",
    "        else:\n",
    "            ax.plot(density[left : right], colors[i])\n",
    "   \n",
    "    if not name is None: \n",
    "        fig.savefig(name)\n",
    "    if log_flag:\n",
    "        ax.set_xscale('log')\n",
    "        ax.set_yscale('log')\n",
    "    plt.show()"
   ]
  },
  {
   "cell_type": "code",
   "execution_count": 18,
   "metadata": {
    "collapsed": true
   },
   "outputs": [],
   "source": [
    "def densityFromSample(sample, normed = True):\n",
    "    return np.histogram(sample, bins=round(max(sample) + 1) , \n",
    "                        density=True, range = (0, round(max(sample) +1)))"
   ]
  },
  {
   "cell_type": "code",
   "execution_count": 12,
   "metadata": {
    "collapsed": true
   },
   "outputs": [],
   "source": [
    "#good params\n",
    "#RG = RequestGenerator(throughput = 10000, end_time = 1, computation_difficulty = 250, HEAP_usage = 1)\n",
    "#RP = RequestProcessor(10, RG.getRequestList())\n",
    "config1 = {'throughput' : 10000,\n",
    "          'duration' : 1,\n",
    "          'computational_dificulty': 100,\n",
    "          'HEAP_usage': 10,\n",
    "          'memory_treated': 10,\n",
    "          'computation_error_sigma': 10,\n",
    "          'HEAP_size': 4000,\n",
    "          'memory_size': 100,\n",
    "          'cores_number': 100,\n",
    "          'GC_start_percentage': 0.9,\n",
    "          'GC_stop_percentage': 0.0,\n",
    "          'GC_time_coefficient': 1,}\n",
    "\n",
    "config2 = {'throughput' : 10000,\n",
    "          'duration' : 1,\n",
    "          'computational_dificulty': 100,\n",
    "          'HEAP_usage': 10,\n",
    "          'memory_treated': 11,\n",
    "          'computation_error_sigma': 10,\n",
    "          'HEAP_size': 4000,\n",
    "          'memory_size': 100,\n",
    "          'cores_number': 100,\n",
    "          'GC_start_percentage': 0.9,\n",
    "          'GC_stop_percentage': 0.0,\n",
    "          'GC_time_coefficient': 1,}\n",
    "#config = readConfig()\n",
    "\n"
   ]
  },
  {
   "cell_type": "code",
   "execution_count": 16,
   "metadata": {
    "collapsed": false
   },
   "outputs": [
    {
     "name": "stdout",
     "output_type": "stream",
     "text": [
      "(0.009999999999999995, 0.69937419913101617)\n",
      "(0.016499999999999956, 0.13138325901602502)\n"
     ]
    }
   ],
   "source": [
    "times1 = runGenerator(config1)\n",
    "times2 = runGenerator(config1)\n",
    "times3 = runGenerator(config2)\n",
    "\n",
    "print(stats.mstats.ks_twosamp(times1, times2))\n",
    "print(stats.mstats.ks_twosamp(times1, times3))"
   ]
  },
  {
   "cell_type": "code",
   "execution_count": 33,
   "metadata": {
    "collapsed": false
   },
   "outputs": [],
   "source": [
    "plotDensity(densityFromSample(times3)[0])"
   ]
  },
  {
   "cell_type": "code",
   "execution_count": 29,
   "metadata": {
    "collapsed": false
   },
   "outputs": [],
   "source": [
    "plotDensity(times3[0:1000])"
   ]
  },
  {
   "cell_type": "code",
   "execution_count": null,
   "metadata": {
    "collapsed": true
   },
   "outputs": [],
   "source": []
  },
  {
   "cell_type": "code",
   "execution_count": null,
   "metadata": {
    "collapsed": true
   },
   "outputs": [],
   "source": []
  },
  {
   "cell_type": "code",
   "execution_count": 40,
   "metadata": {
    "collapsed": true
   },
   "outputs": [],
   "source": [
    "config3 = {'throughput' : 10000,\n",
    "          'duration' : 1,\n",
    "          'computational_dificulty': 100,\n",
    "          'HEAP_usage': 10,\n",
    "          'memory_treated': 11,\n",
    "          'computation_error_sigma': 10,\n",
    "          'HEAP_size': 4000,\n",
    "          'memory_size': 100,\n",
    "          'cores_number': 10,\n",
    "          'GC_start_percentage': 0.9,\n",
    "          'GC_stop_percentage': 0.,\n",
    "          'GC_time_coefficient': 0.5,}"
   ]
  },
  {
   "cell_type": "code",
   "execution_count": 43,
   "metadata": {
    "collapsed": false
   },
   "outputs": [
    {
     "data": {
      "image/png": "[encoded data removed]",
      "text/plain": [
       "<matplotlib.figure.Figure at 0x7fe6301731d0>"
      ]
     },
     "metadata": {},
     "output_type": "display_data"
    }
   ],
   "source": [
    "plotDensity(densityFromSample(runGenerator(config3))[0])"
   ]
  },
  {
   "cell_type": "code",
   "execution_count": 47,
   "metadata": {
    "collapsed": false
   },
   "outputs": [
    {
     "data": {
      "image/png": "[encoded data removed]",
      "text/plain": [
       "<matplotlib.figure.Figure at 0x7fe6811d2fd0>"
      ]
     },
     "metadata": {},
     "output_type": "display_data"
    }
   ],
   "source": [
    "config4 = {'throughput' : 10000,\n",
    "          'duration' : 1,\n",
    "          'computational_dificulty': 100,\n",
    "          'HEAP_usage': 10,\n",
    "          'memory_treated': 13,\n",
    "          'computation_error_sigma': 25,\n",
    "          'HEAP_size': 4000,\n",
    "          'memory_size': 100,\n",
    "          'cores_number': 10,\n",
    "          'GC_start_percentage': 0.9,\n",
    "          'GC_stop_percentage': 0,\n",
    "          'GC_time_coefficient': 0.5,}\n",
    "\n",
    "plotDensity(densityFromSample(runGenerator(config4))[0])"
   ]
  },
  {
   "cell_type": "code",
   "execution_count": 50,
   "metadata": {
    "collapsed": false
   },
   "outputs": [],
   "source": [
    "config5 = {'throughput' : 10000,\n",
    "          'duration' : 100,\n",
    "          'computational_dificulty': 100,\n",
    "          'HEAP_usage': 10,\n",
    "          'memory_treated': 13,\n",
    "          'computation_error_sigma': 25,\n",
    "          'HEAP_size': 4000,\n",
    "          'memory_size': 100,\n",
    "          'cores_number': 10,\n",
    "          'GC_start_percentage': 0.9,\n",
    "          'GC_stop_percentage': 0,\n",
    "          'GC_time_coefficient': 0.5,}\n",
    "\n"
   ]
  },
  {
   "cell_type": "code",
   "execution_count": 51,
   "metadata": {
    "collapsed": false
   },
   "outputs": [
    {
     "ename": "AttributeError",
     "evalue": "'NoneType' object has no attribute 'getLeftCell'",
     "output_type": "error",
     "traceback": [
      "\u001b[1;31m---------------------------------------------------------------------------\u001b[0m",
      "\u001b[1;31mAttributeError\u001b[0m                            Traceback (most recent call last)",
      "\u001b[1;32m<ipython-input-51-60829f97cd56>\u001b[0m in \u001b[0;36m<module>\u001b[1;34m()\u001b[0m\n\u001b[1;32m----> 1\u001b[1;33m \u001b[0mtimes_long_1\u001b[0m \u001b[1;33m=\u001b[0m \u001b[0mrunGenerator\u001b[0m\u001b[1;33m(\u001b[0m\u001b[0mconfig5\u001b[0m\u001b[1;33m)\u001b[0m\u001b[1;33m\u001b[0m\u001b[0m\n\u001b[0m",
      "\u001b[1;32m<ipython-input-10-6639282b4681>\u001b[0m in \u001b[0;36mrunGenerator\u001b[1;34m(config)\u001b[0m\n\u001b[0;32m     13\u001b[0m                             \u001b[0mcores_computation_error_sigma\u001b[0m \u001b[1;33m=\u001b[0m \u001b[0mconfig\u001b[0m\u001b[1;33m[\u001b[0m\u001b[1;34m'computation_error_sigma'\u001b[0m\u001b[1;33m]\u001b[0m\u001b[1;33m,\u001b[0m\u001b[1;33m\u001b[0m\u001b[0m\n\u001b[0;32m     14\u001b[0m                             GC_time_coefficient = config['GC_time_coefficient'])\n\u001b[1;32m---> 15\u001b[1;33m     \u001b[0mRP\u001b[0m\u001b[1;33m.\u001b[0m\u001b[0mprocessRequests\u001b[0m\u001b[1;33m(\u001b[0m\u001b[0mRG\u001b[0m\u001b[1;33m.\u001b[0m\u001b[0mgetRequestList\u001b[0m\u001b[1;33m(\u001b[0m\u001b[1;33m)\u001b[0m\u001b[1;33m)\u001b[0m\u001b[1;33m\u001b[0m\u001b[0m\n\u001b[0m\u001b[0;32m     16\u001b[0m \u001b[1;33m\u001b[0m\u001b[0m\n\u001b[0;32m     17\u001b[0m     \u001b[0mtimes\u001b[0m \u001b[1;33m=\u001b[0m \u001b[1;33m[\u001b[0m\u001b[1;33m]\u001b[0m\u001b[1;33m\u001b[0m\u001b[0m\n",
      "\u001b[1;32m/home/anton/azul/Python Scripts/azul-latency_simulator/distribution_generator.pyc\u001b[0m in \u001b[0;36mprocessRequests\u001b[1;34m(self, request_list)\u001b[0m\n\u001b[0;32m    318\u001b[0m                         \u001b[0mself\u001b[0m\u001b[1;33m.\u001b[0m\u001b[0mprocessNewRequest\u001b[0m\u001b[1;33m(\u001b[0m\u001b[0mrequest_list\u001b[0m\u001b[1;33m[\u001b[0m\u001b[0mevent\u001b[0m\u001b[1;33m.\u001b[0m\u001b[0mgetRequestNumber\u001b[0m\u001b[1;33m(\u001b[0m\u001b[1;33m)\u001b[0m\u001b[1;33m]\u001b[0m\u001b[1;33m,\u001b[0m \u001b[0mevent\u001b[0m\u001b[1;33m)\u001b[0m\u001b[1;33m\u001b[0m\u001b[0m\n\u001b[0;32m    319\u001b[0m                     \u001b[1;32mif\u001b[0m \u001b[0mevent\u001b[0m\u001b[1;33m.\u001b[0m\u001b[0mgetEventType\u001b[0m\u001b[1;33m(\u001b[0m\u001b[1;33m)\u001b[0m \u001b[1;33m==\u001b[0m \u001b[0mEventType\u001b[0m\u001b[1;33m.\u001b[0m\u001b[0mcore_release\u001b[0m\u001b[1;33m:\u001b[0m\u001b[1;33m\u001b[0m\u001b[0m\n\u001b[1;32m--> 320\u001b[1;33m                         \u001b[0mself\u001b[0m\u001b[1;33m.\u001b[0m\u001b[0mprocessCoreRelease\u001b[0m\u001b[1;33m(\u001b[0m\u001b[0mevent\u001b[0m\u001b[1;33m)\u001b[0m\u001b[1;33m\u001b[0m\u001b[0m\n\u001b[0m\u001b[0;32m    321\u001b[0m                     \u001b[1;32mif\u001b[0m \u001b[0mevent\u001b[0m\u001b[1;33m.\u001b[0m\u001b[0mgetEventType\u001b[0m\u001b[1;33m(\u001b[0m\u001b[1;33m)\u001b[0m \u001b[1;33m==\u001b[0m \u001b[0mEventType\u001b[0m\u001b[1;33m.\u001b[0m\u001b[0mstop_garbage_collector\u001b[0m\u001b[1;33m:\u001b[0m\u001b[1;33m\u001b[0m\u001b[0m\n\u001b[0;32m    322\u001b[0m                         \u001b[0mself\u001b[0m\u001b[1;33m.\u001b[0m\u001b[0mprocessGSStop\u001b[0m\u001b[1;33m(\u001b[0m\u001b[0mevent\u001b[0m\u001b[1;33m)\u001b[0m\u001b[1;33m\u001b[0m\u001b[0m\n",
      "\u001b[1;32m/home/anton/azul/Python Scripts/azul-latency_simulator/distribution_generator.pyc\u001b[0m in \u001b[0;36mprocessCoreRelease\u001b[1;34m(self, core_release_event)\u001b[0m\n\u001b[0;32m    277\u001b[0m             \u001b[0mprocessed_request\u001b[0m \u001b[1;33m=\u001b[0m \u001b[0mself\u001b[0m\u001b[1;33m.\u001b[0m\u001b[0m__cores\u001b[0m\u001b[1;33m[\u001b[0m\u001b[0mcore_release_event\u001b[0m\u001b[1;33m.\u001b[0m\u001b[0mgetCoreId\u001b[0m\u001b[1;33m(\u001b[0m\u001b[1;33m)\u001b[0m\u001b[1;33m]\u001b[0m\u001b[1;33m.\u001b[0m\u001b[0mreleaseCore\u001b[0m\u001b[1;33m(\u001b[0m\u001b[1;33m)\u001b[0m\u001b[1;33m\u001b[0m\u001b[0m\n\u001b[0;32m    278\u001b[0m             \u001b[1;31m#print(processed_request)\u001b[0m\u001b[1;33m\u001b[0m\u001b[1;33m\u001b[0m\u001b[0m\n\u001b[1;32m--> 279\u001b[1;33m             \u001b[0mself\u001b[0m\u001b[1;33m.\u001b[0m\u001b[0m__releaseMemory__\u001b[0m\u001b[1;33m(\u001b[0m\u001b[0mprocessed_request\u001b[0m\u001b[1;33m.\u001b[0m\u001b[0mgetLeftCell\u001b[0m\u001b[1;33m(\u001b[0m\u001b[1;33m)\u001b[0m\u001b[1;33m,\u001b[0m \u001b[0mprocessed_request\u001b[0m\u001b[1;33m.\u001b[0m\u001b[0mgetRightCell\u001b[0m\u001b[1;33m(\u001b[0m\u001b[1;33m)\u001b[0m\u001b[1;33m)\u001b[0m\u001b[1;33m\u001b[0m\u001b[0m\n\u001b[0m\u001b[0;32m    280\u001b[0m             \u001b[1;31m#print(\"lalal\")\u001b[0m\u001b[1;33m\u001b[0m\u001b[1;33m\u001b[0m\u001b[0m\n\u001b[0;32m    281\u001b[0m             \u001b[0mself\u001b[0m\u001b[1;33m.\u001b[0m\u001b[0m__processed_request_list\u001b[0m\u001b[1;33m.\u001b[0m\u001b[0mappend\u001b[0m\u001b[1;33m(\u001b[0m\u001b[0mprocessed_request\u001b[0m\u001b[1;33m)\u001b[0m\u001b[1;33m\u001b[0m\u001b[0m\n",
      "\u001b[1;31mAttributeError\u001b[0m: 'NoneType' object has no attribute 'getLeftCell'"
     ]
    }
   ],
   "source": [
    "times_long_1 = runGenerator(config5)"
   ]
  },
  {
   "cell_type": "code",
   "execution_count": null,
   "metadata": {
    "collapsed": true
   },
   "outputs": [],
   "source": [
    "times_long_2 = runGenerator(config5)"
   ]
  },
  {
   "cell_type": "code",
   "execution_count": null,
   "metadata": {
    "collapsed": true
   },
   "outputs": [],
   "source": []
  },
  {
   "cell_type": "code",
   "execution_count": null,
   "metadata": {
    "collapsed": true
   },
   "outputs": [],
   "source": []
  },
  {
   "cell_type": "code",
   "execution_count": null,
   "metadata": {
    "collapsed": true
   },
   "outputs": [],
   "source": []
  },
  {
   "cell_type": "code",
   "execution_count": null,
   "metadata": {
    "collapsed": true
   },
   "outputs": [],
   "source": []
  },
  {
   "cell_type": "code",
   "execution_count": null,
   "metadata": {
    "collapsed": true
   },
   "outputs": [],
   "source": []
  },
  {
   "cell_type": "code",
   "execution_count": null,
   "metadata": {
    "collapsed": true
   },
   "outputs": [],
   "source": []
  },
  {
   "cell_type": "code",
   "execution_count": null,
   "metadata": {
    "collapsed": true
   },
   "outputs": [],
   "source": []
  },
  {
   "cell_type": "code",
   "execution_count": null,
   "metadata": {
    "collapsed": true
   },
   "outputs": [],
   "source": []
  },
  {
   "cell_type": "code",
   "execution_count": null,
   "metadata": {
    "collapsed": true
   },
   "outputs": [],
   "source": []
  },
  {
   "cell_type": "code",
   "execution_count": null,
   "metadata": {
    "collapsed": true
   },
   "outputs": [],
   "source": []
  },
  {
   "cell_type": "code",
   "execution_count": null,
   "metadata": {
    "collapsed": true
   },
   "outputs": [],
   "source": [
    "import TracyWidom\n",
    "\n",
    "TW = TracyWidom.TracyWidom(2)\n",
    "y = TW.pdf(np.linspace(-5, 5, 1000))\n",
    "\n",
    "class DensityInstance():\n",
    "    def __init__(self, density_y, density_x = None):\n",
    "        self.density_y = np.array(density_y)\n",
    "        if density_x:\n",
    "            self.density_x = np.array(density_x)\n",
    "        else:\n",
    "            self.density_x = np.linspace(0, len(density_y), 1)\n",
    "    def shift(self, shift_val, fulfill = False, cut = False):\n",
    "        if not fulfill:\n",
    "            self.density_x += shift\n",
    "        else:\n",
    "            new_y = np.array([0.0 for i in range(len(self.density_y) + shift_val)])\n",
    "            for i in range(len(self.density_y)):\n",
    "                new_y[i + shift_val] = self.density_y[i]\n",
    "            self.density_y = new_y\n",
    "    def scale(self, coef):\n",
    "        new_y = np.array([0. for i in range((int(len(self.density_y) * (coef + 1))))])\n",
    "        for i in range(len(self.density_y)):\n",
    "            new_y[int(i * coef)] = self.density_y[i]\n",
    "\n",
    "        self.density_y = new_y\n",
    "    def vertScale(self, coef):\n",
    "        self.density_y *= coef\n",
    "    def add(self, y):\n",
    "        new_y = np.array([0.0 for i in range(max(len(y) , len(self.density_y)))])\n",
    "        for i in range(min(len(y), len(self.density_y))):\n",
    "            new_y[i] = y[i] + self.density_y[i]\n",
    "        if len(self.density_y) > len(y):\n",
    "            for i in range(len(y), len(self.density_y)):\n",
    "                new_y[i] = self.density_y[i]\n",
    "        else:\n",
    "            for i in range(len(self.density_y),len(y)):\n",
    "                new_y[i] = y[i]\n",
    "        self.density_y = new_y\n",
    "\n",
    "main_d = DensityInstance(y)\n",
    "scaled_cassandra_density_3 = cassandra_density_3[100:500]\n",
    "cass_prop = np.array(scaled_cassandra_density_3, 'float64') / len(cassandra_density_3) \n",
    "\n",
    "main_d.vertScale( max(cass_prop) / max(main_d.density_y))\n",
    "\n",
    "#for type 1\n",
    "main_d.scale(.30)\n",
    "main_d.shift(141, True)\n",
    "\n",
    "small_d = DensityInstance(y)\n",
    "small_d.vertScale( max(cass_prop[:170]) / max(small_d.density_y))\n",
    "\n",
    "small_d.scale(.22)\n",
    "small_d.shift(62, True)\n",
    "\n",
    "main_d.add(small_d.density_y)\n",
    "plotDensity([main_d.density_y, cass_prop],right = 350,height = 20, width = 16)\n",
    "\n",
    "\n",
    "coef = 1000\n",
    "cass_prop *= coef\n",
    "main_d.density_y *= coef\n",
    "\n",
    "#cass_prop = (cass_prop)\n",
    "#main_d.density_y = int(main_d.density_y)\n",
    "\n",
    "#cass_prop_sample = sampleFromDensity(cass_prop)\n",
    "#main_d_sample = sampleFromDensity(main_d.density_y)\n",
    "\n",
    "#plotDensity([cass_prop_sample, main])\n",
    "\n",
    "cass_prop = np.array(cass_prop, 'int')[:400]\n",
    "main_d.density_y = np.array(main_d.density_y, 'int')[:400]\n",
    "\n",
    "\n",
    "cps = sampleFromDensity(cass_prop)\n",
    "mds = sampleFromDensity(main_d.density_y)\n",
    "\n",
    "cpd = np.array(Distribution(cps)) / sum(cps)\n",
    "mdd = np.array(Distribution(mds)) / sum(mds)\n",
    "plt.plot(cpd)\n",
    "plt.plot(mdd)\n",
    "\n",
    "print(stats.mstats.ks_twosamp(cps, mds))"
   ]
  },
  {
   "cell_type": "code",
   "execution_count": null,
   "metadata": {
    "collapsed": true
   },
   "outputs": [],
   "source": []
  }
 ],
 "metadata": {
  "kernelspec": {
   "display_name": "Python 2",
   "language": "python",
   "name": "python2"
  },
  "language_info": {
   "codemirror_mode": {
    "name": "ipython",
    "version": 2
   },
   "file_extension": ".py",
   "mimetype": "text/x-python",
   "name": "python",
   "nbconvert_exporter": "python",
   "pygments_lexer": "ipython2",
   "version": "2.7.11"
  }
 },
 "nbformat": 4,
 "nbformat_minor": 0
}
