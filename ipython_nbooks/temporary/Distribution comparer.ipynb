{
 "cells": [
  {
   "cell_type": "raw",
   "metadata": {},
   "source": [
    "Nessasary imports"
   ]
  },
  {
   "cell_type": "code",
   "execution_count": 1,
   "metadata": {
    "collapsed": false
   },
   "outputs": [],
   "source": [
    "%matplotlib inline\n",
    "import pandas as pd\n",
    "import numpy as np\n",
    "import distribution_generator as dg\n",
    "from scipy import stats\n",
    "import matplotlib.pyplot as plt\n",
    "import matplotlib.patches as mpatches\n",
    "\n",
    "\n",
    "\n",
    "from random import lognormvariate, normalvariate\n",
    "\n",
    "from sklearn.neighbors import KernelDensity\n",
    "\n",
    "import imports\n",
    "import os\n",
    "import json\n",
    "\n",
    "from IPython.display import Audio\n",
    "sound_file = './call.wav'"
   ]
  },
  {
   "cell_type": "code",
   "execution_count": 2,
   "metadata": {
    "collapsed": false
   },
   "outputs": [],
   "source": [
    "ALLERT = Audio(url=sound_file, autoplay=True)"
   ]
  },
  {
   "cell_type": "raw",
   "metadata": {},
   "source": [
    "Functions to convert sample - density - distribution.\n",
    "Config reader and RG starter"
   ]
  },
  {
   "cell_type": "markdown",
   "metadata": {},
   "source": [
    "KS tests for Cassandra runs"
   ]
  },
  {
   "cell_type": "markdown",
   "metadata": {},
   "source": [
    "HERE I START WORKING WITH NEW RD FORMAT\n",
    "\n",
    "***********************************************************************\n",
    "\n"
   ]
  },
  {
   "cell_type": "code",
   "execution_count": 3,
   "metadata": {
    "collapsed": true
   },
   "outputs": [],
   "source": [
    "def log_progress(sequence, every=None, size=None):\n",
    "    from ipywidgets import IntProgress, HTML, VBox\n",
    "    from IPython.display import display\n",
    "\n",
    "    is_iterator = False\n",
    "    if size is None:\n",
    "        try:\n",
    "            size = len(sequence)\n",
    "        except TypeError:\n",
    "            is_iterator = True\n",
    "    if size is not None:\n",
    "        if every is None:\n",
    "            if size <= 200:\n",
    "                every = 1\n",
    "            else:\n",
    "                every = size / 200     # every 0.5%\n",
    "    else:\n",
    "        assert every is not None, 'sequence is iterator, set every'\n",
    "\n",
    "    if is_iterator:\n",
    "        progress = IntProgress(min=0, max=1, value=1)\n",
    "        progress.bar_style = 'info'\n",
    "    else:\n",
    "        progress = IntProgress(min=0, max=size, value=0)\n",
    "    label = HTML()\n",
    "    box = VBox(children=[label, progress])\n",
    "    display(box)\n",
    "\n",
    "    index = 0\n",
    "    try:\n",
    "        for index, record in enumerate(sequence, 1):\n",
    "            if index == 1 or index % every == 0:\n",
    "                if is_iterator:\n",
    "                    label.value = '{index} / ?'.format(index=index)\n",
    "                else:\n",
    "                    progress.value = index\n",
    "                    label.value = u'{index} / {size}'.format(\n",
    "                        index=index,\n",
    "                        size=size\n",
    "                    )\n",
    "            yield record\n",
    "    except:\n",
    "        progress.bar_style = 'danger'\n",
    "        raise\n",
    "    else:\n",
    "        progress.bar_style = 'success'\n",
    "        progress.value = index\n",
    "        label.value = str(index or '?')"
   ]
  },
  {
   "cell_type": "code",
   "execution_count": 4,
   "metadata": {
    "collapsed": false
   },
   "outputs": [],
   "source": [
    "def plotDensity(densities, log_flag = False, height = 4, width = 12, left = None, right = None, axes_limits = None,\n",
    "               colors = None, name = None):\n",
    "    \n",
    "    if type(densities[0]) != list and type(densities[0]) != np.ndarray:\n",
    "        densities = [densities]\n",
    "    fig = plt.figure(figsize=(width, height))\n",
    "    ax = fig.add_subplot(1,1,1)\n",
    "\n",
    "    if axes_limits:\n",
    "        ax.axis(axes_limits)\n",
    "        ax = plt.gca()\n",
    "        ax.set_autoscale_on(False)\n",
    "\n",
    "    if left is None:\n",
    "        left = 0\n",
    "    if right is None:\n",
    "        right = len(densities[0])\n",
    "        \n",
    "    for i in range(len(densities)):\n",
    "        density = densities[i]\n",
    "        if colors is None:\n",
    "            ax.plot(density[left : right])\n",
    "        else:\n",
    "            ax.plot(density[left : right], colors[i])\n",
    "   \n",
    "    if not name is None: \n",
    "        fig.savefig(name)\n",
    "    if log_flag:\n",
    "        ax.set_xscale('log')\n",
    "        ax.set_yscale('log')\n",
    "    plt.show()"
   ]
  },
  {
   "cell_type": "code",
   "execution_count": 5,
   "metadata": {
    "collapsed": false,
    "scrolled": true
   },
   "outputs": [
    {
     "name": "stdout",
     "output_type": "stream",
     "text": [
      "asasas\n",
      "Granada-d-10000-600-2016.04.08-13.27.33-ycsb-run-READ.rd\n",
      "asasas\n",
      "Highlander-d-10000-1800-2016.04.08-09.16.33-ycsb-run-READ.rd\n",
      "asasas\n",
      "Dev-d-10000-1800-2016.04.08-15.59.41-ycsb-run-READ.rd\n",
      "asasas\n",
      "Highlander-d-10000-1800-2016.04.08-08.44.09-ycsb-run-READ.rd\n",
      "asasas\n",
      "Granada-d-10000-600-2016.04.08-13.15.11-ycsb-run-READ.rd\n",
      "asasas\n",
      "Dev-d-10000-600-2016.04.08-15.34.53-ycsb-run-READ.rd\n",
      "asasas\n",
      "Dev-d-10000-600-2016.04.08-15.47.16-ycsb-run-READ.rd\n",
      "asasas\n",
      "Granada-d-10000-1800-2016.04.08-14.44.42-ycsb-run-READ.rd\n",
      "asasas\n",
      "Highlander-d-10000-600-2016.04.08-08.19.19-ycsb-run-READ.rd\n",
      "asasas\n",
      "Highlander-d-10000-1800-2016.04.08-09.48.58-ycsb-run-READ.rd\n",
      "asasas\n",
      "Granada-d-10000-600-2016.04.08-13.02.39-ycsb-run-READ.rd\n",
      "asasas\n",
      "Dev-d-10000-600-2016.04.08-15.22.26-ycsb-run-READ.rd\n",
      "asasas\n",
      "Granada-d-10000-1800-2016.04.08-13.39.55-ycsb-run-READ.rd\n",
      "asasas\n",
      "Highlander-d-10000-600-2016.04.08-08.06.57-ycsb-run-READ.rd\n",
      "asasas\n",
      "Granada-d-10000-1800-2016.04.08-14.12.18-ycsb-run-READ.rd\n",
      "asasas\n",
      "Highlander-d-10000-600-2016.04.08-08.31.44-ycsb-run-READ.rd\n"
     ]
    }
   ],
   "source": [
    "runs_dir = \"/home/anton/azul/New_config_latency_runs/all0408RD/\"\n",
    "\n",
    "\n",
    "runs = dict(zip(['Dev', 'Granada', 'Highlander'], [[],[],[]]))\n",
    "\n",
    "for run_file_name in os.listdir(runs_dir):\n",
    "    if run_file_name.endswith(\"READ.rd\"):\n",
    "        x, curr_pdf, curr_cdf = imports.readRD(run_file_name, runs_dir, scale = True)\n",
    "        \n",
    "        \n",
    "        if run_file_name.split('-')[3] == '600':\n",
    "            runs[run_file_name.split('-')[0]].insert(0, curr_pdf)\n",
    "        if run_file_name.split('-')[3] == '1800':\n",
    "            runs[run_file_name.split('-')[0]].append(curr_pdf)\n",
    "        \n",
    "        print run_file_name"
   ]
  },
  {
   "cell_type": "code",
   "execution_count": 6,
   "metadata": {
    "collapsed": false
   },
   "outputs": [
    {
     "name": "stdout",
     "output_type": "stream",
     "text": [
      "asasas\n",
      "Granada-d-10000-600-2016.04.08-13.15.11-ycsb-run-INSERT.rd\n",
      "asasas\n",
      "Granada-d-10000-1800-2016.04.08-14.44.42-ycsb-run-INSERT.rd\n",
      "asasas\n",
      "Dev-d-10000-600-2016.04.08-15.34.53-ycsb-run-INSERT.rd\n",
      "asasas\n",
      "Dev-d-10000-1800-2016.04.08-15.59.41-ycsb-run-INSERT.rd\n",
      "asasas\n",
      "Granada-d-10000-1800-2016.04.08-14.12.18-ycsb-run-INSERT.rd\n",
      "asasas\n",
      "Highlander-d-10000-600-2016.04.08-08.31.44-ycsb-run-INSERT.rd\n",
      "asasas\n",
      "Highlander-d-10000-1800-2016.04.08-08.44.09-ycsb-run-INSERT.rd\n",
      "asasas\n",
      "Highlander-d-10000-600-2016.04.08-08.06.57-ycsb-run-INSERT.rd\n",
      "asasas\n",
      "Granada-d-10000-1800-2016.04.08-13.39.55-ycsb-run-INSERT.rd\n",
      "asasas\n",
      "Dev-d-10000-600-2016.04.08-15.22.26-ycsb-run-INSERT.rd\n",
      "asasas\n",
      "Granada-d-10000-600-2016.04.08-13.27.33-ycsb-run-INSERT.rd\n",
      "asasas\n",
      "Dev-d-10000-600-2016.04.08-15.47.16-ycsb-run-INSERT.rd\n",
      "asasas\n",
      "Highlander-d-10000-600-2016.04.08-08.19.19-ycsb-run-INSERT.rd\n",
      "asasas\n",
      "Highlander-d-10000-1800-2016.04.08-09.48.58-ycsb-run-INSERT.rd\n",
      "asasas\n",
      "Highlander-d-10000-1800-2016.04.08-09.16.33-ycsb-run-INSERT.rd\n",
      "asasas\n",
      "Granada-d-10000-600-2016.04.08-13.02.39-ycsb-run-INSERT.rd\n"
     ]
    }
   ],
   "source": [
    "runs_dir = \"/home/anton/azul/New_config_latency_runs/all0408RD/\"\n",
    "\n",
    "\n",
    "runs_ins = dict(zip(['Dev', 'Granada', 'Highlander'], [[],[],[]]))\n",
    "\n",
    "for run_file_name in os.listdir(runs_dir):\n",
    "    if run_file_name.endswith(\"INSERT.rd\"):\n",
    "        x, curr_pdf, curr_cdf = imports.readRD(run_file_name, runs_dir, scale = True)\n",
    "        \n",
    "        \n",
    "        if run_file_name.split('-')[3] == '600':\n",
    "            runs_ins[run_file_name.split('-')[0]].insert(0, curr_pdf)\n",
    "        if run_file_name.split('-')[3] == '1800':\n",
    "            runs_ins[run_file_name.split('-')[0]].append(curr_pdf)\n",
    "        \n",
    "        print run_file_name"
   ]
  },
  {
   "cell_type": "code",
   "execution_count": 7,
   "metadata": {
    "collapsed": false
   },
   "outputs": [],
   "source": [
    "def buildtrustedInterval(percentile_sample, interval):\n",
    "    percentile_std = np.std(percentile_sample)\n",
    "    percentile_mean = np.mean(percentile_sample)\n",
    "    \n",
    "    return percentile_mean,stats.norm.ppf(1 - (1 - interval)/ 2, loc = percentile_mean, scale = percentile_std), 2 *percentile_mean - stats.norm.ppf(1 - (1 - interval)/ 2, loc = percentile_mean, scale = percentile_std)"
   ]
  },
  {
   "cell_type": "code",
   "execution_count": 8,
   "metadata": {
    "collapsed": false,
    "scrolled": false
   },
   "outputs": [
    {
     "data": {
      "image/png": "[encoded data removed]",
      "text/plain": [
       "<matplotlib.figure.Figure at 0x7f3a5c6ce650>"
      ]
     },
     "metadata": {},
     "output_type": "display_data"
    }
   ],
   "source": [
    "fig = plt.figure(figsize=(20, 10))\n",
    "ax = fig.add_subplot(1,1,1)\n",
    "\n",
    "axes_limits = [0,1000, 0, 0.01]\n",
    "colors = ['r']*4 + ['g']*6 + ['b']*6\n",
    "densities = runs['Dev'] + runs['Highlander'] + runs['Granada']\n",
    "\n",
    "if len(axes_limits) == 4: \n",
    "    ax.axis(axes_limits)\n",
    "    ax = plt.gca()\n",
    "    ax.set_autoscale_on(False)\n",
    "\n",
    "for i in range(len(densities)):\n",
    "    density = densities[i]\n",
    "    if colors is None:\n",
    "        ax.plot(density)\n",
    "    else:\n",
    "        ax.plot(density, colors[i])\n",
    "\n",
    "red_patch = mpatches.Patch(color='red', label='Dev 600s + 1800s runs')\n",
    "blue_patch = mpatches.Patch(color='blue', label='Granada 600s + 1800s runs')\n",
    "green_patch = mpatches.Patch(color='green', label='Highlander 600s + 1800s runs')\n",
    "ax.legend(handles=[red_patch, blue_patch, green_patch])\n",
    "ax.set_title(\"Cassandra 3.2.1 single node, D READ\", loc = 'center')\n",
    "\n",
    "fig.savefig('DevHlanderGran.png')"
   ]
  },
  {
   "cell_type": "code",
   "execution_count": 12,
   "metadata": {
    "collapsed": false,
    "scrolled": false
   },
   "outputs": [
    {
     "data": {
      "image/png": "[encoded data removed]",
      "text/plain": [
       "<matplotlib.figure.Figure at 0x7f8f59b78e50>"
      ]
     },
     "metadata": {},
     "output_type": "display_data"
    }
   ],
   "source": [
    "fig = plt.figure(figsize=(20, 10))\n",
    "ax = fig.add_subplot(1,1,1)\n",
    "\n",
    "axes_limits = [20000,50000, 0, 0.00001]\n",
    "colors = ['r']*4 + ['g']*6 + ['b']*6\n",
    "densities_ins = runs_ins['Dev']# + runs_ins['Highlander'] + runs_ins['Granada']\n",
    "\n",
    "if len(axes_limits) == 4: \n",
    "    ax.axis(axes_limits)\n",
    "    ax = plt.gca()\n",
    "    ax.set_autoscale_on(False)\n",
    "\n",
    "for i in range(len(densities_ins)):\n",
    "    density = densities_ins[i]\n",
    "    if colors is None:\n",
    "        ax.plot(density)\n",
    "    else:\n",
    "        ax.plot(density, colors[i])\n",
    "\n",
    "red_patch = mpatches.Patch(color='red', label='Dev 600s + 1800s runs')\n",
    "blue_patch = mpatches.Patch(color='blue', label='Granada 600s + 1800s runs')\n",
    "green_patch = mpatches.Patch(color='green', label='Highlander 600s + 1800s runs')\n",
    "ax.legend(handles=[red_patch, blue_patch, green_patch])\n",
    "ax.set_title(\"Cassandra 3.2.1 single node D INSERT\", loc = 'center')\n",
    "\n",
    "fig.savefig('DevHlanderGran_Ins.png')"
   ]
  },
  {
   "cell_type": "markdown",
   "metadata": {},
   "source": [
    "This Highlander run is better than others and it is the last one \n",
    "Highlander-d-10000-1800-2016.04.08-09.48.58-ycsb-run-READ.rd\n",
    "\n",
    "It's also last for Granada\n",
    "Granada-d-10000-1800-2016.04.08-14.12.18-ycsb-run-READ.rd\n",
    "\n",
    "For Dev it's not\n",
    "Dev-d-10000-600-2016.04.08-15.47.16-ycsb-run-READ.rd"
   ]
  },
  {
   "cell_type": "code",
   "execution_count": null,
   "metadata": {
    "collapsed": true
   },
   "outputs": [],
   "source": []
  },
  {
   "cell_type": "code",
   "execution_count": null,
   "metadata": {
    "collapsed": true
   },
   "outputs": [],
   "source": []
  },
  {
   "cell_type": "code",
   "execution_count": null,
   "metadata": {
    "collapsed": true
   },
   "outputs": [],
   "source": []
  },
  {
   "cell_type": "code",
   "execution_count": null,
   "metadata": {
    "collapsed": true
   },
   "outputs": [],
   "source": []
  },
  {
   "cell_type": "code",
   "execution_count": null,
   "metadata": {
    "collapsed": true
   },
   "outputs": [],
   "source": []
  },
  {
   "cell_type": "code",
   "execution_count": null,
   "metadata": {
    "collapsed": true
   },
   "outputs": [],
   "source": []
  },
  {
   "cell_type": "markdown",
   "metadata": {},
   "source": [
    "### PLAY WITH LOGNORMAL"
   ]
  },
  {
   "cell_type": "code",
   "execution_count": 13,
   "metadata": {
    "collapsed": true
   },
   "outputs": [],
   "source": [
    "def lgnrm(x, mu = 1, sigma = 1):\n",
    "    return 1.0 / (np.sqrt(2*np.pi)*sigma*x)  * np.exp(-(np.log(x) - mu)**2 / (2*sigma**2) )\n",
    "\n",
    "def lgnrmMix(x, p1, p2, mu1, mu2, sigma1, sigma2):\n",
    "    return p1*lgnrm(x,mu1,sigma1) + p2*lgnrm(x,mu2,sigma2)"
   ]
  },
  {
   "cell_type": "code",
   "execution_count": 16,
   "metadata": {
    "collapsed": false
   },
   "outputs": [
    {
     "ename": "NameError",
     "evalue": "name 'test' is not defined",
     "output_type": "error",
     "traceback": [
      "\u001b[1;31m---------------------------------------------------------------------------\u001b[0m",
      "\u001b[1;31mNameError\u001b[0m                                 Traceback (most recent call last)",
      "\u001b[1;32m<ipython-input-16-666975330abe>\u001b[0m in \u001b[0;36m<module>\u001b[1;34m()\u001b[0m\n\u001b[0;32m     15\u001b[0m \u001b[1;33m\u001b[0m\u001b[0m\n\u001b[0;32m     16\u001b[0m \u001b[1;32mfor\u001b[0m \u001b[0mmu1\u001b[0m\u001b[1;33m,\u001b[0m\u001b[0mmu2\u001b[0m\u001b[1;33m,\u001b[0m\u001b[0msigma1\u001b[0m\u001b[1;33m,\u001b[0m\u001b[0msigma2\u001b[0m \u001b[1;32min\u001b[0m \u001b[0mproduct\u001b[0m\u001b[1;33m(\u001b[0m\u001b[0mmu1_range\u001b[0m\u001b[1;33m,\u001b[0m\u001b[0mmu2_range\u001b[0m\u001b[1;33m,\u001b[0m \u001b[0msigma1_range\u001b[0m\u001b[1;33m,\u001b[0m \u001b[0msigma2_range\u001b[0m\u001b[1;33m)\u001b[0m\u001b[1;33m:\u001b[0m\u001b[1;33m\u001b[0m\u001b[0m\n\u001b[1;32m---> 17\u001b[1;33m     \u001b[0mcurr_err\u001b[0m \u001b[1;33m=\u001b[0m \u001b[0mnp\u001b[0m\u001b[1;33m.\u001b[0m\u001b[0msum\u001b[0m\u001b[1;33m(\u001b[0m\u001b[0mabs\u001b[0m\u001b[1;33m(\u001b[0m\u001b[0mlgnrmMix\u001b[0m\u001b[1;33m(\u001b[0m\u001b[0mnp\u001b[0m\u001b[1;33m.\u001b[0m\u001b[0marange\u001b[0m\u001b[1;33m(\u001b[0m\u001b[1;36m1\u001b[0m\u001b[1;33m,\u001b[0m \u001b[1;36m1000\u001b[0m\u001b[1;33m)\u001b[0m\u001b[1;33m,\u001b[0m \u001b[0mp1\u001b[0m\u001b[1;33m,\u001b[0m \u001b[0mp2\u001b[0m\u001b[1;33m,\u001b[0m \u001b[0mmu1\u001b[0m\u001b[1;33m,\u001b[0m \u001b[0mmu2\u001b[0m\u001b[1;33m,\u001b[0m \u001b[0msigma1\u001b[0m\u001b[1;33m,\u001b[0m \u001b[0msigma2\u001b[0m\u001b[1;33m)\u001b[0m \u001b[1;33m-\u001b[0m \u001b[0mtest\u001b[0m\u001b[1;33m[\u001b[0m\u001b[1;36m1\u001b[0m\u001b[1;33m:\u001b[0m\u001b[1;36m1000\u001b[0m\u001b[1;33m]\u001b[0m\u001b[1;33m)\u001b[0m\u001b[1;33m)\u001b[0m\u001b[1;33m\u001b[0m\u001b[0m\n\u001b[0m\u001b[0;32m     18\u001b[0m     \u001b[1;32mif\u001b[0m \u001b[0mcurr_err\u001b[0m \u001b[1;33m<\u001b[0m \u001b[0mmin_err\u001b[0m\u001b[1;33m:\u001b[0m\u001b[1;33m\u001b[0m\u001b[0m\n\u001b[0;32m     19\u001b[0m         \u001b[0mmin_err\u001b[0m \u001b[1;33m=\u001b[0m \u001b[0mcurr_err\u001b[0m\u001b[1;33m\u001b[0m\u001b[0m\n",
      "\u001b[1;31mNameError\u001b[0m: name 'test' is not defined"
     ]
    }
   ],
   "source": [
    "from itertools import product\n",
    "\n",
    "mu1_range = np.linspace(5.5, 8, 10)\n",
    "mu2_range = np.linspace(6, 9, 15)\n",
    "sigma1_range = np.linspace(6, 10, 10)\n",
    "sigma2_range = np.linspace(6, 12, 15)\n",
    "p1 = 0.091\n",
    "p2 = 1 - p1\n",
    "\n",
    "min_err = 10000\n",
    "min_mu1 = 0\n",
    "min_mu2 = 0\n",
    "min_sigma1 = 0\n",
    "min_sigma2 = 0\n",
    "\n",
    "for mu1,mu2,sigma1,sigma2 in product(mu1_range,mu2_range, sigma1_range, sigma2_range):\n",
    "    curr_err = np.sum(abs(lgnrmMix(np.arange(1, 1000), p1, p2, mu1, mu2, sigma1, sigma2) - test[1:1000]))\n",
    "    if curr_err < min_err:\n",
    "        min_err = curr_err\n",
    "        min_mu1 = mu1\n",
    "        min_mu2 = mu2\n",
    "        min_sigma1 = sigma1\n",
    "        min_sigma2 = sigma2"
   ]
  },
  {
   "cell_type": "code",
   "execution_count": 17,
   "metadata": {
    "collapsed": false
   },
   "outputs": [
    {
     "name": "stdout",
     "output_type": "stream",
     "text": [
      "0\n",
      "0\n",
      "0\n",
      "0\n"
     ]
    }
   ],
   "source": [
    "print min_mu1\n",
    "print min_mu2\n",
    "print min_sigma1\n",
    "print min_sigma2"
   ]
  },
  {
   "cell_type": "code",
   "execution_count": 15,
   "metadata": {
    "collapsed": false
   },
   "outputs": [
    {
     "ename": "NameError",
     "evalue": "name 'test' is not defined",
     "output_type": "error",
     "traceback": [
      "\u001b[1;31m---------------------------------------------------------------------------\u001b[0m",
      "\u001b[1;31mNameError\u001b[0m                                 Traceback (most recent call last)",
      "\u001b[1;32m<ipython-input-15-1f34dbf545b1>\u001b[0m in \u001b[0;36m<module>\u001b[1;34m()\u001b[0m\n\u001b[1;32m----> 1\u001b[1;33m \u001b[0mplotDensity\u001b[0m\u001b[1;33m(\u001b[0m\u001b[1;33m[\u001b[0m\u001b[0mlgnrmMix\u001b[0m\u001b[1;33m(\u001b[0m\u001b[0mnp\u001b[0m\u001b[1;33m.\u001b[0m\u001b[0marray\u001b[0m\u001b[1;33m(\u001b[0m\u001b[0mrange\u001b[0m\u001b[1;33m(\u001b[0m\u001b[1;36m1\u001b[0m\u001b[1;33m,\u001b[0m\u001b[1;36m1000\u001b[0m\u001b[1;33m)\u001b[0m\u001b[1;33m)\u001b[0m\u001b[1;33m,\u001b[0m\u001b[0mp1\u001b[0m\u001b[1;33m,\u001b[0m \u001b[0mp2\u001b[0m\u001b[1;33m,\u001b[0m \u001b[0mmin_mu1\u001b[0m \u001b[1;33m,\u001b[0m \u001b[0mmin_mu2\u001b[0m\u001b[1;33m,\u001b[0m\u001b[0mmin_sigma1\u001b[0m\u001b[1;33m,\u001b[0m\u001b[0mmin_sigma2\u001b[0m\u001b[1;33m)\u001b[0m\u001b[1;33m,\u001b[0m \u001b[0mtest\u001b[0m\u001b[1;33m]\u001b[0m\u001b[1;33m)\u001b[0m\u001b[1;33m\u001b[0m\u001b[0m\n\u001b[0m",
      "\u001b[1;31mNameError\u001b[0m: name 'test' is not defined"
     ]
    }
   ],
   "source": [
    "plotDensity([lgnrmMix(np.array(range(1,1000)),p1, p2, min_mu1 , min_mu2,min_sigma1,min_sigma2), test])"
   ]
  },
  {
   "cell_type": "code",
   "execution_count": 375,
   "metadata": {
    "collapsed": false
   },
   "outputs": [],
   "source": [
    "mu1_range = np.linspace(6, 6.5, 100)\n",
    "sigma1_range = np.linspace(0.05, 0.15, 100)\n",
    "p1_range = np.linspace(0.5, 0.9, 10)\n",
    "\n",
    "min_err = 10000\n",
    "min_mu1 = 0\n",
    "min_mu2 = 0\n",
    "min_sigma1 = 0\n",
    "min_sigma2 = 0\n",
    "min_p1 = 0\n",
    "\n",
    "for mu1,sigma1,p1 in product(mu1_range, sigma1_range, p1_range):\n",
    "    curr_err = np.sum(abs(p1 * lgnrm(np.arange(420, 520), mu1, sigma1) - test[420:520]))\n",
    "    if curr_err < min_err:\n",
    "        min_err = curr_err\n",
    "        min_mu1 = mu1\n",
    "        min_mu2 = mu2\n",
    "        min_sigma1 = sigma1\n",
    "        min_sigma2 = sigma2\n",
    "        min_p1 = p1"
   ]
  },
  {
   "cell_type": "code",
   "execution_count": 376,
   "metadata": {
    "collapsed": false,
    "scrolled": true
   },
   "outputs": [
    {
     "name": "stdout",
     "output_type": "stream",
     "text": [
      "6.17676767677\n",
      "0.080303030303\n",
      "0.677777777778\n"
     ]
    }
   ],
   "source": [
    "print min_mu1\n",
    "print min_sigma1\n",
    "print min_p1\n"
   ]
  },
  {
   "cell_type": "code",
   "execution_count": 387,
   "metadata": {
    "collapsed": false,
    "scrolled": true
   },
   "outputs": [
    {
     "data": {
      "image/png": "[encoded data removed]",
      "text/plain": [
       "<matplotlib.figure.Figure at 0x7f4739477c10>"
      ]
     },
     "metadata": {},
     "output_type": "display_data"
    }
   ],
   "source": [
    "mu_1 = min_mu1\n",
    "sigma_1 = min_sigma1\n",
    "p_1 = min_p1\n",
    "\n",
    "plotDensity([p_1 *lgnrm(np.array(range(1, 1000)),mu_1, sigma_1), test[1:1000]], name = '1iter.png')\n",
    "\n"
   ]
  },
  {
   "cell_type": "code",
   "execution_count": 399,
   "metadata": {
    "collapsed": true
   },
   "outputs": [],
   "source": [
    "test_2 = - p_1 *lgnrm(np.array(range(1, 1000)),mu_1, sigma_1) + test[1:1000]\n",
    "mu1_range = np.linspace(5, 6.5, 100)\n",
    "sigma1_range = np.linspace(0.05, 0.1, 100)\n",
    "p1_range = np.linspace(0.08, 0.11, 10)\n",
    "\n",
    "min_err = 10000\n",
    "min_mu1 = 0\n",
    "min_mu2 = 0\n",
    "min_sigma1 = 0\n",
    "min_sigma2 = 0\n",
    "min_p1 = 0\n",
    "\n",
    "for mu1,sigma1,p1 in product(mu1_range, sigma1_range, p1_range):\n",
    "    curr_err = np.sum(abs(p1 * lgnrm(np.arange(320, 420), mu1, sigma1) - test_2[320:420]))\n",
    "    if curr_err < min_err:\n",
    "        min_err = curr_err\n",
    "        min_mu1 = mu1\n",
    "        min_mu2 = mu2\n",
    "        min_sigma1 = sigma1\n",
    "        min_sigma2 = sigma2\n",
    "        min_p1 = p1"
   ]
  },
  {
   "cell_type": "code",
   "execution_count": 400,
   "metadata": {
    "collapsed": false
   },
   "outputs": [
    {
     "name": "stdout",
     "output_type": "stream",
     "text": [
      "5.86363636364\n",
      "0.0808080808081\n",
      "0.103333333333\n"
     ]
    }
   ],
   "source": [
    "print min_mu1\n",
    "print min_sigma1\n",
    "print min_p1\n"
   ]
  },
  {
   "cell_type": "code",
   "execution_count": 401,
   "metadata": {
    "collapsed": false
   },
   "outputs": [
    {
     "data": {
      "image/png": "[encoded data removed]",
      "text/plain": [
       "<matplotlib.figure.Figure at 0x7f4723063190>"
      ]
     },
     "metadata": {},
     "output_type": "display_data"
    }
   ],
   "source": [
    "plotDensity([ min_p1 *lgnrm(np.array(range(1, 1000)),min_mu1, min_sigma1), test_2[1:1000]], name = 'iter2.png')"
   ]
  },
  {
   "cell_type": "code",
   "execution_count": 393,
   "metadata": {
    "collapsed": true
   },
   "outputs": [],
   "source": [
    "mu_2 = min_mu1\n",
    "sigma_2 = min_sigma1\n",
    "p_2 = min_p1\n"
   ]
  },
  {
   "cell_type": "code",
   "execution_count": 394,
   "metadata": {
    "collapsed": false
   },
   "outputs": [],
   "source": [
    "test_3 = test_2 - p_2 *lgnrm(np.array(range(1, 1000)),mu_2, sigma_2)"
   ]
  },
  {
   "cell_type": "code",
   "execution_count": 395,
   "metadata": {
    "collapsed": false
   },
   "outputs": [
    {
     "data": {
      "text/plain": [
       "[<matplotlib.lines.Line2D at 0x7f4722e30510>]"
      ]
     },
     "execution_count": 395,
     "metadata": {},
     "output_type": "execute_result"
    },
    {
     "data": {
      "image/png": "[encoded data removed]",
      "text/plain": [
       "<matplotlib.figure.Figure at 0x7f47238da7d0>"
      ]
     },
     "metadata": {},
     "output_type": "display_data"
    }
   ],
   "source": [
    "plt.plot(test_3)"
   ]
  },
  {
   "cell_type": "code",
   "execution_count": 402,
   "metadata": {
    "collapsed": true
   },
   "outputs": [],
   "source": [
    "mu1_range = np.linspace(5, 6.5, 100)\n",
    "sigma1_range = np.linspace(0.05, 0.3, 100)\n",
    "p1_range = np.linspace(0.01, 0.3, 10)\n",
    "\n",
    "min_err = 10000\n",
    "min_mu1 = 0\n",
    "min_mu2 = 0\n",
    "min_sigma1 = 0\n",
    "min_sigma2 = 0\n",
    "min_p1 = 0\n",
    "\n",
    "for mu1,sigma1,p1 in product(mu1_range, sigma1_range, p1_range):\n",
    "    curr_err = np.sum(abs(p1 * lgnrm(np.arange(510, 820), mu1, sigma1) - test_3[510:820]))\n",
    "    if curr_err < min_err:\n",
    "        min_err = curr_err\n",
    "        min_mu1 = mu1\n",
    "        min_mu2 = mu2\n",
    "        min_sigma1 = sigma1\n",
    "        min_sigma2 = sigma2\n",
    "        min_p1 = p1"
   ]
  },
  {
   "cell_type": "code",
   "execution_count": 403,
   "metadata": {
    "collapsed": false
   },
   "outputs": [
    {
     "name": "stdout",
     "output_type": "stream",
     "text": [
      "6.37878787879\n",
      "0.128282828283\n",
      "0.235555555556\n"
     ]
    }
   ],
   "source": [
    "print min_mu1\n",
    "print min_sigma1\n",
    "print min_p1\n"
   ]
  },
  {
   "cell_type": "code",
   "execution_count": 404,
   "metadata": {
    "collapsed": false
   },
   "outputs": [
    {
     "data": {
      "image/png": "[encoded data removed]",
      "text/plain": [
       "<matplotlib.figure.Figure at 0x7f4723da7ed0>"
      ]
     },
     "metadata": {},
     "output_type": "display_data"
    }
   ],
   "source": [
    "plotDensity([ min_p1 *lgnrm(np.array(range(1, 1000)),min_mu1, min_sigma1), test_3[1:1000]], name = 'iter3.png')"
   ]
  },
  {
   "cell_type": "code",
   "execution_count": null,
   "metadata": {
    "collapsed": true
   },
   "outputs": [],
   "source": []
  },
  {
   "cell_type": "code",
   "execution_count": 366,
   "metadata": {
    "collapsed": false
   },
   "outputs": [
    {
     "name": "stderr",
     "output_type": "stream",
     "text": [
      "/home/anton/anaconda2/lib/python2.7/site-packages/numpy/lib/polynomial.py:594: RankWarning: Polyfit may be poorly conditioned\n",
      "  warnings.warn(msg, RankWarning)\n"
     ]
    }
   ],
   "source": [
    "p = np.poly1d(np.polyfit(np.arange(1000), test[:1000], 100 ))"
   ]
  },
  {
   "cell_type": "code",
   "execution_count": 367,
   "metadata": {
    "collapsed": false
   },
   "outputs": [
    {
     "data": {
      "image/png": "[encoded data removed]",
      "text/plain": [
       "<matplotlib.figure.Figure at 0x7f47230cb490>"
      ]
     },
     "metadata": {},
     "output_type": "display_data"
    }
   ],
   "source": [
    "plotDensity([p(np.arange(1000)), test[:1000]])"
   ]
  },
  {
   "cell_type": "code",
   "execution_count": 276,
   "metadata": {
    "collapsed": false,
    "scrolled": true
   },
   "outputs": [
    {
     "name": "stdout",
     "output_type": "stream",
     "text": [
      "(1.0, 4.454159844180103e-13)\n"
     ]
    }
   ],
   "source": [
    "\n",
    "import scipy.integrate as integrate\n",
    "\n",
    "result = integrate.quad(lgnrm, 0, 10000, args = (6, 0.3))\n",
    "\n",
    "print result"
   ]
  },
  {
   "cell_type": "code",
   "execution_count": 273,
   "metadata": {
    "collapsed": false,
    "scrolled": true
   },
   "outputs": [
    {
     "data": {
      "text/plain": [
       "[<matplotlib.lines.Line2D at 0x7f4728264750>]"
      ]
     },
     "execution_count": 273,
     "metadata": {},
     "output_type": "execute_result"
    },
    {
     "data": {
      "image/png": "[encoded data removed]",
      "text/plain": [
       "<matplotlib.figure.Figure at 0x7f47282c4c90>"
      ]
     },
     "metadata": {},
     "output_type": "display_data"
    }
   ],
   "source": [
    "plt.plot(lgnrm(np.arange(1,1000, 1), 6, 0.3))"
   ]
  },
  {
   "cell_type": "code",
   "execution_count": 19,
   "metadata": {
    "collapsed": false,
    "scrolled": true
   },
   "outputs": [
    {
     "name": "stdout",
     "output_type": "stream",
     "text": [
      "Fitting 5 folds for each of 6 candidates, totalling 30 fits\n",
      "-93441.4044085\n",
      "KernelDensity(algorithm='auto', atol=0, bandwidth=6, breadth_first=True,\n",
      "       kernel='gaussian', leaf_size=40, metric='euclidean',\n",
      "       metric_params=None, rtol=0)\n",
      "[CV] bandwidth=1 .....................................................\n",
      "[CV] bandwidth=1 .....................................................\n",
      "[CV] bandwidth=1 .....................................................\n",
      "[CV] bandwidth=1 .....................................................\n",
      "[CV] bandwidth=2 .....................................................\n",
      "[CV] bandwidth=1 .....................................................\n",
      "[CV] bandwidth=2 .....................................................\n",
      "[CV] bandwidth=2 .....................................................\n",
      "[CV] ....................... bandwidth=1, score=-53698.036731 -  12.3s[CV] ..................... bandwidth=1, score=-2016526.316603 -  12.0s[CV] ..................... bandwidth=1, score=-5867234.682855 -  12.4s[CV] ..................... bandwidth=1, score=-2613084.788761 -  10.2s[CV] ....................... bandwidth=2, score=-39817.078445 -  13.5s[CV] ...................... bandwidth=1, score=-103857.939186 -  11.6s[CV] ..................... bandwidth=2, score=-1493151.677873 -  12.9s[CV] ...................... bandwidth=2, score=-530530.622561 -  14.9s\n",
      "\n",
      "\n",
      "\n",
      "\n",
      "\n",
      "\n",
      "\n",
      "[CV] bandwidth=3 .....................................................\n",
      "[CV] bandwidth=3 .....................................................\n",
      "[CV] bandwidth=3 .....................................................\n",
      "[CV] bandwidth=2 .....................................................\n",
      "[CV] bandwidth=3 .....................................................\n",
      "[CV] bandwidth=2 .....................................................\n",
      "[CV] bandwidth=3 .....................................................\n",
      "[CV] bandwidth=4 .....................................................\n",
      "[CV] ...................... bandwidth=3, score=-255352.651011 -  16.9s[CV] ....................... bandwidth=3, score=-37247.390930 -  16.3s[CV] ...................... bandwidth=3, score=-683138.426671 -  16.0s[CV] ...................... bandwidth=2, score=-679727.835559 -  13.5s[CV] ....................... bandwidth=3, score=-42923.444508 -  15.1s[CV] ....................... bandwidth=2, score=-52444.375044 -  15.2s[CV] ...................... bandwidth=3, score=-321704.094044 -  15.2s[CV] ....................... bandwidth=4, score=-36348.611661 -  15.8s\n",
      "\n",
      "\n",
      "\n",
      "\n",
      "\n",
      "\n",
      "\n",
      "[CV] bandwidth=5 .....................................................\n",
      "[CV] bandwidth=4 .....................................................\n",
      "[CV] bandwidth=5 .....................................................\n",
      "[CV] bandwidth=4 .....................................................\n",
      "[CV] bandwidth=5 .....................................................\n",
      "[CV] bandwidth=4 .....................................................\n",
      "[CV] bandwidth=4 .....................................................\n",
      "[CV] bandwidth=5 .....................................................\n",
      "[CV] ...................... bandwidth=5, score=-268414.308599 -  22.3s[CV] ....................... bandwidth=4, score=-39592.402417 -  20.1s[CV] ....................... bandwidth=5, score=-35933.094342 -  21.9s[CV] ...................... bandwidth=4, score=-159043.240178 -  17.9s[CV] ...................... bandwidth=5, score=-114467.103702 -  21.3s[CV] ...................... bandwidth=4, score=-399635.310203 -  18.0s[CV] ...................... bandwidth=4, score=-196397.952607 -  19.6s[CV] ...................... bandwidth=5, score=-138400.295903 -  20.6s\n",
      "\n",
      "\n",
      "\n",
      "\n",
      "\n",
      "\n",
      "\n",
      "[CV] bandwidth=6 .....................................................\n",
      "[CV] bandwidth=6 .....................................................\n",
      "[CV] bandwidth=5 .....................................................\n",
      "[CV] bandwidth=6 .....................................................\n",
      "[CV] bandwidth=6 .....................................................\n",
      "[CV] bandwidth=6 .....................................................\n",
      "[CV] ....................... bandwidth=6, score=-90253.852347 -  18.5s[CV] ...................... bandwidth=6, score=-197133.859638 -  19.9s[CV] ....................... bandwidth=6, score=-37215.306641 -  17.6s[CV] ....................... bandwidth=5, score=-38051.538412 -  19.6s[CV] ...................... bandwidth=6, score=-106896.184529 -  18.5s[CV] ....................... bandwidth=6, score=-35707.818887 -  20.4s\n",
      "\n",
      "\n",
      "\n",
      "\n",
      "\n"
     ]
    },
    {
     "name": "stderr",
     "output_type": "stream",
     "text": [
      "[Parallel(n_jobs=-1)]: Done  30 out of  30 | elapsed:  1.1min finished\n"
     ]
    }
   ],
   "source": [
    "from sklearn.grid_search import GridSearchCV\n",
    "import sklearn.cross_validation as CV\n",
    "\n",
    "params = {'bandwidth' :np.arange(1, 7, 1)}\n",
    "grid_searcher = GridSearchCV(KernelDensity(), params, cv = 5, n_jobs=-1, verbose = 3)\n",
    "grid_searcher.fit(samples_for_KDE[:np.newaxis].reshape(-1,1))\n",
    "\n",
    "print grid_searcher.best_score_\n",
    "print grid_searcher.best_estimator_"
   ]
  },
  {
   "cell_type": "code",
   "execution_count": null,
   "metadata": {
    "collapsed": true
   },
   "outputs": [],
   "source": []
  },
  {
   "cell_type": "code",
   "execution_count": null,
   "metadata": {
    "collapsed": false
   },
   "outputs": [],
   "source": [
    "kde = KernelDensity()\n",
    "kde.fit(imports.sampleFromDensity(train_data[0], 1000).reshape(-1,1) )"
   ]
  },
  {
   "cell_type": "code",
   "execution_count": null,
   "metadata": {
    "collapsed": false
   },
   "outputs": [],
   "source": [
    "plt.plot(np.exp(kde.score_samples(np.linspace(0,200,200).reshape(-1,1))))"
   ]
  },
  {
   "cell_type": "code",
   "execution_count": null,
   "metadata": {
    "collapsed": false
   },
   "outputs": [],
   "source": [
    "train_data[0].reshape(-1,1).shape"
   ]
  },
  {
   "cell_type": "code",
   "execution_count": null,
   "metadata": {
    "collapsed": false
   },
   "outputs": [],
   "source": [
    "np.linspace(0,200,200).reshape(-1,1).shape"
   ]
  },
  {
   "cell_type": "code",
   "execution_count": null,
   "metadata": {
    "collapsed": false
   },
   "outputs": [],
   "source": [
    "(train_data_samples).shape"
   ]
  },
  {
   "cell_type": "markdown",
   "metadata": {
    "collapsed": true
   },
   "source": [
    "### GO TRY LN WITH INSERT"
   ]
  },
  {
   "cell_type": "code",
   "execution_count": 106,
   "metadata": {
    "collapsed": true
   },
   "outputs": [],
   "source": [
    "from scipy.optimize import curve_fit"
   ]
  },
  {
   "cell_type": "code",
   "execution_count": 30,
   "metadata": {
    "collapsed": false
   },
   "outputs": [],
   "source": [
    "popt, pcov = curve_fit(lgnrm, np.arange(1,1000, 1), runs_ins['Highlander'][0][:999])"
   ]
  },
  {
   "cell_type": "code",
   "execution_count": 54,
   "metadata": {
    "collapsed": false
   },
   "outputs": [
    {
     "data": {
      "text/plain": [
       "array([[  4.89828468e-07,   1.86141959e-08],\n",
       "       [  1.86141959e-08,   3.27249101e-07]])"
      ]
     },
     "execution_count": 54,
     "metadata": {},
     "output_type": "execute_result"
    }
   ],
   "source": [
    "pcov"
   ]
  },
  {
   "cell_type": "code",
   "execution_count": 67,
   "metadata": {
    "collapsed": false,
    "scrolled": true
   },
   "outputs": [
    {
     "data": {
      "image/png": "[encoded data removed]",
      "text/plain": [
       "<matplotlib.figure.Figure at 0x7f7c74302950>"
      ]
     },
     "metadata": {},
     "output_type": "display_data"
    }
   ],
   "source": [
    "plt.plot((np.log(np.arange(400, 1001, 1))*1000 - 5990).astype(int),(runs_ins['Highlander'][0][400:1001]))\n",
    "plt.show()"
   ]
  },
  {
   "cell_type": "code",
   "execution_count": 76,
   "metadata": {
    "collapsed": false
   },
   "outputs": [
    {
     "data": {
      "image/png": "[encoded data removed]",
      "text/plain": [
       "<matplotlib.figure.Figure at 0x7f7c746e7690>"
      ]
     },
     "metadata": {},
     "output_type": "display_data"
    }
   ],
   "source": [
    "plt.plot(lgnrm(np.arange(1, 1000), 5.8, 0.32))\n",
    "plt.show()"
   ]
  },
  {
   "cell_type": "code",
   "execution_count": 64,
   "metadata": {
    "collapsed": false
   },
   "outputs": [],
   "source": [
    "temp_X = (np.log(np.arange(400, 1001, 1))*1000 - 5990).astype(int)"
   ]
  },
  {
   "cell_type": "code",
   "execution_count": 65,
   "metadata": {
    "collapsed": true
   },
   "outputs": [],
   "source": [
    "def lgn(params):\n",
    "    mu = params[0]\n",
    "    sigma = params[1]\n",
    "    \n",
    "    return sum([abs(lgnrm(x[i], mu, sigma) - runs_ins['Highlander'][0][400 + i]) for i in range(600)])"
   ]
  },
  {
   "cell_type": "code",
   "execution_count": 79,
   "metadata": {
    "collapsed": true
   },
   "outputs": [],
   "source": [
    "from scipy.optimize import minimize"
   ]
  },
  {
   "cell_type": "code",
   "execution_count": 80,
   "metadata": {
    "collapsed": true
   },
   "outputs": [],
   "source": [
    "params = [6, 0.2]\n",
    "\n",
    "res = minimize(lgn, params)"
   ]
  },
  {
   "cell_type": "code",
   "execution_count": 81,
   "metadata": {
    "collapsed": false
   },
   "outputs": [
    {
     "data": {
      "text/plain": [
       "array([ 6. ,  0.2])"
      ]
     },
     "execution_count": 81,
     "metadata": {},
     "output_type": "execute_result"
    }
   ],
   "source": [
    "res.x"
   ]
  },
  {
   "cell_type": "code",
   "execution_count": null,
   "metadata": {
    "collapsed": true
   },
   "outputs": [],
   "source": []
  },
  {
   "cell_type": "code",
   "execution_count": 270,
   "metadata": {
    "collapsed": false
   },
   "outputs": [],
   "source": [
    "hist = np.histogram(imports.sampleFromDensity(runs_ins[\"Highlander\"][0], 4000000), density=True, bins=bins)"
   ]
  },
  {
   "cell_type": "code",
   "execution_count": 275,
   "metadata": {
    "collapsed": false
   },
   "outputs": [
    {
     "data": {
      "image/png": "[encoded data removed]",
      "text/plain": [
       "<matplotlib.figure.Figure at 0x7f4de962c5d0>"
      ]
     },
     "metadata": {},
     "output_type": "display_data"
    }
   ],
   "source": [
    "plotDensity([y[450:],\n",
    "            lgnrm(np.arange(1, 1000), 6.91, 0.098)],\n",
    "           \n",
    "           height = 8,\n",
    "           width = 14)\n"
   ]
  },
  {
   "cell_type": "code",
   "execution_count": 272,
   "metadata": {
    "collapsed": false
   },
   "outputs": [],
   "source": [
    "y = hist[0] / sum(hist[0])\n"
   ]
  },
  {
   "cell_type": "code",
   "execution_count": 181,
   "metadata": {
    "collapsed": true
   },
   "outputs": [],
   "source": [
    "from scipy.optimize import curve_fit"
   ]
  },
  {
   "cell_type": "code",
   "execution_count": 182,
   "metadata": {
    "collapsed": true
   },
   "outputs": [],
   "source": [
    "x = np.linspace(1, 5500, 5499)"
   ]
  },
  {
   "cell_type": "code",
   "execution_count": 201,
   "metadata": {
    "collapsed": false
   },
   "outputs": [
    {
     "data": {
      "text/plain": [
       "(array([ 6.87937231,  0.09820807]),\n",
       " array([[  2.07372457e-06,   6.79910903e-08],\n",
       "        [  6.79910903e-08,   1.38468737e-06]]))"
      ]
     },
     "execution_count": 201,
     "metadata": {},
     "output_type": "execute_result"
    }
   ],
   "source": [
    "curve_fit(lgnrm, x, y[4500:] / sum(y[4500:]), p0= (7, 0.1))"
   ]
  },
  {
   "cell_type": "code",
   "execution_count": 200,
   "metadata": {
    "collapsed": false
   },
   "outputs": [
    {
     "data": {
      "text/plain": [
       "1.0000000000000009"
      ]
     },
     "execution_count": 200,
     "metadata": {},
     "output_type": "execute_result"
    }
   ],
   "source": [
    "sum(y[4500:])"
   ]
  },
  {
   "cell_type": "code",
   "execution_count": 202,
   "metadata": {
    "collapsed": false,
    "scrolled": true
   },
   "outputs": [
    {
     "data": {
      "text/plain": [
       "6.9077552789821368"
      ]
     },
     "execution_count": 202,
     "metadata": {},
     "output_type": "execute_result"
    }
   ],
   "source": [
    "np.log(1000)"
   ]
  },
  {
   "cell_type": "code",
   "execution_count": null,
   "metadata": {
    "collapsed": true
   },
   "outputs": [],
   "source": [
    "bins2 = np.logspace(1, 5, )"
   ]
  },
  {
   "cell_type": "code",
   "execution_count": 266,
   "metadata": {
    "collapsed": true
   },
   "outputs": [],
   "source": [
    "hist2 = np.histogram(imports.sampleFromDensity(runs_ins[\"Highlander\"][0], 4000000), density=True, bins=bins)"
   ]
  },
  {
   "cell_type": "code",
   "execution_count": 267,
   "metadata": {
    "collapsed": false
   },
   "outputs": [],
   "source": [
    "hist3 = np.histogram(sampleFromDensity(hist2[0], 4000000, scaling= True),  density=True, bins=bins)[0]"
   ]
  },
  {
   "cell_type": "code",
   "execution_count": 268,
   "metadata": {
    "collapsed": false
   },
   "outputs": [
    {
     "data": {
      "image/png": "[encoded data removed]",
      "text/plain": [
       "<matplotlib.figure.Figure at 0x7f4de95f5ad0>"
      ]
     },
     "metadata": {},
     "output_type": "display_data"
    }
   ],
   "source": [
    "plotDensity(hist3[7300:7600])"
   ]
  },
  {
   "cell_type": "code",
   "execution_count": 232,
   "metadata": {
    "collapsed": false
   },
   "outputs": [
    {
     "data": {
      "text/plain": [
       "array([ 0.,  0.,  0., ...,  0.,  0.,  0.])"
      ]
     },
     "execution_count": 232,
     "metadata": {},
     "output_type": "execute_result"
    }
   ],
   "source": [
    "hist3"
   ]
  },
  {
   "cell_type": "code",
   "execution_count": null,
   "metadata": {
    "collapsed": true
   },
   "outputs": [],
   "source": []
  },
  {
   "cell_type": "code",
   "execution_count": 217,
   "metadata": {
    "collapsed": true
   },
   "outputs": [],
   "source": [
    "p = 0.5"
   ]
  },
  {
   "cell_type": "code",
   "execution_count": null,
   "metadata": {
    "collapsed": false
   },
   "outputs": [],
   "source": []
  },
  {
   "cell_type": "code",
   "execution_count": null,
   "metadata": {
    "collapsed": true
   },
   "outputs": [],
   "source": []
  },
  {
   "cell_type": "code",
   "execution_count": 7,
   "metadata": {
    "collapsed": true
   },
   "outputs": [],
   "source": [
    "from statsmodels.nonparametric import bandwidths"
   ]
  },
  {
   "cell_type": "code",
   "execution_count": 11,
   "metadata": {
    "collapsed": false
   },
   "outputs": [
    {
     "data": {
      "text/plain": [
       "0.44839437551644462"
      ]
     },
     "execution_count": 11,
     "metadata": {},
     "output_type": "execute_result"
    }
   ],
   "source": [
    "bandwidths.bw_scott(np.random.normal(0, 1, 100))"
   ]
  },
  {
   "cell_type": "code",
   "execution_count": 55,
   "metadata": {
    "collapsed": false
   },
   "outputs": [],
   "source": [
    "size = 4000000\n",
    "\n",
    "cum_samp = sampleFromDensity(runs['Highlander'], size)\n",
    "density = np.histogram(cum_samp, max(cum_samp), density=True)[0]"
   ]
  },
  {
   "cell_type": "code",
   "execution_count": 58,
   "metadata": {
    "collapsed": false,
    "scrolled": true
   },
   "outputs": [
    {
     "data": {
      "image/png": "[encoded data removed]",
      "text/plain": [
       "<matplotlib.figure.Figure at 0x7f203d755f90>"
      ]
     },
     "metadata": {},
     "output_type": "display_data"
    }
   ],
   "source": [
    "plotDensity(density,\n",
    "           axes_limits = [3000,50000, 0, 0.000001])"
   ]
  },
  {
   "cell_type": "markdown",
   "metadata": {},
   "source": [
    "# USefulL funCs"
   ]
  },
  {
   "cell_type": "code",
   "execution_count": 9,
   "metadata": {
    "collapsed": true
   },
   "outputs": [],
   "source": [
    "def searchBoarders(density, i, bw):\n",
    "    left_boarder = i\n",
    "    right_boarder = i\n",
    "    \n",
    "    if bw % 2 == 0:\n",
    "        bw += 1\n",
    "        \n",
    "    right_saturation = (bw - 1) / 2\n",
    "    left_saturation = (bw - 1) / 2\n",
    "    \n",
    "    while left_saturation > 0 and left_boarder > 0:\n",
    "        if density[left_boarder] > 0:\n",
    "            left_saturation -= 1\n",
    "        left_boarder -= 1\n",
    "    \n",
    "    while right_saturation > 0 and right_boarder < len(density) - 1:\n",
    "        if density[right_boarder] > 0:\n",
    "            right_saturation -= 1\n",
    "        right_boarder += 1\n",
    "        \n",
    "    if right_saturation == 0 and left_saturation == 0:\n",
    "        return left_boarder, right_boarder\n",
    "    elif right_saturation == 0 and left_saturation != 0:\n",
    "        return max(0, right_boarder - i), right_boarder\n",
    "    elif left_saturation == 0 and right_saturation != 0:\n",
    "        return left_boarder, i + i - left_boarder\n",
    "    else:\n",
    "        return 0, len(density)"
   ]
  },
  {
   "cell_type": "code",
   "execution_count": 10,
   "metadata": {
    "collapsed": false
   },
   "outputs": [],
   "source": [
    "def flattenDensities(densities, bw = 3): \n",
    "    #max_bw = np.where(density > 0)[0][0]\n",
    "    new_densities = []\n",
    "    \n",
    "    if type(densities[0]) != np.ndarray and type(densities[0]) != list:\n",
    "        print 'Type changing...'\n",
    "        densities = [densities]\n",
    "        \n",
    "    for density in densities:\n",
    "\n",
    "        new_density = np.zeros(len(density)*2)\n",
    "\n",
    "        saturation = 0\n",
    "\n",
    "        for i in range(len(density)):\n",
    "            if density[i] == 0:\n",
    "                pass\n",
    "            else:\n",
    "                left_boarder, right_boarder = searchBoarders(density, i, bw)\n",
    "                for j in range(left_boarder, right_boarder):\n",
    "                    new_density[j] += density[i] / (right_boarder - left_boarder)\n",
    "        \n",
    "        new_densities.append(new_density)\n",
    "\n",
    "    return new_densities\n",
    "    "
   ]
  },
  {
   "cell_type": "code",
   "execution_count": 11,
   "metadata": {
    "collapsed": true
   },
   "outputs": [],
   "source": [
    "def sampleFromDensity(densities, sample_size = 1000, scaling = False):\n",
    "    sample = np.empty(0)\n",
    "    for density in densities:\n",
    "        if scaling:\n",
    "            density = density / sum(density)\n",
    "        curr_sample = np.random.choice(range(len(density)), sample_size / len(densities), p = density)\n",
    "        sample = np.hstack((sample, curr_sample))\n",
    "    return sample"
   ]
  },
  {
   "cell_type": "code",
   "execution_count": 12,
   "metadata": {
    "collapsed": false
   },
   "outputs": [],
   "source": [
    "def densityFromSample(sample, normed = True):\n",
    "    return np.histogram(sample, bins=round(max(sample) + 1) , \n",
    "                        density=True, range = (0, round(max(sample) +1)))"
   ]
  },
  {
   "cell_type": "code",
   "execution_count": 13,
   "metadata": {
    "collapsed": false,
    "scrolled": true
   },
   "outputs": [],
   "source": [
    "def percentileBootstrap(pdfs, percentiles_set, percentiles_sample_size = 10, sample_size = 1000, scaling = True):\n",
    "    percentiles_vals = dict(zip(percentiles_set, [[] for i in range(len(percentiles_set))]))\n",
    "    \n",
    "    for i in log_progress(range(percentiles_sample_size), every=1):\n",
    "        samp = (sampleFromDensity(pdfs, sample_size, scaling = scaling))\n",
    "        for perc in percentiles_vals:\n",
    "            percentiles_vals[perc].append(np.percentile(samp, perc))\n",
    "    \n",
    "    return percentiles_vals"
   ]
  },
  {
   "cell_type": "code",
   "execution_count": 14,
   "metadata": {
    "collapsed": true
   },
   "outputs": [],
   "source": [
    "def readRDHeader(file_name, file_dir, header_size = 12):\n",
    "    f = open(file_dir+file_name, 'r')\n",
    "    header = dict()\n",
    "    \n",
    "    for i in range(header_size):\n",
    "        s = f.readline()\n",
    "        key = s.split('=')[0]\n",
    "        val = s.split('=')[1].replace(',', '.')\n",
    "        if key.endswith('ptile'):\n",
    "            key = float(key[:-5].replace(',', '.'))\n",
    "        header[key] = float(val)\n",
    "    \n",
    "    return header"
   ]
  },
  {
   "cell_type": "code",
   "execution_count": 15,
   "metadata": {
    "collapsed": false
   },
   "outputs": [],
   "source": [
    "def pdfPercentiles(pdf, perc, strat = 'first_higher'):\n",
    "    perc_normed = float(perc)/ 100\n",
    "    curr_perc = 0.0\n",
    "    \n",
    "    i = 0 \n",
    "    last_grow = 0\n",
    "    while curr_perc < perc_normed and i < len(pdf):\n",
    "        curr_perc += pdf[i]\n",
    "        if pdf[i] > 0 and curr_perc < perc_normed: \n",
    "            last_grow = i\n",
    "        i += 1\n",
    "    \n",
    "    if curr_perc >= perc_normed:\n",
    "        if strat == 'first_higher':\n",
    "            return i\n",
    "        else:\n",
    "            return last_grow\n",
    "    else:\n",
    "        return -1         "
   ]
  },
  {
   "cell_type": "markdown",
   "metadata": {},
   "source": [
    "# 1. Create model distribution"
   ]
  },
  {
   "cell_type": "code",
   "execution_count": 16,
   "metadata": {
    "collapsed": true
   },
   "outputs": [],
   "source": [
    "def lgnrm(x, mu = 1, sigma = 1):\n",
    "    return 1.0 / (np.sqrt(2*np.pi)*sigma*x)  * np.exp(-(np.log(x) - mu)**2 / (2*sigma**2) )\n",
    "\n",
    "def lgnrmMix(x, p1, p2, mu1, mu2, sigma1, sigma2):\n",
    "    return p1*lgnrm(x,mu1,sigma1) + p2*lgnrm(x,mu2,sigma2)"
   ]
  },
  {
   "cell_type": "code",
   "execution_count": null,
   "metadata": {
    "collapsed": true
   },
   "outputs": [],
   "source": []
  },
  {
   "cell_type": "markdown",
   "metadata": {
    "collapsed": true
   },
   "source": [
    "# Модельное распределение"
   ]
  },
  {
   "cell_type": "code",
   "execution_count": 17,
   "metadata": {
    "collapsed": false
   },
   "outputs": [
    {
     "data": {
      "text/plain": [
       "[<matplotlib.lines.Line2D at 0x7f3a24155710>]"
      ]
     },
     "execution_count": 17,
     "metadata": {},
     "output_type": "execute_result"
    },
    {
     "data": {
      "image/png": "[encoded data removed]",
      "text/plain": [
       "<matplotlib.figure.Figure at 0x7f3a245b0fd0>"
      ]
     },
     "metadata": {},
     "output_type": "display_data"
    }
   ],
   "source": [
    "from scipy.stats import lognorm\n",
    "\n",
    "fig, ax = plt.subplots(1, 1)\n",
    "\n",
    "ax.plot(lognorm.pdf(np.linspace(1, 1000, 1000), 0.8, loc = 400, scale = 100))"
   ]
  },
  {
   "cell_type": "code",
   "execution_count": 18,
   "metadata": {
    "collapsed": false
   },
   "outputs": [],
   "source": [
    "modelDistr = lognorm(1.2, 400, 100)"
   ]
  },
  {
   "cell_type": "code",
   "execution_count": null,
   "metadata": {
    "collapsed": true
   },
   "outputs": [],
   "source": []
  },
  {
   "cell_type": "code",
   "execution_count": 19,
   "metadata": {
    "collapsed": true
   },
   "outputs": [],
   "source": [
    "model_density = modelDistr.pdf(np.linspace(0,1000000,1000000))"
   ]
  },
  {
   "cell_type": "code",
   "execution_count": 20,
   "metadata": {
    "collapsed": false,
    "scrolled": true
   },
   "outputs": [
    {
     "ename": "NameError",
     "evalue": "name 'flatten_runs' is not defined",
     "output_type": "error",
     "traceback": [
      "\u001b[1;31m---------------------------------------------------------------------------\u001b[0m",
      "\u001b[1;31mNameError\u001b[0m                                 Traceback (most recent call last)",
      "\u001b[1;32m<ipython-input-20-71c661fbe8dc>\u001b[0m in \u001b[0;36m<module>\u001b[1;34m()\u001b[0m\n\u001b[0;32m      1\u001b[0m plotDensity([\n\u001b[0;32m      2\u001b[0m                 \u001b[0mmodelDistr\u001b[0m\u001b[1;33m.\u001b[0m\u001b[0mpdf\u001b[0m\u001b[1;33m(\u001b[0m\u001b[0mnp\u001b[0m\u001b[1;33m.\u001b[0m\u001b[0mlinspace\u001b[0m\u001b[1;33m(\u001b[0m\u001b[1;36m0\u001b[0m\u001b[1;33m,\u001b[0m\u001b[1;36m1000000\u001b[0m\u001b[1;33m,\u001b[0m\u001b[1;36m1000000\u001b[0m\u001b[1;33m)\u001b[0m\u001b[1;33m)\u001b[0m\u001b[1;33m,\u001b[0m\u001b[1;33m\u001b[0m\u001b[0m\n\u001b[1;32m----> 3\u001b[1;33m                 \u001b[0mflatten_runs\u001b[0m\u001b[1;33m[\u001b[0m\u001b[1;34m'Highlander'\u001b[0m\u001b[1;33m]\u001b[0m\u001b[1;33m[\u001b[0m\u001b[1;36m0\u001b[0m\u001b[1;33m]\u001b[0m\u001b[1;33m\u001b[0m\u001b[0m\n\u001b[0m\u001b[0;32m      4\u001b[0m             ],\n\u001b[0;32m      5\u001b[0m \u001b[1;33m\u001b[0m\u001b[0m\n",
      "\u001b[1;31mNameError\u001b[0m: name 'flatten_runs' is not defined"
     ]
    }
   ],
   "source": [
    "plotDensity([\n",
    "                modelDistr.pdf(np.linspace(0,1000000,1000000)),\n",
    "                flatten_runs['Highlander'][0]\n",
    "            ],\n",
    "           \n",
    "            axes_limits =[1000, 10000, 0, 0.00001])"
   ]
  },
  {
   "cell_type": "code",
   "execution_count": 21,
   "metadata": {
    "collapsed": false,
    "scrolled": true
   },
   "outputs": [
    {
     "data": {
      "text/plain": [
       "1.0000030515069243"
      ]
     },
     "execution_count": 21,
     "metadata": {},
     "output_type": "execute_result"
    }
   ],
   "source": [
    "sum(model_density)"
   ]
  },
  {
   "cell_type": "code",
   "execution_count": 22,
   "metadata": {
    "collapsed": false,
    "scrolled": true
   },
   "outputs": [
    {
     "name": "stdout",
     "output_type": "stream",
     "text": [
      "501\n"
     ]
    },
    {
     "ename": "NameError",
     "evalue": "name 'flatten_runs' is not defined",
     "output_type": "error",
     "traceback": [
      "\u001b[1;31m---------------------------------------------------------------------------\u001b[0m",
      "\u001b[1;31mNameError\u001b[0m                                 Traceback (most recent call last)",
      "\u001b[1;32m<ipython-input-22-eb19c2e7c128>\u001b[0m in \u001b[0;36m<module>\u001b[1;34m()\u001b[0m\n\u001b[0;32m      1\u001b[0m \u001b[1;32mfor\u001b[0m \u001b[0mp\u001b[0m \u001b[1;32min\u001b[0m \u001b[1;33m[\u001b[0m\u001b[1;36m50\u001b[0m\u001b[1;33m,\u001b[0m \u001b[1;36m90\u001b[0m\u001b[1;33m,\u001b[0m \u001b[1;36m99\u001b[0m\u001b[1;33m,\u001b[0m \u001b[1;36m99.99\u001b[0m\u001b[1;33m,\u001b[0m \u001b[1;36m99.999\u001b[0m\u001b[1;33m]\u001b[0m\u001b[1;33m:\u001b[0m\u001b[1;33m\u001b[0m\u001b[0m\n\u001b[0;32m      2\u001b[0m     \u001b[1;32mprint\u001b[0m \u001b[0mpdfPercentiles\u001b[0m\u001b[1;33m(\u001b[0m\u001b[0mmodel_density\u001b[0m\u001b[1;33m,\u001b[0m \u001b[0mp\u001b[0m\u001b[1;33m)\u001b[0m\u001b[1;33m\u001b[0m\u001b[0m\n\u001b[1;32m----> 3\u001b[1;33m     \u001b[1;32mprint\u001b[0m \u001b[0mpdfPercentiles\u001b[0m\u001b[1;33m(\u001b[0m\u001b[0mflatten_runs\u001b[0m\u001b[1;33m[\u001b[0m\u001b[1;34m'Highlander'\u001b[0m\u001b[1;33m]\u001b[0m\u001b[1;33m[\u001b[0m\u001b[1;36m0\u001b[0m\u001b[1;33m]\u001b[0m\u001b[1;33m,\u001b[0m \u001b[0mp\u001b[0m\u001b[1;33m)\u001b[0m\u001b[1;33m\u001b[0m\u001b[0m\n\u001b[0m\u001b[0;32m      4\u001b[0m     \u001b[1;32mprint\u001b[0m \u001b[1;34m\"---------------\"\u001b[0m\u001b[1;33m\u001b[0m\u001b[0m\n",
      "\u001b[1;31mNameError\u001b[0m: name 'flatten_runs' is not defined"
     ]
    }
   ],
   "source": [
    "for p in [50, 90, 99, 99.99, 99.999]:\n",
    "    print pdfPercentiles(model_density, p)\n",
    "    print pdfPercentiles(flatten_runs['Highlander'][0], p)\n",
    "    print \"---------------\""
   ]
  },
  {
   "cell_type": "markdown",
   "metadata": {},
   "source": [
    "### GO on lognormal"
   ]
  },
  {
   "cell_type": "code",
   "execution_count": 37,
   "metadata": {
    "collapsed": true
   },
   "outputs": [],
   "source": [
    "sample_size = 4000000\n",
    "model_samples = [modelDistr.rvs(sample_size) for i in range(6)]"
   ]
  },
  {
   "cell_type": "code",
   "execution_count": null,
   "metadata": {
    "collapsed": true
   },
   "outputs": [],
   "source": [
    "sample_pdf = densityFromSample(model_samples[0])[0]"
   ]
  },
  {
   "cell_type": "code",
   "execution_count": 131,
   "metadata": {
    "collapsed": false,
    "scrolled": true
   },
   "outputs": [
    {
     "data": {
      "image/png": "[encoded data removed]",
      "text/plain": [
       "<matplotlib.figure.Figure at 0x7fceb90bd210>"
      ]
     },
     "metadata": {},
     "output_type": "display_data"
    }
   ],
   "source": [
    "plotDensity([\n",
    "             sample_pdf,\n",
    "             runs['Highlander'][0],            \n",
    "            ], \n",
    "           axes_limits = [10000,20000, 0, 0.000001])"
   ]
  },
  {
   "cell_type": "code",
   "execution_count": 38,
   "metadata": {
    "collapsed": false
   },
   "outputs": [],
   "source": [
    "samples_pdfs = []\n",
    "for m in model_samples:\n",
    "    samples_pdfs.append(densityFromSample(m)[0])"
   ]
  },
  {
   "cell_type": "code",
   "execution_count": 39,
   "metadata": {
    "collapsed": false
   },
   "outputs": [
    {
     "data": {
      "text/plain": [
       "array([  0.00000000e+00,   0.00000000e+00,   0.00000000e+00, ...,\n",
       "         0.00000000e+00,   0.00000000e+00,   2.50000000e-07])"
      ]
     },
     "execution_count": 39,
     "metadata": {},
     "output_type": "execute_result"
    }
   ],
   "source": [
    "samples_pdfs[0]"
   ]
  },
  {
   "cell_type": "code",
   "execution_count": 41,
   "metadata": {
    "collapsed": false
   },
   "outputs": [],
   "source": [
    "flatten_pdfs = flattenDensities(samples_pdfs, 10)"
   ]
  },
  {
   "cell_type": "code",
   "execution_count": 43,
   "metadata": {
    "collapsed": false
   },
   "outputs": [
    {
     "data": {
      "image/png": "[encoded data removed]",
      "text/plain": [
       "<matplotlib.figure.Figure at 0x7f8f51788210>"
      ]
     },
     "metadata": {},
     "output_type": "display_data"
    }
   ],
   "source": [
    "plotDensity([\n",
    "             #sample_pdf,\n",
    "             flatten_pdfs[0],            \n",
    "            ], \n",
    "           axes_limits = [0,1000, 0, 0.01])"
   ]
  },
  {
   "cell_type": "code",
   "execution_count": 44,
   "metadata": {
    "collapsed": false,
    "scrolled": false
   },
   "outputs": [
    {
     "name": "stdout",
     "output_type": "stream",
     "text": [
      "9073.1729227\n",
      "9145.51638173\n",
      "9125\n",
      "9136\n",
      "---------------\n",
      "17097.914973\n",
      "17182.3283824\n",
      "16867\n",
      "17070\n",
      "---------------\n"
     ]
    }
   ],
   "source": [
    "perc_set = [50, 90, 99, 99.9, 99.99, 99.999]\n",
    "i = 4\n",
    "for p in perc_set[-2:]:\n",
    "    print modelDistr.ppf(float(p) / 100)\n",
    "    \n",
    "    print np.percentile(model_samples[i], p, interpolation='higher')\n",
    "    print pdfPercentiles(samples_pdfs[i], p, )\n",
    "    print pdfPercentiles(flatten_pdfs[i], p, )\n",
    "\n",
    "    print \"---------------\""
   ]
  },
  {
   "cell_type": "code",
   "execution_count": 45,
   "metadata": {
    "collapsed": false
   },
   "outputs": [
    {
     "data": {
      "text/plain": [
       "0.99998849999999995"
      ]
     },
     "execution_count": 45,
     "metadata": {},
     "output_type": "execute_result"
    }
   ],
   "source": [
    "samples_pdfs[i][:16473].sum()"
   ]
  },
  {
   "cell_type": "markdown",
   "metadata": {},
   "source": [
    "На данном этапе сглаживание немного удлиняет хвост плотности, завышается значение последней процентили\n",
    "\n",
    "Генерируем из сглаженной первой плотности много сэмпов."
   ]
  },
  {
   "cell_type": "code",
   "execution_count": 49,
   "metadata": {
    "collapsed": false
   },
   "outputs": [],
   "source": [
    "means = []\n",
    "stds = []\n",
    "\n",
    "for i in range(len(flatten_pdfs)):\n",
    "\n",
    "    percentiles = percentileBootstrap([flatten_pdfs[i]],\n",
    "                                            perc_set,\n",
    "                                            percentiles_sample_size = 30,\n",
    "                                            sample_size = 4000000,\n",
    "                                            scaling = False)\n",
    "\n",
    "    percentiles_std = dict()\n",
    "    percentiles_mean = dict()\n",
    "    \n",
    "    for k in percentiles:\n",
    "        percentiles_mean[k] = np.mean(percentiles[k])\n",
    "        percentiles_std[k] = np.std(percentiles[k])\n",
    "        \n",
    "    means.append(percentiles_mean)\n",
    "    stds.append(percentiles_std)"
   ]
  },
  {
   "cell_type": "code",
   "execution_count": 243,
   "metadata": {
    "collapsed": false
   },
   "outputs": [
    {
     "data": {
      "text/plain": [
       "[{50: 499.0,\n",
       "  90: 864.4666666666667,\n",
       "  99: 2026.5,\n",
       "  99.9: 4441.7003333335433,\n",
       "  99.99: 8976.9675699984655,\n",
       "  99.999: 17069.067771956947},\n",
       " {50: 499.0,\n",
       "  90: 864.33333333333337,\n",
       "  99: 2031.9000000000001,\n",
       "  99.9: 4449.2003333335433,\n",
       "  99.99: 8977.9005299991004,\n",
       "  99.999: 17231.534192966516},\n",
       " {50: 499.0,\n",
       "  90: 864.26666666666665,\n",
       "  99: 2032.8003333333259,\n",
       "  99.9: 4502.6338000002934,\n",
       "  99.99: 8981.1007633320369,\n",
       "  99.999: 16655.834187633391},\n",
       " {50: 499.0,\n",
       "  90: 864.89999999999998,\n",
       "  99: 2034.3669999999925,\n",
       "  99.9: 4482.0336666668763,\n",
       "  99.99: 9141.8340033321947,\n",
       "  99.999: 17057.167399638114},\n",
       " {50: 499.0,\n",
       "  90: 864.76666666666665,\n",
       "  99: 2022.8336666666592,\n",
       "  99.9: 4512.6668666667929,\n",
       "  99.99: 9012.6672099990774,\n",
       "  99.999: 16557.968133276205},\n",
       " {50: 499.0,\n",
       "  90: 865.26666666666665,\n",
       "  99: 2032.1003333333258,\n",
       "  99.9: 4502.8004333336057,\n",
       "  99.99: 9156.6338133325171,\n",
       "  99.999: 16723.93417930038}]"
      ]
     },
     "execution_count": 243,
     "metadata": {},
     "output_type": "execute_result"
    }
   ],
   "source": [
    "means"
   ]
  },
  {
   "cell_type": "code",
   "execution_count": 318,
   "metadata": {
    "collapsed": true
   },
   "outputs": [],
   "source": [
    "import collections\n",
    "\n",
    "def NeymanPearsonStat(mean, std, alpha, check, check_set = None, verbouse = False):\n",
    "    #if isinstance(check, collections.Iterable):\n",
    "    #    pass\n",
    "    #else:\n",
    "    #    check = [check]\n",
    "    \n",
    "    if check_set is None:\n",
    "        check_set = check\n",
    "        \n",
    "    ans = []\n",
    "    for k in check_set:\n",
    "        alternative_mean = mean[k] * alpha\n",
    "\n",
    "        alternative_norm = stats.norm(alternative_mean, std[k])\n",
    "        basic_norm = stats.norm(mean[k], std[k])\n",
    "        if verbouse:\n",
    "            print k\n",
    "            print alternative_norm.pdf(check[k]), basic_norm.pdf(check[k])\n",
    "    \n",
    "        ans.append(basic_norm.pdf(check[k])/alternative_norm.pdf(check[k]))\n",
    "    \n",
    "    return  ans"
   ]
  },
  {
   "cell_type": "code",
   "execution_count": 329,
   "metadata": {
    "collapsed": false,
    "scrolled": true
   },
   "outputs": [],
   "source": [
    "check = dict(zip(perc_set, [np.percentile(model_samples[2], p, interpolation='higher') for p in perc_set]))"
   ]
  },
  {
   "cell_type": "code",
   "execution_count": 330,
   "metadata": {
    "collapsed": false
   },
   "outputs": [
    {
     "data": {
      "text/plain": [
       "[1.6289882941957672e+182,\n",
       " 276870926174740.0,\n",
       " 121.50436032852807,\n",
       " 5.0150682307040038]"
      ]
     },
     "execution_count": 330,
     "metadata": {},
     "output_type": "execute_result"
    }
   ],
   "source": [
    "NeymanPearsonStat(means[0], stds[0], 1.05, check, [99, 99.9, 99.99, 99.999]) #mean, std, alpha, check"
   ]
  },
  {
   "cell_type": "markdown",
   "metadata": {},
   "source": [
    "Все величины в Out больше 1, это значит, что тест склоняется к тому что распределения одинаковые. "
   ]
  },
  {
   "cell_type": "markdown",
   "metadata": {},
   "source": [
    "### Calc distributions of Neyman-Pearson statistics for $ H_0 $ and for $ H_\\infty $"
   ]
  },
  {
   "cell_type": "code",
   "execution_count": 50,
   "metadata": {
    "collapsed": false
   },
   "outputs": [],
   "source": [
    "average_stds = dict()\n",
    "\n",
    "for k in stds[0]:\n",
    "    average_stds[k] = np.mean([stds[i][k] for i in range(len(stds))])"
   ]
  },
  {
   "cell_type": "code",
   "execution_count": 53,
   "metadata": {
    "collapsed": false,
    "scrolled": true
   },
   "outputs": [
    {
     "data": {
      "text/plain": [
       "{50: 0.0,\n",
       " 90: 0.59055458696307717,\n",
       " 99: 3.4397976763504907,\n",
       " 99.9: 18.814356655426632,\n",
       " 99.99: 125.35816353206883,\n",
       " 99.999: 722.2952126455217}"
      ]
     },
     "execution_count": 53,
     "metadata": {},
     "output_type": "execute_result"
    }
   ],
   "source": [
    "average_stds"
   ]
  },
  {
   "cell_type": "code",
   "execution_count": 54,
   "metadata": {
    "collapsed": true
   },
   "outputs": [],
   "source": [
    "def singleNP(x, f_stat_0, f_stat_inf):\n",
    "    return f_0.pdf(x) / f_inf.pdf(x)"
   ]
  },
  {
   "cell_type": "code",
   "execution_count": 78,
   "metadata": {
    "collapsed": false
   },
   "outputs": [],
   "source": [
    "def twoSamples(f_0, f_inf, statistic, sample_size = 4000000, \n",
    "                            bootstrap_size = 500, plot = True\n",
    "                            ):\n",
    "    \n",
    "    stat_sample_0 = np.zeros(bootstrap_size)\n",
    "    stat_sample_inf = np.zeros(bootstrap_size)\n",
    "    \n",
    "    for i in range(bootstrap_size):\n",
    "        samp_0 = f_0.rvs(sample_size)\n",
    "        samp_inf = f_inf.rvs(sample_size)\n",
    "        \n",
    "        stat_sample_0[i] = statistic(samp_0)\n",
    "        stat_sample_inf[i] = statistic(samp_inf)\n",
    "\n",
    "    if plot:\n",
    "        plt.hist(stat_sample_0, bins = bootstrap_size / 5)\n",
    "        plt.hist(stat_sample_inf, bins = bootstrap_size / 5)\n",
    "\n",
    "        plt.show()\n",
    "    \n",
    "    return stat_sample_0, stat_sample_inf"
   ]
  },
  {
   "cell_type": "code",
   "execution_count": 246,
   "metadata": {
    "collapsed": false
   },
   "outputs": [],
   "source": [
    "def singleNPDistr(f_0, f_inf, statistic, sample_size = 4000000,\n",
    "                        bootstrap_size = 100, np_bootstrap_size = 100, plot = True,\n",
    "                     stat_sample_0 = None, stat_sample_inf = None):\n",
    "    \n",
    "    if stat_sample_0 is None and stat_sample_inf is None:\n",
    "        stat_sample_0, stat_sample_inf = twoSamples(f_0, f_inf, statistic, sample_size, bootstrap_size, plot)\n",
    "\n",
    "    f_stat_0 = stats.norm(loc = np.mean(stat_sample_0), \n",
    "                             scale = np.std(stat_sample_0)**2)\n",
    "    f_stat_inf = stats.norm(loc = np.mean(stat_sample_inf), \n",
    "                             scale = np.std(stat_sample_inf)**2)\n",
    "    \n",
    "    np_sample_0 = np.zeros(np_bootstrap_size)\n",
    "    np_sample_inf = np.zeros(np_bootstrap_size)\n",
    "    \n",
    "    for i in range(np_bootstrap_size):\n",
    "        stat_0 = statistic(f_0.rvs(sample_size))\n",
    "        stat_inf = statistic(f_inf.rvs(sample_size))\n",
    "        \n",
    "        np_sample_0[i] = singleNP(stat_0, f_stat_0, f_stat_inf)\n",
    "        np_sample_inf[i] = singleNP(stat_inf, f_stat_0, f_stat_inf)\n",
    "    \n",
    "    return stat_sample_0, stat_sample_inf, np_sample_0, np_sample_inf"
   ]
  },
  {
   "cell_type": "code",
   "execution_count": 24,
   "metadata": {
    "collapsed": false
   },
   "outputs": [],
   "source": [
    "distr_0 = lognorm(1.2, 400, 100)\n",
    "distr_inf = lognorm(1.2, 380, 100)"
   ]
  },
  {
   "cell_type": "code",
   "execution_count": 76,
   "metadata": {
    "collapsed": false,
    "scrolled": true
   },
   "outputs": [
    {
     "data": {
      "image/png": "[encoded data removed]",
      "text/plain": [
       "<matplotlib.figure.Figure at 0x7f8f597d0610>"
      ]
     },
     "metadata": {},
     "output_type": "display_data"
    }
   ],
   "source": [
    "plotDensity([\n",
    "        distr_0.pdf(np.linspace(0,1000,1000)),\n",
    "        distr_inf.pdf(np.linspace(0,1000,1000)),\n",
    "            ],)"
   ]
  },
  {
   "cell_type": "code",
   "execution_count": 77,
   "metadata": {
    "collapsed": false
   },
   "outputs": [
    {
     "data": {
      "image/png": "[encoded data removed]",
      "text/plain": [
       "<matplotlib.figure.Figure at 0x7f8f5144a150>"
      ]
     },
     "metadata": {},
     "output_type": "display_data"
    }
   ],
   "source": [
    "singleNPDistribution(distr_0, distr_inf, lambda x: np.percentile(x, 99))"
   ]
  },
  {
   "cell_type": "code",
   "execution_count": 88,
   "metadata": {
    "collapsed": false
   },
   "outputs": [
    {
     "data": {
      "image/png": "[encoded data removed]",
      "text/plain": [
       "<matplotlib.figure.Figure at 0x7f8f51568a90>"
      ]
     },
     "metadata": {},
     "output_type": "display_data"
    }
   ],
   "source": [
    "s_0, s_inf, np_0, np_inf = singleNPDistr(distr_0, distr_inf,\n",
    "                                            lambda x: np.percentile(x, 99), sample_size = 4000000)\n"
   ]
  },
  {
   "cell_type": "code",
   "execution_count": 101,
   "metadata": {
    "collapsed": false
   },
   "outputs": [
    {
     "data": {
      "text/plain": [
       "[]"
      ]
     },
     "execution_count": 101,
     "metadata": {},
     "output_type": "execute_result"
    },
    {
     "data": {
      "image/png": "[encoded data removed]",
      "text/plain": [
       "<matplotlib.figure.Figure at 0x7f8f597d0390>"
      ]
     },
     "metadata": {},
     "output_type": "display_data"
    }
   ],
   "source": [
    "plt.hist(np.log(np_0), bins= 30)\n",
    "plt.hist(np.log(np_inf), bins = 30)\n",
    "plt.plot()\n"
   ]
  },
  {
   "cell_type": "code",
   "execution_count": 105,
   "metadata": {
    "collapsed": false,
    "scrolled": true
   },
   "outputs": [
    {
     "data": {
      "text/plain": [
       "[<matplotlib.lines.Line2D at 0x7f8f51513e10>]"
      ]
     },
     "execution_count": 105,
     "metadata": {},
     "output_type": "execute_result"
    },
    {
     "data": {
      "image/png": "[encoded data removed]",
      "text/plain": [
       "<matplotlib.figure.Figure at 0x7f8f51513e50>"
      ]
     },
     "metadata": {},
     "output_type": "display_data"
    }
   ],
   "source": [
    "plt.plot(np.linspace(-5,5,100), stats.norm(np.mean(np.log(np_0)), np.std(np.log(np_0))).pdf(np.linspace(-5, 5, 100)))\n",
    "plt.plot(np.linspace(-5,5,100), stats.norm(np.mean(np.log(np_inf)), np.std(np.log(np_inf))).pdf(np.linspace(-5, 5, 100)))"
   ]
  },
  {
   "cell_type": "code",
   "execution_count": null,
   "metadata": {
    "collapsed": true
   },
   "outputs": [],
   "source": []
  },
  {
   "cell_type": "markdown",
   "metadata": {},
   "source": [
    "# _-------------------------"
   ]
  },
  {
   "cell_type": "code",
   "execution_count": null,
   "metadata": {
    "collapsed": true
   },
   "outputs": [],
   "source": []
  },
  {
   "cell_type": "markdown",
   "metadata": {},
   "source": [
    "### test on two samples from same distr"
   ]
  },
  {
   "cell_type": "markdown",
   "metadata": {},
   "source": [
    "#### Here's a small guideline through the method I expect to use. \n",
    "\n",
    "#### The test is prepared on lognormal distributition with 99.99tile = 8995 and 99.999tile = 15942, which is pretty close to what we have on Cassandra. "
   ]
  },
  {
   "cell_type": "code",
   "execution_count": 25,
   "metadata": {
    "collapsed": false,
    "scrolled": true
   },
   "outputs": [
    {
     "data": {
      "image/png": "[encoded data removed]",
      "text/plain": [
       "<matplotlib.figure.Figure at 0x7f3a2414c450>"
      ]
     },
     "metadata": {},
     "output_type": "display_data"
    }
   ],
   "source": [
    "plotDensity([\n",
    "        distr_0.pdf(np.linspace(0,1000,1000)),\n",
    "        ])"
   ]
  },
  {
   "cell_type": "markdown",
   "metadata": {},
   "source": [
    "#### Create two samples from this distribution, which should be marked as the same by our test. Samples sizes are 4000000 each, which is the the same with 10 min Cassandra runs with 10k thpt. "
   ]
  },
  {
   "cell_type": "code",
   "execution_count": 27,
   "metadata": {
    "collapsed": false
   },
   "outputs": [],
   "source": [
    "sample_size = 40000000\n",
    "base_sample = modelDistr.rvs(sample_size)\n",
    "check_sample = modelDistr.rvs(sample_size)"
   ]
  },
  {
   "cell_type": "code",
   "execution_count": 185,
   "metadata": {
    "collapsed": true
   },
   "outputs": [],
   "source": [
    "base_density = densityFromSample(base_sample)[0]"
   ]
  },
  {
   "cell_type": "markdown",
   "metadata": {},
   "source": [
    "#### First step is to create and smooth density from the first sample"
   ]
  },
  {
   "cell_type": "code",
   "execution_count": 186,
   "metadata": {
    "collapsed": false,
    "scrolled": true
   },
   "outputs": [
    {
     "name": "stdout",
     "output_type": "stream",
     "text": [
      "Type changing...\n"
     ]
    }
   ],
   "source": [
    "base_density_smoothed = flattenDensities(base_density, bw=10)[0]"
   ]
  },
  {
   "cell_type": "markdown",
   "metadata": {},
   "source": [
    "#### Than check percentile values"
   ]
  },
  {
   "cell_type": "code",
   "execution_count": 252,
   "metadata": {
    "collapsed": false,
    "scrolled": false
   },
   "outputs": [
    {
     "name": "stdout",
     "output_type": "stream",
     "text": [
      "50 : \n",
      "base_sample                    : 500.038952833\n",
      "check_sample                   : 499.956309679\n",
      "smoothed density of base sample: 500\n",
      "---------------\n",
      "90 : \n",
      "base_sample                    : 865.246266457\n",
      "check_sample                   : 865.486882388\n",
      "smoothed density of base sample: 865\n",
      "---------------\n",
      "99 : \n",
      "base_sample                    : 2030.69236159\n",
      "check_sample                   : 2027.15755958\n",
      "smoothed density of base sample: 2031\n",
      "---------------\n",
      "99.9 : \n",
      "base_sample                    : 4488.32636528\n",
      "check_sample                   : 4469.64682472\n",
      "smoothed density of base sample: 4488\n",
      "---------------\n",
      "99.99 : \n",
      "base_sample                    : 9078.03708198\n",
      "check_sample                   : 8990.96505124\n",
      "smoothed density of base sample: 9080\n",
      "---------------\n",
      "99.999 : \n",
      "base_sample                    : 17282.8895817\n",
      "check_sample                   : 16724.2083176\n",
      "smoothed density of base sample: 17284\n",
      "---------------\n"
     ]
    }
   ],
   "source": [
    "perc_set = [50, 90, 99, 99.9, 99.99, 99.999]\n",
    "\n",
    "for p in perc_set:\n",
    "    print \"{0} : \".format(p)\n",
    "    print \"base_sample                    : {0}\".format(np.percentile(base_sample, p,))\n",
    "    print \"check_sample                   : {0}\".format(np.percentile(check_sample, p, ))\n",
    "    print \"smoothed density of base sample: {0}\".format(pdfPercentiles(base_density_smoothed, p))\n",
    "\n",
    "    print \"---------------\""
   ]
  },
  {
   "cell_type": "markdown",
   "metadata": {},
   "source": [
    "#### Difference like we have on Cassandra can be found on the 99.999tile, so the test will be performed with it\n",
    "\n",
    "To check if the second sample(check_sample) is drawn from the same pdf by the percentle value, I perform Neyman-Pearson test. \n",
    "Step-by-step it looks like this:\n",
    "\n",
    "1. The base hypothesis is that check sample is drawn from the same density function as base sample, which is smoothed density of base sample.\n",
    "2. Create a set of alternative hypothesises. Here I'm working with alternatives that the check sample is drawn from the distribution shifted right or left, by 1% of maximum value in the base sample. It's quite reasonable alternative for 99.999tile value. \n",
    "3. Generate more samples the same size as the original one from the base distribution and alternatives\n",
    "4. Calculate 99.999 percentile distributions along the base distr and alternatives\n",
    "5. The statistic to make a decision is the ratio of likelihoods. Let the 99.999tile value of check sample be $ p $, this means our dicision statistic will be $ L_0(p)/L_{\\infty}(p) $, where $ L_0(p) $ stands for likelihood of being drawn from base distr and $ L_{\\infty}(p) $ for alternative\n",
    "6. Then we generate more samples from our base distribution and alternative, and for each of them we calculate the percentile value and than decision statistic, so we have the distribution of decision statistic when the base hypothesis is true and when the alternative is true\n",
    "8. We set the dicision border for decision statistic, means if it's higher than boarder, we believe in basic hypothesis, if lower in alternative. The way to set it depends on the values of false positives and false negatives that we are ready to see.\n",
    "7. Finaly we take the check sample 99.999tile value and calculate statistic for it, and make a decision.\n",
    "\n",
    "Here it is:"
   ]
  },
  {
   "cell_type": "code",
   "execution_count": 338,
   "metadata": {
    "collapsed": false
   },
   "outputs": [],
   "source": [
    "from scipy.stats import rv_continuous\n",
    "\n",
    "class Distr(rv_continuous):\n",
    "    def __init__(self, pdf):\n",
    "        self.__pdf = pdf\n",
    "        \n",
    "    def _pdf(self, x):\n",
    "        if x < len(self.__pdf) and x > 0:\n",
    "            return self.__pdf(round(x))\n",
    "        else:\n",
    "            return 0\n",
    "    \n",
    "    def _rvs(self, size = 1):\n",
    "        return np.random.choice(range(len(self.__pdf)), size, p = self.__pdf)\n",
    "        \n",
    "    def rvs(self, size = 1):\n",
    "        return self._rvs(size)\n",
    "    \n"
   ]
  },
  {
   "cell_type": "code",
   "execution_count": 339,
   "metadata": {
    "collapsed": true
   },
   "outputs": [],
   "source": [
    "base_distr = Distr(base_density_smoothed)"
   ]
  },
  {
   "cell_type": "markdown",
   "metadata": {},
   "source": [
    "#### Here I create alternatives low_density and high_density"
   ]
  },
  {
   "cell_type": "code",
   "execution_count": 233,
   "metadata": {
    "collapsed": false
   },
   "outputs": [
    {
     "name": "stdout",
     "output_type": "stream",
     "text": [
      "1206\n"
     ]
    }
   ],
   "source": [
    "shift = 0.01\n",
    "shift_absolute = int(round(shift * len(base_density_smoothed)))\n",
    "print shift_absolute\n",
    "\n",
    "low_density = base_density_smoothed[shift_absolute:]\n",
    "high_density = np.hstack((np.zeros(shift_absolute), base_density_smoothed))"
   ]
  },
  {
   "cell_type": "code",
   "execution_count": 340,
   "metadata": {
    "collapsed": false
   },
   "outputs": [],
   "source": [
    "low_distr = Distr(low_density)\n",
    "high_distr = Distr(high_density)"
   ]
  },
  {
   "cell_type": "markdown",
   "metadata": {},
   "source": [
    "####  This is how the 99.999tile value is disterbed. Blue is for base distribution, green is for higher alternative."
   ]
  },
  {
   "cell_type": "code",
   "execution_count": 235,
   "metadata": {
    "collapsed": false,
    "scrolled": true
   },
   "outputs": [
    {
     "data": {
      "image/png": "[encoded data removed]",
      "text/plain": [
       "<matplotlib.figure.Figure at 0x7f8f59b785d0>"
      ]
     },
     "metadata": {},
     "output_type": "display_data"
    }
   ],
   "source": [
    "s_base, s_high, np_base, np_high = singleNPDistr(base_distr, high_distr,\n",
    "                                            lambda x: np.percentile(x, 99.999), sample_size = 4000000)"
   ]
  },
  {
   "cell_type": "code",
   "execution_count": 247,
   "metadata": {
    "collapsed": false
   },
   "outputs": [],
   "source": [
    "s_base, s_high, np_base, np_high = singleNPDistr(base_distr, high_distr,\n",
    "                                            lambda x: np.percentile(x, 99.999), sample_size = 4000000,\n",
    "                                                np_bootstrap_size = 1000,\n",
    "                                                stat_sample_0 = s_base, stat_sample_inf = s_high)"
   ]
  },
  {
   "cell_type": "markdown",
   "metadata": {},
   "source": [
    "#### And this is how decision statistic is disterbed. Blue again is when base hypothesis is true, and green for alternative."
   ]
  },
  {
   "cell_type": "code",
   "execution_count": 255,
   "metadata": {
    "collapsed": false,
    "scrolled": true
   },
   "outputs": [
    {
     "data": {
      "text/plain": [
       "[]"
      ]
     },
     "execution_count": 255,
     "metadata": {},
     "output_type": "execute_result"
    },
    {
     "data": {
      "image/png": "[encoded data removed]",
      "text/plain": [
       "<matplotlib.figure.Figure at 0x7f8f515c1450>"
      ]
     },
     "metadata": {},
     "output_type": "display_data"
    }
   ],
   "source": [
    "plt.hist(np_base, bins= 100)\n",
    "plt.hist(np_high, bins = 100)\n",
    "plt.plot()"
   ]
  },
  {
   "cell_type": "code",
   "execution_count": 310,
   "metadata": {
    "collapsed": true
   },
   "outputs": [],
   "source": [
    "all_base = []\n",
    "all_alt = []\n",
    "x = []\n",
    "\n",
    "base_hist = np.histogram(np_base, bins = 100, density=True)\n",
    "alt_hist = np.histogram(np_high, bins = 100, density = True)\n",
    "\n",
    "i = 0\n",
    "j = 0 \n",
    "\n",
    "while i < len(base_hist[1]) - 2 or j < len(alt_hist[1]) - 2: \n",
    "    x.append(min(base_hist[1][i], alt_hist[1][j]))\n",
    "    all_base.append(base_hist[0][i])\n",
    "    all_alt.append(alt_hist[0][j])\n",
    "    if base_hist[1][i + 1] < alt_hist[1][j+1] or j >= len(alt_hist[1]) - 2:\n",
    "        i += 1\n",
    "    else:\n",
    "        j += 1  "
   ]
  },
  {
   "cell_type": "code",
   "execution_count": 314,
   "metadata": {
    "collapsed": false
   },
   "outputs": [],
   "source": [
    "false_positive_prop = []\n",
    "false_negative_prop = []\n",
    "i = 0\n",
    "j = 0 \n",
    "\n",
    "curr_FP = 1\n",
    "curr_FN = 0\n",
    "\n",
    "for i in range(1,len(x)):\n",
    "    false_positive_prop.append(curr_FP)\n",
    "    false_negative_prop.append(curr_FN)\n",
    "    \n",
    "    curr_FP -= all_alt[i] * (x[i] - x[i - 1])\n",
    "    curr_FN += all_base[i] * (x[i] - x[i - 1 ])"
   ]
  },
  {
   "cell_type": "markdown",
   "metadata": {},
   "source": [
    "## Here is the main thing! \n",
    "\n",
    "#### This plot shows how the False Negative error (FN) of decision based on 99.999 percentile depends on False Positive error(FP). In fact we need to minimize both.\n",
    "#### For example if we want FN be less than 10% we will get FP about 30%.  This shows that 99.999tile based decision on this sample size is useless, also for real cassandra data even 99.99 is probably useless too. \n",
    "\n",
    "#### Possible solution is to increase the sample size. I can find the sample size which will reduce the FP and FN to better values."
   ]
  },
  {
   "cell_type": "code",
   "execution_count": 322,
   "metadata": {
    "collapsed": false,
    "scrolled": true
   },
   "outputs": [
    {
     "data": {
      "text/plain": [
       "<matplotlib.text.Text at 0x7f8f59ebf150>"
      ]
     },
     "execution_count": 322,
     "metadata": {},
     "output_type": "execute_result"
    },
    {
     "data": {
      "image/png": "[encoded data removed]",
      "text/plain": [
       "<matplotlib.figure.Figure at 0x7f8f59f12c90>"
      ]
     },
     "metadata": {},
     "output_type": "display_data"
    }
   ],
   "source": [
    "plt.plot(false_negative_prop, false_positive_prop)\n",
    "plt.ylabel('FN error')\n",
    "plt.xlabel('FP error')"
   ]
  },
  {
   "cell_type": "code",
   "execution_count": null,
   "metadata": {
    "collapsed": false
   },
   "outputs": [],
   "source": []
  },
  {
   "cell_type": "markdown",
   "metadata": {},
   "source": [
    "# Chi squared"
   ]
  },
  {
   "cell_type": "code",
   "execution_count": 170,
   "metadata": {
    "collapsed": false,
    "scrolled": true
   },
   "outputs": [
    {
     "ename": "NameError",
     "evalue": "name 'l' is not defined",
     "output_type": "error",
     "traceback": [
      "\u001b[1;31m---------------------------------------------------------------------------\u001b[0m",
      "\u001b[1;31mNameError\u001b[0m                                 Traceback (most recent call last)",
      "\u001b[1;32m<ipython-input-170-1c2d73a2f585>\u001b[0m in \u001b[0;36m<module>\u001b[1;34m()\u001b[0m\n\u001b[1;32m----> 1\u001b[1;33m \u001b[0mstats\u001b[0m\u001b[1;33m.\u001b[0m\u001b[0mchisquare\u001b[0m\u001b[1;33m(\u001b[0m\u001b[0mnp\u001b[0m\u001b[1;33m.\u001b[0m\u001b[0mhistogram\u001b[0m\u001b[1;33m(\u001b[0m\u001b[0mmodel_samples\u001b[0m\u001b[1;33m[\u001b[0m\u001b[1;36m1\u001b[0m\u001b[1;33m]\u001b[0m\u001b[1;33m,\u001b[0m \u001b[0mbins\u001b[0m \u001b[1;33m=\u001b[0m \u001b[0ml\u001b[0m\u001b[1;33m)\u001b[0m\u001b[1;33m[\u001b[0m\u001b[1;36m0\u001b[0m\u001b[1;33m]\u001b[0m\u001b[1;33m[\u001b[0m\u001b[0mmask\u001b[0m\u001b[1;33m]\u001b[0m\u001b[1;33m,\u001b[0m \u001b[0mnp\u001b[0m\u001b[1;33m.\u001b[0m\u001b[0mhistogram\u001b[0m\u001b[1;33m(\u001b[0m\u001b[0mmodel_samples\u001b[0m\u001b[1;33m[\u001b[0m\u001b[1;36m3\u001b[0m\u001b[1;33m]\u001b[0m\u001b[1;33m,\u001b[0m \u001b[0mbins\u001b[0m \u001b[1;33m=\u001b[0m \u001b[0ml\u001b[0m\u001b[1;33m)\u001b[0m\u001b[1;33m[\u001b[0m\u001b[1;36m0\u001b[0m\u001b[1;33m]\u001b[0m\u001b[1;33m[\u001b[0m\u001b[0mmask\u001b[0m\u001b[1;33m]\u001b[0m\u001b[1;33m)\u001b[0m\u001b[1;33m\u001b[0m\u001b[0m\n\u001b[0m",
      "\u001b[1;31mNameError\u001b[0m: name 'l' is not defined"
     ]
    }
   ],
   "source": [
    "stats.chisquare(np.histogram(model_samples[1], bins = l)[0][mask], np.histogram(model_samples[3], bins = l)[0][mask])"
   ]
  },
  {
   "cell_type": "code",
   "execution_count": 385,
   "metadata": {
    "collapsed": false
   },
   "outputs": [],
   "source": [
    "l = np.logspace(1, 6, 100)"
   ]
  },
  {
   "cell_type": "code",
   "execution_count": 386,
   "metadata": {
    "collapsed": false
   },
   "outputs": [],
   "source": [
    "mask = np.histogram(model_samples[1], bins = l)[0] > 100"
   ]
  },
  {
   "cell_type": "code",
   "execution_count": 387,
   "metadata": {
    "collapsed": false,
    "scrolled": true
   },
   "outputs": [
    {
     "data": {
      "text/plain": [
       "array([False, False, False, False, False, False, False, False, False,\n",
       "       False, False, False, False, False, False, False, False, False,\n",
       "       False, False, False, False, False, False, False, False, False,\n",
       "       False, False, False, False,  True,  True,  True,  True,  True,\n",
       "        True,  True,  True,  True,  True,  True,  True,  True,  True,\n",
       "        True,  True,  True,  True,  True,  True,  True,  True,  True,\n",
       "        True,  True,  True,  True,  True,  True, False, False, False,\n",
       "       False, False, False, False, False, False, False, False, False,\n",
       "       False, False, False, False, False, False, False, False, False,\n",
       "       False, False, False, False, False, False, False, False, False,\n",
       "       False, False, False, False, False, False, False, False, False], dtype=bool)"
      ]
     },
     "execution_count": 387,
     "metadata": {},
     "output_type": "execute_result"
    }
   ],
   "source": [
    "mask"
   ]
  },
  {
   "cell_type": "code",
   "execution_count": null,
   "metadata": {
    "collapsed": true
   },
   "outputs": [],
   "source": []
  },
  {
   "cell_type": "code",
   "execution_count": 394,
   "metadata": {
    "collapsed": false
   },
   "outputs": [
    {
     "data": {
      "text/plain": [
       "Anderson_ksampResult(statistic=1.4096638618144726, critical_values=array([ 0.54443267,  1.3318034 ,  1.87581082,  2.39564842,  3.06162317]), significance_level=0.09014867516241108)"
      ]
     },
     "execution_count": 394,
     "metadata": {},
     "output_type": "execute_result"
    }
   ],
   "source": [
    "stats.anderson_ksamp(model_samples)"
   ]
  },
  {
   "cell_type": "code",
   "execution_count": 398,
   "metadata": {
    "collapsed": false,
    "scrolled": true
   },
   "outputs": [
    {
     "data": {
      "text/plain": [
       "Anderson_ksampResult(statistic=14192.237777927301, critical_values=array([ 0.44925884,  1.3052767 ,  1.9434184 ,  2.57696569,  3.41634856]), significance_level=0.0)"
      ]
     },
     "execution_count": 398,
     "metadata": {},
     "output_type": "execute_result"
    }
   ],
   "source": [
    "stats.anderson_ksamp([sampleFromDensity([runs['Highlander'][i+3]],\n",
    "                                       sample_size=4000000)\n",
    "                       for i in range(3)])"
   ]
  },
  {
   "cell_type": "markdown",
   "metadata": {},
   "source": [
    "#  Precision"
   ]
  },
  {
   "cell_type": "code",
   "execution_count": 157,
   "metadata": {
    "collapsed": true
   },
   "outputs": [],
   "source": [
    "from decimal import *"
   ]
  },
  {
   "cell_type": "code",
   "execution_count": 45,
   "metadata": {
    "collapsed": true
   },
   "outputs": [],
   "source": [
    "def flattenDecimalDensities(density, bw = 3): \n",
    "    new_density = [Decimal(0) for _ in range(len(density) * 2)]\n",
    "\n",
    "    print getcontext()\n",
    "    \n",
    "    for i in range(len(density)):\n",
    "        if density[i] == Decimal(0):\n",
    "            pass\n",
    "        else:\n",
    "            left_boarder, right_boarder = searchBoarders(density, i, bw)\n",
    "            for j in range(left_boarder, right_boarder):\n",
    "                new_density[j] += density[i] / Decimal((right_boarder - left_boarder))\n",
    "        \n",
    "        \n",
    "    return new_density"
   ]
  },
  {
   "cell_type": "code",
   "execution_count": 98,
   "metadata": {
    "collapsed": false
   },
   "outputs": [],
   "source": [
    "test_run = runs['Highlander'][0]\n",
    "\n",
    "test_run_decimal = [decimal.Decimal(i) for i in test_run]"
   ]
  },
  {
   "cell_type": "code",
   "execution_count": 175,
   "metadata": {
    "collapsed": false
   },
   "outputs": [
    {
     "name": "stdout",
     "output_type": "stream",
     "text": [
      "Context(prec=50, rounding=ROUND_HALF_EVEN, Emin=-999999999, Emax=999999999, capitals=1, flags=[Inexact, Rounded], traps=[DivisionByZero, Overflow, InvalidOperation])\n",
      "1.0000000000000000004450628742229314344092117039493\n",
      "Context(prec=50, rounding=ROUND_HALF_EVEN, Emin=-999999999, Emax=999999999, capitals=1, flags=[Inexact, Rounded], traps=[DivisionByZero, Overflow, InvalidOperation])\n",
      "0.99999366845831708721816221416625602991246069005363\n"
     ]
    }
   ],
   "source": [
    "flatten_test_dec = flattenDecimalDensities(test_run_decimal, bw=3)\n",
    "print sum(flatten_test_dec)\n",
    "\n",
    "flatten_test_dec = flattenDecimalDensities(test_run_decimal, bw=20)\n",
    "print sum(flatten_test_dec)"
   ]
  },
  {
   "cell_type": "markdown",
   "metadata": {},
   "source": [
    "# Go for hummer"
   ]
  },
  {
   "cell_type": "markdown",
   "metadata": {},
   "source": [
    "### сглаживаем"
   ]
  },
  {
   "cell_type": "code",
   "execution_count": 8,
   "metadata": {
    "collapsed": false,
    "scrolled": true
   },
   "outputs": [
    {
     "data": {
      "image/png": "[encoded data removed]",
      "text/plain": [
       "<matplotlib.figure.Figure at 0x7f87d6673490>"
      ]
     },
     "metadata": {},
     "output_type": "display_data"
    }
   ],
   "source": [
    "plotDensity([runs['Highlander'][4], runs['Highlander'][1]],\n",
    "           axes_limits = [10000,50000, 0, 0.0000005])"
   ]
  },
  {
   "cell_type": "code",
   "execution_count": null,
   "metadata": {
    "collapsed": true
   },
   "outputs": [],
   "source": []
  },
  {
   "cell_type": "code",
   "execution_count": 12,
   "metadata": {
    "collapsed": false
   },
   "outputs": [
    {
     "name": "stdout",
     "output_type": "stream",
     "text": [
      "Type changing...\n"
     ]
    },
    {
     "data": {
      "image/png": "[encoded data removed]",
      "text/plain": [
       "<matplotlib.figure.Figure at 0x7fcec07b1610>"
      ]
     },
     "metadata": {},
     "output_type": "display_data"
    }
   ],
   "source": [
    "plotDensity(flattenDensities(runs['Highlander'][0], 10),\n",
    "\n",
    "             #runs['Highlander'],\n",
    "            \n",
    "           axes_limits = [10000,60000, 0, 0.000000007])"
   ]
  },
  {
   "cell_type": "code",
   "execution_count": 32,
   "metadata": {
    "collapsed": false
   },
   "outputs": [],
   "source": [
    "flatten_runs = dict()\n",
    "\n",
    "for k in runs:\n",
    "    flatten_runs[k] = flattenDensities(runs[k], 10)"
   ]
  },
  {
   "cell_type": "markdown",
   "metadata": {},
   "source": [
    "### Бутстрепим"
   ]
  },
  {
   "cell_type": "code",
   "execution_count": 190,
   "metadata": {
    "collapsed": false,
    "scrolled": true
   },
   "outputs": [
    {
     "name": "stdout",
     "output_type": "stream",
     "text": [
      "Highlander   0\n",
      "Highlander   1\n",
      "Highlander   2\n",
      "Highlander   3\n",
      "Highlander   4\n",
      "Highlander   5\n"
     ]
    }
   ],
   "source": [
    "percentiles_all = dict()\n",
    "percentiles_all_mean = dict()\n",
    "percentiles_all_std = dict()\n",
    "\n",
    "percentiles_set = [50, 90, 99, 99.9, 99.99, 99.999]\n",
    "\n",
    "for k in ['Highlander']:\n",
    "    percentiles_all[k] = []\n",
    "    percentiles_all_mean[k] = []\n",
    "    percentiles_all_std[k] = []\n",
    "    \n",
    "    for i in range(len(flatten_runs[k])):\n",
    "        print k, \" \", i\n",
    "        \n",
    "        percentiles = percentileBootstrap([flatten_runs[k][i]],\n",
    "                                            percentiles_set,\n",
    "                                            percentiles_sample_size = 1000,\n",
    "                                            sample_size = 4000000,\n",
    "                                            scaling = False)\n",
    "\n",
    "        percentiles_all[k].append(percentiles)\n",
    "        \n",
    "        percentiles_mean = dict()\n",
    "        percentiles_std = dict()\n",
    "        for perc in percentiles_set:\n",
    "            percentiles_mean[perc] = np.mean(percentiles[perc])\n",
    "            percentiles_std[perc] = np.std(percentiles[perc])\n",
    "            \n",
    "            \n",
    "        percentiles_all_mean[k].append(percentiles_mean)\n",
    "        percentiles_all_std[k].append(percentiles_std) "
   ]
  },
  {
   "cell_type": "code",
   "execution_count": 205,
   "metadata": {
    "collapsed": false,
    "scrolled": true
   },
   "outputs": [
    {
     "data": {
      "text/html": [
       "\n",
       "                <audio controls=\"controls\" autoplay=\"autoplay\">\n",
       "                    <source src=\"./call.wav\" type=\"audio/x-wav\" />\n",
       "                    Your browser does not support the audio element.\n",
       "                </audio>\n",
       "              "
      ],
      "text/plain": [
       "<IPython.lib.display.Audio object>"
      ]
     },
     "execution_count": 205,
     "metadata": {},
     "output_type": "execute_result"
    }
   ],
   "source": [
    "ALLERT"
   ]
  },
  {
   "cell_type": "code",
   "execution_count": 191,
   "metadata": {
    "collapsed": false,
    "scrolled": false
   },
   "outputs": [
    {
     "data": {
      "text/plain": [
       "{'Highlander': [{50: 491.0,\n",
       "   90: 626.25300000000004,\n",
       "   99: 967.00707999999827,\n",
       "   99.9: 2452.4744830003042,\n",
       "   99.99: 8593.3209927983135,\n",
       "   99.999: 23978.869928593831},\n",
       "  {50: 482.0,\n",
       "   90: 611.00300000000004,\n",
       "   99: 921.48704999999893,\n",
       "   99.9: 2336.4683580002252,\n",
       "   99.99: 7935.2652180979312,\n",
       "   99.999: 25811.502713393256},\n",
       "  {50: 489.0,\n",
       "   90: 613.03899999999999,\n",
       "   99: 905.97203999999908,\n",
       "   99.9: 2429.8245130003229,\n",
       "   99.99: 8502.5660803981646,\n",
       "   99.999: 22595.064223902325},\n",
       "  {50: 485.0,\n",
       "   90: 597.49000000000001,\n",
       "   99: 879.10800999999981,\n",
       "   99.9: 2876.1995520003475,\n",
       "   99.99: 9813.5359327984152,\n",
       "   99.999: 24216.614474872553},\n",
       "  {50: 491.0,\n",
       "   90: 629.01199999999994,\n",
       "   99: 1005.0780999999978,\n",
       "   99.9: 3205.322578000364,\n",
       "   99.99: 10000.058956998375,\n",
       "   99.999: 24816.853408295145},\n",
       "  {50: 489.0,\n",
       "   90: 621.99400000000003,\n",
       "   99: 977.13406999999847,\n",
       "   99.9: 3207.6055480003452,\n",
       "   99.99: 10279.567901298469,\n",
       "   99.999: 23286.630348937451}]}"
      ]
     },
     "execution_count": 191,
     "metadata": {},
     "output_type": "execute_result"
    }
   ],
   "source": [
    "percentiles_all_mean"
   ]
  },
  {
   "cell_type": "markdown",
   "metadata": {},
   "source": [
    "#### SAVE PERC TO FILE"
   ]
  },
  {
   "cell_type": "code",
   "execution_count": 135,
   "metadata": {
    "collapsed": false
   },
   "outputs": [],
   "source": [
    "f = open('Dev_Highlander_Granada_all.data', 'w')\n",
    "f.write(json.dumps(percentiles_all))\n",
    "f.close()\n",
    "\n",
    "f = open('Dev_Highlander_Granada_mean.data', 'w')\n",
    "f.write(json.dumps(percentiles_all_mean))\n",
    "f.close()\n",
    "\n",
    "f = open('Dev_Highlander_Granada_std.data', 'w')\n",
    "f.write(json.dumps(percentiles_all_std))\n",
    "f.close()\n"
   ]
  },
  {
   "cell_type": "code",
   "execution_count": 207,
   "metadata": {
    "collapsed": true
   },
   "outputs": [],
   "source": [
    "f = open('Highlander_all_4kk.data', 'w')\n",
    "f.write(json.dumps(percentiles_all))\n",
    "f.close()\n",
    "\n",
    "f = open('Highlander_mean_4kk.data', 'w')\n",
    "f.write(json.dumps(percentiles_all_mean))\n",
    "f.close()\n",
    "\n",
    "f = open('Highlander_std_4kk.data', 'w')\n",
    "f.write(json.dumps(percentiles_all_std))\n",
    "f.close()\n"
   ]
  },
  {
   "cell_type": "markdown",
   "metadata": {},
   "source": [
    "### Читаем новые заголовки "
   ]
  },
  {
   "cell_type": "code",
   "execution_count": 14,
   "metadata": {
    "collapsed": false
   },
   "outputs": [],
   "source": [
    "runs_dir = \"/home/anton/azul/New_config_latency_runs/all0408RD/\"\n",
    "\n",
    "runs_headers = dict(zip(['Dev', 'Granada', 'Highlander'], [[],[],[]]))\n",
    "\n",
    "for run_file_name in os.listdir(runs_dir):\n",
    "    if run_file_name.endswith(\"READ.rd\"):\n",
    "        \n",
    "        if run_file_name.split('-')[3] == '600':\n",
    "            runs_headers[run_file_name.split('-')[0]].insert(0, readRDHeader(run_file_name, runs_dir))\n",
    "        if run_file_name.split('-')[3] == '1800':\n",
    "            runs_headers[run_file_name.split('-')[0]].append(readRDHeader(run_file_name, runs_dir))\n",
    "        \n",
    "        #runs_headers[run_file_name.split('-')[0]].append(readRDHeader(run_file_name, runs_dir))\n",
    "        "
   ]
  },
  {
   "cell_type": "code",
   "execution_count": 147,
   "metadata": {
    "collapsed": false
   },
   "outputs": [],
   "source": [
    "#runs_headers"
   ]
  },
  {
   "cell_type": "markdown",
   "metadata": {},
   "source": [
    "### Нейман-Пирсон и просто проверки"
   ]
  },
  {
   "cell_type": "code",
   "execution_count": 193,
   "metadata": {
    "collapsed": false
   },
   "outputs": [
    {
     "name": "stdout",
     "output_type": "stream",
     "text": [
      "99.99 -------------------\n",
      "flatten          : 8571\n",
      "mean             : 8593.3209928\n",
      "headers          : 8567.0\n",
      "headers - mean   : -26.3209927983\n",
      "headers - flatten   : -4.0\n",
      "\n",
      "\n",
      "________________________________________\n",
      "99.99 -------------------\n",
      "flatten          : 7919\n",
      "mean             : 7935.2652181\n",
      "headers          : 7911.0\n",
      "headers - mean   : -24.2652180979\n",
      "headers - flatten   : -8.0\n",
      "\n",
      "\n",
      "________________________________________\n",
      "99.99 -------------------\n",
      "flatten          : 8489\n",
      "mean             : 8502.5660804\n",
      "headers          : 8463.0\n",
      "headers - mean   : -39.5660803982\n",
      "headers - flatten   : -26.0\n",
      "\n",
      "\n",
      "________________________________________\n",
      "99.99 -------------------\n",
      "flatten          : 9823\n",
      "mean             : 9813.5359328\n",
      "headers          : 9823.0\n",
      "headers - mean   : 9.46406720158\n",
      "headers - flatten   : 0.0\n",
      "\n",
      "\n",
      "________________________________________\n",
      "99.99 -------------------\n",
      "flatten          : 10004\n",
      "mean             : 10000.058957\n",
      "headers          : 10007.0\n",
      "headers - mean   : 6.94104300163\n",
      "headers - flatten   : 3.0\n",
      "\n",
      "\n",
      "________________________________________\n",
      "99.99 -------------------\n",
      "flatten          : 10279\n",
      "mean             : 10279.5679013\n",
      "headers          : 10271.0\n",
      "headers - mean   : -8.56790129847\n",
      "headers - flatten   : -8.0\n",
      "\n",
      "\n",
      "________________________________________\n"
     ]
    }
   ],
   "source": [
    "key = 'Highlander'\n",
    "\n",
    "for i in range(6):\n",
    "    for p in [99.99]:\n",
    "        print p, '-------------------'\n",
    "        print \"flatten          : {0}\".format(pdfPercentiles(flatten_runs[key][i], p))\n",
    "\n",
    "        print \"mean             : {0}\".format(percentiles_all_mean[key][i][p])\n",
    "        \n",
    "        print \"headers          : {0}\".format(runs_headers[key][i][p])\n",
    "\n",
    "        print \"headers - mean   : {0}\".format(runs_headers[key][i][p] - percentiles_all_mean[key][i][p])\n",
    "        print \"headers - flatten   : {0}\".format(runs_headers[key][i][p] - pdfPercentiles(flatten_runs[key][i], p))\n",
    "        print \"\\n\"\n",
    "    print \"________________________________________\""
   ]
  },
  {
   "cell_type": "code",
   "execution_count": 177,
   "metadata": {
    "collapsed": false
   },
   "outputs": [],
   "source": [
    "Highlander_lruns = percentileBootstrap([flatten_runs['Highlander'][4]], \n",
    "                                                [99.99, 99.999],\n",
    "                                                 percentiles_sample_size = 1000,\n",
    "                                                 sample_size = 1600000\n",
    "                                                 )"
   ]
  },
  {
   "cell_type": "markdown",
   "metadata": {
    "collapsed": false
   },
   "source": [
    "хороший тест - отличить Zing от HotSpot"
   ]
  },
  {
   "cell_type": "code",
   "execution_count": 71,
   "metadata": {
    "collapsed": false
   },
   "outputs": [
    {
     "data": {
      "text/plain": [
       "(array([  7.15639841e-06,   7.15639841e-06,   5.00947889e-05,\n",
       "          6.44075857e-05,   1.35971570e-04,   2.57630343e-04,\n",
       "          2.86255936e-04,   2.86255936e-04,   3.14881530e-04,\n",
       "          4.29383905e-04,   6.08293865e-04,   9.30331794e-04,\n",
       "          6.65545052e-04,   5.00947889e-04,   4.15071108e-04,\n",
       "          5.22417084e-04,   5.36729881e-04,   3.79289116e-04,\n",
       "          2.36161148e-04,   2.14691952e-04,   1.00189578e-04,\n",
       "          1.00189578e-04,   1.43127968e-05,   4.29383905e-05,\n",
       "          2.14691952e-05,   0.00000000e+00,   1.43127968e-05,\n",
       "          0.00000000e+00,   0.00000000e+00,   1.43127968e-05]),\n",
       " array([  6773.0021    ,   6912.73719333,   7052.47228666,   7192.20738   ,\n",
       "          7331.94247333,   7471.67756666,   7611.41265999,   7751.14775333,\n",
       "          7890.88284666,   8030.61793999,   8170.35303332,   8310.08812666,\n",
       "          8449.82321999,   8589.55831332,   8729.29340665,   8869.02849998,\n",
       "          9008.76359332,   9148.49868665,   9288.23377998,   9427.96887331,\n",
       "          9567.70396665,   9707.43905998,   9847.17415331,   9986.90924664,\n",
       "         10126.64433998,  10266.37943331,  10406.11452664,  10545.84961997,\n",
       "         10685.58471331,  10825.31980664,  10965.05489997]),\n",
       " <a list of 30 Patch objects>)"
      ]
     },
     "execution_count": 71,
     "metadata": {},
     "output_type": "execute_result"
    },
    {
     "data": {
      "image/png": "[encoded data removed]",
      "text/plain": [
       "<matplotlib.figure.Figure at 0x7fe029965890>"
      ]
     },
     "metadata": {},
     "output_type": "display_data"
    }
   ],
   "source": [
    "\n",
    "#plt.hist(np.random.normal(np.mean(runs_percentiles['Highlander'][0][99.99]),\n",
    "#                          np.std(runs_percentiles['Highlander'][0][99.99]), 10000), bins=30, normed=True)\n",
    "plt.hist(np.random.normal(np.mean(runs_percentiles['Highlander'][0][99.99]) * 0.95,\n",
    "                          np.std(runs_percentiles['Highlander'][0][99.99]), 10000), bins=30, normed=True)\n",
    "plt.hist(np.random.normal(np.mean(runs_percentiles['Highlander'][0][99.99])*1.05,\n",
    "                          np.std(runs_percentiles['Highlander'][0][99.99]), 10000), bins=30, normed=True)\n",
    "plt.hist(runs_percentiles['Highlander'][0][99.99], bins=30, normed=True)\n",
    "\n",
    "#plt.hist([9823], bins = 30, normed=True)"
   ]
  },
  {
   "cell_type": "code",
   "execution_count": 49,
   "metadata": {
    "collapsed": false
   },
   "outputs": [
    {
     "data": {
      "text/plain": [
       "array([ 0.,  0.,  0., ...,  0.,  0.,  0.])"
      ]
     },
     "execution_count": 49,
     "metadata": {},
     "output_type": "execute_result"
    }
   ],
   "source": [
    "runs['Highlander'][1]"
   ]
  },
  {
   "cell_type": "code",
   "execution_count": 103,
   "metadata": {
    "collapsed": true
   },
   "outputs": [],
   "source": [
    "check2 = dict(zip([50,90,99,99.9,99.99], [489, 614, 906, 2431, 8463]))\n",
    "\n",
    "check3 = dict(zip([50,90,99,99.9,99.99], [485, 598, 880, 2879, 9823]))\n"
   ]
  },
  {
   "cell_type": "code",
   "execution_count": 194,
   "metadata": {
    "collapsed": false
   },
   "outputs": [
    {
     "data": {
      "text/plain": [
       "{'Highlander': [{50: 491.0,\n",
       "   90: 626.25300000000004,\n",
       "   99: 967.00707999999827,\n",
       "   99.9: 2452.4744830003042,\n",
       "   99.99: 8593.3209927983135,\n",
       "   99.999: 23978.869928593831},\n",
       "  {50: 482.0,\n",
       "   90: 611.00300000000004,\n",
       "   99: 921.48704999999893,\n",
       "   99.9: 2336.4683580002252,\n",
       "   99.99: 7935.2652180979312,\n",
       "   99.999: 25811.502713393256},\n",
       "  {50: 489.0,\n",
       "   90: 613.03899999999999,\n",
       "   99: 905.97203999999908,\n",
       "   99.9: 2429.8245130003229,\n",
       "   99.99: 8502.5660803981646,\n",
       "   99.999: 22595.064223902325},\n",
       "  {50: 485.0,\n",
       "   90: 597.49000000000001,\n",
       "   99: 879.10800999999981,\n",
       "   99.9: 2876.1995520003475,\n",
       "   99.99: 9813.5359327984152,\n",
       "   99.999: 24216.614474872553},\n",
       "  {50: 491.0,\n",
       "   90: 629.01199999999994,\n",
       "   99: 1005.0780999999978,\n",
       "   99.9: 3205.322578000364,\n",
       "   99.99: 10000.058956998375,\n",
       "   99.999: 24816.853408295145},\n",
       "  {50: 489.0,\n",
       "   90: 621.99400000000003,\n",
       "   99: 977.13406999999847,\n",
       "   99.9: 3207.6055480003452,\n",
       "   99.99: 10279.567901298469,\n",
       "   99.999: 23286.630348937451}]}"
      ]
     },
     "execution_count": 194,
     "metadata": {},
     "output_type": "execute_result"
    }
   ],
   "source": [
    "percentiles_all_mean"
   ]
  },
  {
   "cell_type": "code",
   "execution_count": 225,
   "metadata": {
    "collapsed": false
   },
   "outputs": [],
   "source": [
    "\n",
    "check = dict(zip(percentiles_set, [runs_headers['Highlander'][1][k] for k in percentiles_set]))\n"
   ]
  },
  {
   "cell_type": "code",
   "execution_count": null,
   "metadata": {
    "collapsed": false
   },
   "outputs": [],
   "source": []
  },
  {
   "cell_type": "code",
   "execution_count": 226,
   "metadata": {
    "collapsed": false
   },
   "outputs": [
    {
     "name": "stdout",
     "output_type": "stream",
     "text": [
      "99\n",
      "0.00476344396296 0.0 0.0\n",
      "99.9\n",
      "0.0136075242894 3.61820625928e-06 7.74087682762e-18\n",
      "50\n",
      "nan nan nan\n",
      "99.99\n",
      "0.000906072508774 6.95691705077e-06 6.08159112456e-10\n",
      "99.999\n",
      "1.87369600744e-10 1.18647332701e-06 0.000175974925993\n",
      "90\n",
      "0.0 3.5424297961e-234 0.0\n"
     ]
    }
   ],
   "source": [
    "NeymanPearsonStat(percentiles_all_mean['Highlander'][0],\n",
    "                  percentiles_all_std['Highlander'][0]\n",
    "                  , 0.05, check)"
   ]
  },
  {
   "cell_type": "code",
   "execution_count": 200,
   "metadata": {
    "collapsed": false
   },
   "outputs": [
    {
     "data": {
      "text/plain": [
       "[967.00707999999827,\n",
       " 2452.4744830003042,\n",
       " 491.0,\n",
       " 8593.3209927983135,\n",
       " 23978.869928593831,\n",
       " 626.25300000000004]"
      ]
     },
     "execution_count": 200,
     "metadata": {},
     "output_type": "execute_result"
    }
   ],
   "source": [
    "percentiles_all_mean['Highlander'][0].values()"
   ]
  },
  {
   "cell_type": "code",
   "execution_count": 209,
   "metadata": {
    "collapsed": false
   },
   "outputs": [
    {
     "data": {
      "text/plain": [
       "{50.0: 491.0,\n",
       " 90.0: 627.0,\n",
       " 99.0: 968.0,\n",
       " 99.9: 2449.0,\n",
       " 99.99: 8567.0,\n",
       " 99.999: 24191.0,\n",
       " 'Max': 55135.0,\n",
       " 'Mean': 513.81,\n",
       " 'Min': 251.0,\n",
       " 'Period(ms)': 401311.0,\n",
       " 'Throughput(ops/sec)': 9445.41,\n",
       " 'TotalCount': 3790546.0}"
      ]
     },
     "execution_count": 209,
     "metadata": {},
     "output_type": "execute_result"
    }
   ],
   "source": [
    "runs_headers['Highlander'][0]\n"
   ]
  },
  {
   "cell_type": "code",
   "execution_count": 203,
   "metadata": {
    "collapsed": false,
    "scrolled": true
   },
   "outputs": [
    {
     "ename": "NameError",
     "evalue": "name 'runs_percentiles' is not defined",
     "output_type": "error",
     "traceback": [
      "\u001b[1;31m---------------------------------------------------------------------------\u001b[0m",
      "\u001b[1;31mNameError\u001b[0m                                 Traceback (most recent call last)",
      "\u001b[1;32m<ipython-input-203-80e4b07a4dc2>\u001b[0m in \u001b[0;36m<module>\u001b[1;34m()\u001b[0m\n\u001b[1;32m----> 1\u001b[1;33m \u001b[0m_\u001b[0m \u001b[1;33m=\u001b[0m\u001b[0mplt\u001b[0m\u001b[1;33m.\u001b[0m\u001b[0mhist\u001b[0m\u001b[1;33m(\u001b[0m\u001b[0mruns_percentiles\u001b[0m\u001b[1;33m[\u001b[0m\u001b[1;34m'Highlander'\u001b[0m\u001b[1;33m]\u001b[0m\u001b[1;33m[\u001b[0m\u001b[1;36m0\u001b[0m\u001b[1;33m]\u001b[0m\u001b[1;33m[\u001b[0m\u001b[1;36m50\u001b[0m\u001b[1;33m]\u001b[0m\u001b[1;33m,\u001b[0m \u001b[0mbins\u001b[0m\u001b[1;33m=\u001b[0m\u001b[1;36m30\u001b[0m\u001b[1;33m,\u001b[0m \u001b[0mnormed\u001b[0m\u001b[1;33m=\u001b[0m\u001b[0mTrue\u001b[0m\u001b[1;33m)\u001b[0m\u001b[1;33m\u001b[0m\u001b[0m\n\u001b[0m",
      "\u001b[1;31mNameError\u001b[0m: name 'runs_percentiles' is not defined"
     ]
    }
   ],
   "source": [
    "_ =plt.hist(runs_percentiles['Highlander'][0][50], bins=30, normed=True)"
   ]
  },
  {
   "cell_type": "code",
   "execution_count": 204,
   "metadata": {
    "collapsed": false
   },
   "outputs": [
    {
     "ename": "NameError",
     "evalue": "name 'runs_percentiles' is not defined",
     "output_type": "error",
     "traceback": [
      "\u001b[1;31m---------------------------------------------------------------------------\u001b[0m",
      "\u001b[1;31mNameError\u001b[0m                                 Traceback (most recent call last)",
      "\u001b[1;32m<ipython-input-204-02ea9153c213>\u001b[0m in \u001b[0;36m<module>\u001b[1;34m()\u001b[0m\n\u001b[0;32m      1\u001b[0m \u001b[0mp\u001b[0m \u001b[1;33m=\u001b[0m \u001b[1;36m99.99\u001b[0m\u001b[1;33m\u001b[0m\u001b[0m\n\u001b[1;32m----> 2\u001b[1;33m \u001b[0mm\u001b[0m \u001b[1;33m=\u001b[0m \u001b[0mnp\u001b[0m\u001b[1;33m.\u001b[0m\u001b[0mmean\u001b[0m\u001b[1;33m(\u001b[0m\u001b[0mruns_percentiles\u001b[0m\u001b[1;33m[\u001b[0m\u001b[1;34m'Highlander'\u001b[0m\u001b[1;33m]\u001b[0m\u001b[1;33m[\u001b[0m\u001b[1;36m0\u001b[0m\u001b[1;33m]\u001b[0m\u001b[1;33m[\u001b[0m\u001b[0mp\u001b[0m\u001b[1;33m]\u001b[0m\u001b[1;33m)\u001b[0m\u001b[1;33m\u001b[0m\u001b[0m\n\u001b[0m\u001b[0;32m      3\u001b[0m \u001b[0ms\u001b[0m \u001b[1;33m=\u001b[0m \u001b[0mnp\u001b[0m\u001b[1;33m.\u001b[0m\u001b[0mstd\u001b[0m\u001b[1;33m(\u001b[0m\u001b[0mruns_percentiles\u001b[0m\u001b[1;33m[\u001b[0m\u001b[1;34m'Highlander'\u001b[0m\u001b[1;33m]\u001b[0m\u001b[1;33m[\u001b[0m\u001b[1;36m0\u001b[0m\u001b[1;33m]\u001b[0m\u001b[1;33m[\u001b[0m\u001b[0mp\u001b[0m\u001b[1;33m]\u001b[0m\u001b[1;33m)\u001b[0m\u001b[1;33m\u001b[0m\u001b[0m\n\u001b[0;32m      4\u001b[0m \u001b[1;33m\u001b[0m\u001b[0m\n\u001b[0;32m      5\u001b[0m \u001b[0mnrm\u001b[0m \u001b[1;33m=\u001b[0m \u001b[0mstats\u001b[0m\u001b[1;33m.\u001b[0m\u001b[0mnorm\u001b[0m\u001b[1;33m(\u001b[0m\u001b[0mm\u001b[0m\u001b[1;33m,\u001b[0m\u001b[0ms\u001b[0m\u001b[1;33m)\u001b[0m\u001b[1;33m.\u001b[0m\u001b[0mpdf\u001b[0m\u001b[1;33m(\u001b[0m\u001b[0mnp\u001b[0m\u001b[1;33m.\u001b[0m\u001b[0mlinspace\u001b[0m\u001b[1;33m(\u001b[0m\u001b[0mm\u001b[0m \u001b[1;33m*\u001b[0m \u001b[1;36m0.95\u001b[0m\u001b[1;33m,\u001b[0m \u001b[0mm\u001b[0m \u001b[1;33m*\u001b[0m\u001b[1;36m1.05\u001b[0m\u001b[1;33m,\u001b[0m \u001b[1;36m1000\u001b[0m\u001b[1;33m)\u001b[0m\u001b[1;33m)\u001b[0m\u001b[1;33m\u001b[0m\u001b[0m\n",
      "\u001b[1;31mNameError\u001b[0m: name 'runs_percentiles' is not defined"
     ]
    }
   ],
   "source": [
    "p = 99.99\n",
    "m = np.mean(runs_percentiles['Highlander'][0][p])\n",
    "s = np.std(runs_percentiles['Highlander'][0][p])\n",
    "\n",
    "nrm = stats.norm(m,s).pdf(np.linspace(m * 0.95, m *1.05, 1000))\n",
    "plt.plot(nrm)\n",
    "plt.plot(check3[p], max(nrm), 'o')"
   ]
  },
  {
   "cell_type": "code",
   "execution_count": null,
   "metadata": {
    "collapsed": false
   },
   "outputs": [],
   "source": [
    "489, 614, 906, 2431, 8463"
   ]
  },
  {
   "cell_type": "code",
   "execution_count": null,
   "metadata": {
    "collapsed": false
   },
   "outputs": [],
   "source": [
    "np.hstack([[1], [2]])"
   ]
  },
  {
   "cell_type": "code",
   "execution_count": null,
   "metadata": {
    "collapsed": true
   },
   "outputs": [],
   "source": []
  },
  {
   "cell_type": "code",
   "execution_count": null,
   "metadata": {
    "collapsed": true
   },
   "outputs": [],
   "source": []
  },
  {
   "cell_type": "code",
   "execution_count": 233,
   "metadata": {
    "collapsed": false
   },
   "outputs": [
    {
     "data": {
      "text/plain": [
       "0.31127812445913283"
      ]
     },
     "execution_count": 233,
     "metadata": {},
     "output_type": "execute_result"
    }
   ],
   "source": [
    "-3/4.0 * np.log2(0.75)"
   ]
  },
  {
   "cell_type": "code",
   "execution_count": null,
   "metadata": {
    "collapsed": true
   },
   "outputs": [],
   "source": []
  }
 ],
 "metadata": {
  "kernelspec": {
   "display_name": "Python 2",
   "language": "python",
   "name": "python2"
  },
  "language_info": {
   "codemirror_mode": {
    "name": "ipython",
    "version": 2
   },
   "file_extension": ".py",
   "mimetype": "text/x-python",
   "name": "python",
   "nbconvert_exporter": "python",
   "pygments_lexer": "ipython2",
   "version": "2.7.11"
  }
 },
 "nbformat": 4,
 "nbformat_minor": 0
}
