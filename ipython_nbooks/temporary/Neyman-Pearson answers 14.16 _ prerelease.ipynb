{
 "cells": [
  {
   "cell_type": "markdown",
   "metadata": {},
   "source": [
    "# Imports"
   ]
  },
  {
   "cell_type": "code",
   "execution_count": 1,
   "metadata": {
    "collapsed": true
   },
   "outputs": [],
   "source": [
    "%matplotlib inline\n",
    "import pandas as pd\n",
    "import numpy as np\n",
    "import distribution_generator as dg\n",
    "from scipy import stats\n",
    "import matplotlib.pyplot as plt\n",
    "import matplotlib.patches as mpatches\n",
    "\n",
    "\n",
    "\n",
    "from random import lognormvariate, normalvariate\n",
    "\n",
    "from sklearn.neighbors import KernelDensity\n",
    "\n",
    "import imports\n",
    "import os\n",
    "import json\n",
    "\n",
    "from IPython.display import Audio\n",
    "sound_file = './call.wav'\n",
    "ALLERT = Audio(url=sound_file, autoplay=True)"
   ]
  },
  {
   "cell_type": "code",
   "execution_count": 2,
   "metadata": {
    "collapsed": true
   },
   "outputs": [],
   "source": [
    "def log_progress(sequence, every=None, size=None):\n",
    "    from ipywidgets import IntProgress, HTML, VBox\n",
    "    from IPython.display import display\n",
    "\n",
    "    is_iterator = False\n",
    "    if size is None:\n",
    "        try:\n",
    "            size = len(sequence)\n",
    "        except TypeError:\n",
    "            is_iterator = True\n",
    "    if size is not None:\n",
    "        if every is None:\n",
    "            if size <= 200:\n",
    "                every = 1\n",
    "            else:\n",
    "                every = size / 200     # every 0.5%\n",
    "    else:\n",
    "        assert every is not None, 'sequence is iterator, set every'\n",
    "\n",
    "    if is_iterator:\n",
    "        progress = IntProgress(min=0, max=1, value=1)\n",
    "        progress.bar_style = 'info'\n",
    "    else:\n",
    "        progress = IntProgress(min=0, max=size, value=0)\n",
    "    label = HTML()\n",
    "    box = VBox(children=[label, progress])\n",
    "    display(box)\n",
    "\n",
    "    index = 0\n",
    "    try:\n",
    "        for index, record in enumerate(sequence, 1):\n",
    "            if index == 1 or index % every == 0:\n",
    "                if is_iterator:\n",
    "                    label.value = '{index} / ?'.format(index=index)\n",
    "                else:\n",
    "                    progress.value = index\n",
    "                    label.value = u'{index} / {size}'.format(\n",
    "                        index=index,\n",
    "                        size=size\n",
    "                    )\n",
    "            yield record\n",
    "    except:\n",
    "        progress.bar_style = 'danger'\n",
    "        raise\n",
    "    else:\n",
    "        progress.bar_style = 'success'\n",
    "        progress.value = index\n",
    "        label.value = str(index or '?')"
   ]
  },
  {
   "cell_type": "markdown",
   "metadata": {},
   "source": [
    "# Read part"
   ]
  },
  {
   "cell_type": "code",
   "execution_count": 3,
   "metadata": {
    "collapsed": true
   },
   "outputs": [],
   "source": [
    "def plotDensity(densities, log_flag = False, height = 4, width = 12, left = None, right = None, axes_limits = None,\n",
    "               colors = None, name = None):\n",
    "    \n",
    "    if type(densities[0]) != list and type(densities[0]) != np.ndarray:\n",
    "        densities = [densities]\n",
    "    fig = plt.figure(figsize=(width, height))\n",
    "    ax = fig.add_subplot(1,1,1)\n",
    "\n",
    "    if axes_limits:\n",
    "        ax.axis(axes_limits)\n",
    "        ax = plt.gca()\n",
    "        ax.set_autoscale_on(False)\n",
    "\n",
    "    if left is None:\n",
    "        left = 0\n",
    "    if right is None:\n",
    "        right = len(densities[0])\n",
    "        \n",
    "    for i in range(len(densities)):\n",
    "        density = densities[i]\n",
    "        if colors is None:\n",
    "            ax.plot(density[left : right])\n",
    "        else:\n",
    "            ax.plot(density[left : right], colors[i])\n",
    "   \n",
    "    if not name is None: \n",
    "        fig.savefig(name)\n",
    "    if log_flag:\n",
    "        ax.set_xscale('log')\n",
    "        ax.set_yscale('log')\n",
    "    plt.show()"
   ]
  },
  {
   "cell_type": "code",
   "execution_count": 4,
   "metadata": {
    "collapsed": false
   },
   "outputs": [
    {
     "name": "stdout",
     "output_type": "stream",
     "text": [
      "asasas\n",
      "Granada-d-10000-600-2016.04.08-13.27.33-ycsb-run-READ.rd\n",
      "asasas\n",
      "Highlander-d-10000-1800-2016.04.08-09.16.33-ycsb-run-READ.rd\n",
      "asasas\n",
      "Dev-d-10000-1800-2016.04.08-15.59.41-ycsb-run-READ.rd\n",
      "asasas\n",
      "Highlander-d-10000-1800-2016.04.08-08.44.09-ycsb-run-READ.rd\n",
      "asasas\n",
      "Granada-d-10000-600-2016.04.08-13.15.11-ycsb-run-READ.rd\n",
      "asasas\n",
      "Dev-d-10000-600-2016.04.08-15.34.53-ycsb-run-READ.rd\n",
      "asasas\n",
      "Dev-d-10000-600-2016.04.08-15.47.16-ycsb-run-READ.rd\n",
      "asasas\n",
      "Granada-d-10000-1800-2016.04.08-14.44.42-ycsb-run-READ.rd\n",
      "asasas\n",
      "Highlander-d-10000-600-2016.04.08-08.19.19-ycsb-run-READ.rd\n",
      "asasas\n",
      "Highlander-d-10000-1800-2016.04.08-09.48.58-ycsb-run-READ.rd\n",
      "asasas\n",
      "Granada-d-10000-600-2016.04.08-13.02.39-ycsb-run-READ.rd\n",
      "asasas\n",
      "Dev-d-10000-600-2016.04.08-15.22.26-ycsb-run-READ.rd\n",
      "asasas\n",
      "Granada-d-10000-1800-2016.04.08-13.39.55-ycsb-run-READ.rd\n",
      "asasas\n",
      "Highlander-d-10000-600-2016.04.08-08.06.57-ycsb-run-READ.rd\n",
      "asasas\n",
      "Granada-d-10000-1800-2016.04.08-14.12.18-ycsb-run-READ.rd\n",
      "asasas\n",
      "Highlander-d-10000-600-2016.04.08-08.31.44-ycsb-run-READ.rd\n"
     ]
    }
   ],
   "source": [
    "runs_dir = \"/home/anton/azul/New_config_latency_runs/all0408RD/\"\n",
    "\n",
    "\n",
    "runs = dict(zip(['Dev', 'Granada', 'Highlander'], [[],[],[]]))\n",
    "\n",
    "for run_file_name in os.listdir(runs_dir):\n",
    "    if run_file_name.endswith(\"READ.rd\"):\n",
    "        x, curr_pdf, curr_cdf = imports.readRD(run_file_name, runs_dir, scale = True)\n",
    "        \n",
    "        \n",
    "        if run_file_name.split('-')[3] == '600':\n",
    "            runs[run_file_name.split('-')[0]].insert(0, curr_pdf)\n",
    "        if run_file_name.split('-')[3] == '1800':\n",
    "            runs[run_file_name.split('-')[0]].append(curr_pdf)\n",
    "        \n",
    "        print run_file_name"
   ]
  },
  {
   "cell_type": "markdown",
   "metadata": {},
   "source": [
    "# Usefull Funcs"
   ]
  },
  {
   "cell_type": "code",
   "execution_count": 5,
   "metadata": {
    "collapsed": true
   },
   "outputs": [],
   "source": [
    "def searchBoarders(density, i, bw):\n",
    "    left_boarder = i\n",
    "    right_boarder = i\n",
    "    \n",
    "    if bw % 2 == 0:\n",
    "        bw += 1\n",
    "        \n",
    "    right_saturation = (bw - 1) / 2\n",
    "    left_saturation = (bw - 1) / 2\n",
    "    \n",
    "    while left_saturation > 0 and left_boarder > 0:\n",
    "        if density[left_boarder] > 0:\n",
    "            left_saturation -= 1\n",
    "        left_boarder -= 1\n",
    "    \n",
    "    while right_saturation > 0 and right_boarder < len(density) - 1:\n",
    "        if density[right_boarder] > 0:\n",
    "            right_saturation -= 1\n",
    "        right_boarder += 1\n",
    "        \n",
    "    if right_saturation == 0 and left_saturation == 0:\n",
    "        return left_boarder, right_boarder\n",
    "    elif right_saturation == 0 and left_saturation != 0:\n",
    "        return max(0, right_boarder - i), right_boarder\n",
    "    elif left_saturation == 0 and right_saturation != 0:\n",
    "        return left_boarder, i + i - left_boarder\n",
    "    else:\n",
    "        return 0, len(density)"
   ]
  },
  {
   "cell_type": "code",
   "execution_count": 6,
   "metadata": {
    "collapsed": true
   },
   "outputs": [],
   "source": [
    "def flattenDensities(densities, bw = 3): \n",
    "    #max_bw = np.where(density > 0)[0][0]\n",
    "    new_densities = []\n",
    "    \n",
    "    if type(densities[0]) != np.ndarray and type(densities[0]) != list:\n",
    "        #print 'Type changing...'\n",
    "        densities = [densities]\n",
    "        \n",
    "    for density in densities:\n",
    "\n",
    "        new_density = np.zeros(len(density)*2)\n",
    "\n",
    "        saturation = 0\n",
    "\n",
    "        for i in range(len(density)):\n",
    "            if density[i] == 0:\n",
    "                pass\n",
    "            else:\n",
    "                left_boarder, right_boarder = searchBoarders(density, i, bw)\n",
    "                for j in range(left_boarder, right_boarder):\n",
    "                    new_density[j] += density[i] / (right_boarder - left_boarder)\n",
    "        \n",
    "        new_densities.append(new_density)\n",
    "\n",
    "    return new_densities\n",
    "    "
   ]
  },
  {
   "cell_type": "code",
   "execution_count": 7,
   "metadata": {
    "collapsed": true
   },
   "outputs": [],
   "source": [
    "def sampleFromDensity(densities, sample_size = 1000, scaling = False, noisy = False, noise_scale = 1.0):\n",
    "    \n",
    "    if type(densities[0]) != np.ndarray and type(densities[0]) != list:\n",
    "        #print 'Type changing...'\n",
    "        densities = [densities]\n",
    "    \n",
    "    sample = np.empty(0)\n",
    "    for density in densities:\n",
    "        if scaling:\n",
    "            density = density / sum(density)\n",
    "        if noisy:\n",
    "            noise = generateNoiseMeansPattern(sample_size / len(densities), noise_scale)\n",
    "        else:\n",
    "            noise = np.zeros(sample_size / len(densities))\n",
    "        curr_sample = np.random.choice(range(len(density)), sample_size / len(densities), p = density) + noise\n",
    "        sample = np.hstack((sample, curr_sample))\n",
    "    return sample"
   ]
  },
  {
   "cell_type": "code",
   "execution_count": 8,
   "metadata": {
    "collapsed": true
   },
   "outputs": [],
   "source": [
    "def densityFromSample(sample, normed = True):\n",
    "    return np.histogram(sample, bins=round(max(sample) + 1) , \n",
    "                        density=True, range = (0, round(max(sample) +1)))"
   ]
  },
  {
   "cell_type": "code",
   "execution_count": 9,
   "metadata": {
    "collapsed": false
   },
   "outputs": [],
   "source": [
    "def bootstrap(pdfs, statistics_set, statistics_names, stat_sample_size = 6, sample_size = 1000, scaling = False,\n",
    "              noisy = False):\n",
    "    \n",
    "    if len(statistics_set) != len(statistics_names):\n",
    "        raise AttributeError(\"Statistics_names and statistics_set should have the same lenghth,\\\n",
    "        also Statistics_names shold be unique!\")\n",
    "    \n",
    "    statistics_vals = dict(zip(statistics_names, [[] for _ in range(len(statistics_names))]))\n",
    "    \n",
    "    for i in log_progress(range(stat_sample_size), every=1):\n",
    "        sample = (sampleFromDensity(pdfs, sample_size, scaling = scaling))\n",
    "        for j in range(len(statistics_set)):\n",
    "            \n",
    "            statistics_vals[statistics_names[j]].append(statistics_set[j](sample))\n",
    "    \n",
    "    return statistics_vals"
   ]
  },
  {
   "cell_type": "code",
   "execution_count": 10,
   "metadata": {
    "collapsed": true
   },
   "outputs": [],
   "source": [
    "def readRDHeader(file_name, file_dir, header_size = 12):\n",
    "    f = open(file_dir+file_name, 'r')\n",
    "    header = dict()\n",
    "    \n",
    "    for i in range(header_size):\n",
    "        s = f.readline()\n",
    "        key = s.split('=')[0]\n",
    "        val = s.split('=')[1].replace(',', '.')\n",
    "        if key.endswith('ptile'):\n",
    "            key = float(key[:-5].replace(',', '.'))\n",
    "        header[key] = float(val)\n",
    "    \n",
    "    return header"
   ]
  },
  {
   "cell_type": "code",
   "execution_count": 11,
   "metadata": {
    "collapsed": true
   },
   "outputs": [],
   "source": [
    "def pdfPercentiles(pdf, perc, strat = 'first_higher'):\n",
    "    perc_normed = float(perc)/ 100\n",
    "    curr_perc = 0.0\n",
    "    \n",
    "    i = 0 \n",
    "    last_grow = 0\n",
    "    while curr_perc < perc_normed and i < len(pdf):\n",
    "        curr_perc += pdf[i]\n",
    "        if pdf[i] > 0 and curr_perc < perc_normed: \n",
    "            last_grow = i\n",
    "        i += 1\n",
    "    \n",
    "    if curr_perc >= perc_normed:\n",
    "        if strat == 'first_higher':\n",
    "            return i\n",
    "        else:\n",
    "            return last_grow\n",
    "    else:\n",
    "        return -1         "
   ]
  },
  {
   "cell_type": "code",
   "execution_count": 12,
   "metadata": {
    "collapsed": true
   },
   "outputs": [],
   "source": [
    "def _parseArgs(args):\n",
    "    return args[0], args[1], args[2]"
   ]
  },
  {
   "cell_type": "code",
   "execution_count": 13,
   "metadata": {
    "collapsed": false
   },
   "outputs": [],
   "source": [
    "def genCheck(pdf):\n",
    "    check = dict()\n",
    "\n",
    "    check_sample = sampleFromDensity(pdf, sample_size=4000000)\n",
    "    for i in range(len(stats_funcs)):\n",
    "        check[stats_names[i]] = stats_funcs[i](check_sample)\n",
    "        \n",
    "    return check"
   ]
  },
  {
   "cell_type": "markdown",
   "metadata": {},
   "source": [
    "# Full algorithm"
   ]
  },
  {
   "cell_type": "code",
   "execution_count": 14,
   "metadata": {
    "collapsed": false
   },
   "outputs": [],
   "source": [
    "class Hypothesis():\n",
    "    \n",
    "    def __init__(self, name, stat_means, stat_stds):\n",
    "        self.name = name\n",
    "        self.means = stat_means\n",
    "        self.stds = stat_stds\n",
    "        self.stat_names = stat_means.keys()\n",
    "    \n",
    "    def __str__(self):\n",
    "        \n",
    "        return self.name + '\\n means: \\n' + self.means.__str__() + '\\n stds: \\n' + self.stds.__str__()"
   ]
  },
  {
   "cell_type": "code",
   "execution_count": 15,
   "metadata": {
    "collapsed": false
   },
   "outputs": [],
   "source": [
    "def generateAlternative(base_hypothesis, shift_directions, alpha = 0.01):\n",
    "    alt_means = dict()\n",
    "    alt_stds = dict()\n",
    "    \n",
    "    for key in shift_directions:\n",
    "        alt_means[key] = base_hypothesis.means[key] * (1 + alpha * shift_directions[key])\n",
    "        alt_stds[key] = base_hypothesis.stds[key] \n",
    "      \n",
    "    alternative = Hypothesis(\n",
    "                                name = 'alternative: ' + ' '.join(map(str, shift_directions.values())),\n",
    "                                stat_means = alt_means,\n",
    "                                stat_stds = alt_stds\n",
    "                                )\n",
    "    \n",
    "    return alternative"
   ]
  },
  {
   "cell_type": "code",
   "execution_count": 16,
   "metadata": {
    "collapsed": true
   },
   "outputs": [],
   "source": [
    "def sampleFromHypothesis(hypothesis, sample_size = 1):\n",
    "    sample = dict()\n",
    "    \n",
    "    for key in hypothesis.stat_names:\n",
    "        sample[key] = stats.norm(hypothesis.means[key], hypothesis.stds[key]).rvs(sample_size)\n",
    "    \n",
    "    return sample"
   ]
  },
  {
   "cell_type": "code",
   "execution_count": 17,
   "metadata": {
    "collapsed": false
   },
   "outputs": [],
   "source": [
    "def singleNPStat(zero, alternative, sample, v = True):\n",
    "    '''\n",
    "        Calculate Neyman-Pearson statistic for two normal distributions \n",
    "    '''\n",
    "    stat = 0\n",
    "    \n",
    "\n",
    "    for key in zero.stat_names:\n",
    "        if np.log(stats.norm(zero.means[key], zero.stds[key]).pdf(sample[key]) /\\\n",
    "                       stats.norm(alternative.means[key], alternative.stds[key]).pdf(sample[key])) != np.nan:\n",
    "            stat += np.log(stats.norm(zero.means[key], zero.stds[key]).pdf(sample[key]) /\\\n",
    "                           stats.norm(alternative.means[key], alternative.stds[key]).pdf(sample[key])) /\\\n",
    "                            len(zero.stat_names)\n",
    "            \n",
    "        print zero.means[key]\n",
    "        print alternative.means[key]\n",
    "        print zero.stds[key]\n",
    "        print sample[key]\n",
    "        #print alternative.stds[key]\n",
    "        #\n",
    "        print stats.norm(zero.means[key], zero.stds[key]).pdf(sample[key])\n",
    "        \n",
    "        print stats.norm(alternative.means[key], alternative.stds[key]).pdf(sample[key])\n",
    "        #print stat\n",
    "\n",
    "    if v:\n",
    "        print zero.name\n",
    "        print alternative.name\n",
    "        print stat\n",
    "        print \"----------------------\"\n",
    "        \n",
    "    return stat"
   ]
  },
  {
   "cell_type": "code",
   "execution_count": 18,
   "metadata": {
    "collapsed": false
   },
   "outputs": [],
   "source": [
    "def NPStatDistribution(zero, alternative, sample_size = 100):\n",
    "    \n",
    "    zero_np_stat_samp = np.zeros(sample_size)\n",
    "    alternative_np_stat_samp = np.zeros(sample_size)\n",
    "    \n",
    "    zero_sample = sampleFromHypothesis(zero, sample_size=sample_size)\n",
    "    alternative_sample = sampleFromHypothesis(alternative, sample_size=sample_size)\n",
    "    \n",
    "    \n",
    "    for i in log_progress(range(sample_size), every = 1):\n",
    "        for key in zero.stat_names:\n",
    "            zero_np_stat_samp[i] += np.log(stats.norm(zero.means[key], zero.stds[key]).pdf(zero_sample[key][i]) /\\\n",
    "                                           stats.norm(alternative.means[key], alternative.stds[key]).pdf(zero_sample[key][i])) /\\\n",
    "                                            len(zero.stat_names)\n",
    "            alternative_np_stat_samp[i] += np.log(stats.norm(zero.means[key], zero.stds[key]).pdf(alternative_sample[key][i]) /\\\n",
    "                            stats.norm(alternative.means[key], alternative.stds[key]).pdf(alternative_sample[key][i])) /\\\n",
    "                            len(zero.stat_names)\n",
    "          \n",
    "    zero_np_hist = np.histogram(zero_np_stat_samp, bins=len(zero_np_stat_samp))\n",
    "    alternative_np_hist = np.histogram(alternative_np_stat_samp, bins = len(zero_np_stat_samp))\n",
    "    return zero_np_hist, alternative_np_hist"
   ]
  },
  {
   "cell_type": "code",
   "execution_count": 19,
   "metadata": {
    "collapsed": false
   },
   "outputs": [],
   "source": [
    "def doAll(base_sample, check, params, base_pdf = None):\n",
    "    if base_pdf is None:\n",
    "        base_pdf = densityFromSample(base_sample)[0]\n",
    "        \n",
    "    print base_pdf\n",
    "    statistics_set, statistics_names, bw = _parseArgs(params)\n",
    "    \n",
    "    base_pdf_smoothed = flattenDensities(base_pdf, bw=bw)\n",
    "    \n",
    "    statistics_vals = bootstrap(base_pdf_smoothed, statistics_set, statistics_names, sample_size=400000)\n",
    "    \n",
    "    statistics_means = dict()\n",
    "    statistics_stds = dict()\n",
    "    \n",
    "    for key in statistics_vals:\n",
    "        statistics_means[key] = np.mean(statistics_vals[key])\n",
    "        statistics_stds[key] = np.std(statistics_vals[key])\n",
    "     \n",
    "    zero_hypothesis = Hypothesis('zero_H', statistics_means, statistics_stds)\n",
    "    \n",
    "    ### create two basic alternatives, will improve later\n",
    "    right_shifts = dict()\n",
    "    left_shifts = dict()\n",
    "    for name in statistics_names:\n",
    "        right_shifts[name] = 1\n",
    "        left_shifts[name] = -1\n",
    "    \n",
    "    right_alternative = generateAlternative(zero_hypothesis, right_shifts, alpha = 0.2)\n",
    "    left_alternative = generateAlternative(zero_hypothesis, left_shifts, alpha = 0.2)\n",
    "    \n",
    "    singleNPStat(zero_hypothesis, right_alternative, check)\n",
    "    singleNPStat(zero_hypothesis, left_alternative, check)\n",
    "    \n",
    "    NP_plot = False\n",
    "    if NP_plot:\n",
    "        zero_np_hist, right_alt_np_hist = NPStatDistribution(zero_hypothesis, right_alternative, sample_size = 1000)\n",
    "        zero_np_hist, left_alt_np_hist = NPStatDistribution(zero_hypothesis, left_alternative, sample_size = 1000)\n",
    "\n",
    "        plt.bar(zero_np_hist[1][:-1], zero_np_hist[0], align='center', width=np.diff(zero_np_hist[1]),color = 'b', edgecolor = 'b')\n",
    "        plt.bar(right_alt_np_hist[1][:-1], right_alt_np_hist[0], align='center', width=np.diff(right_alt_np_hist[1]),color = 'g', edgecolor = 'g')\n",
    "        plt.show()\n",
    "    \n",
    "    #print zero_hypothesis\n",
    "    #print \"\\n\"\n",
    "    #print right_alternative\n",
    " \n",
    "    "
   ]
  },
  {
   "cell_type": "code",
   "execution_count": 20,
   "metadata": {
    "collapsed": true
   },
   "outputs": [],
   "source": [
    "def genGCpauseEmulation(pdf, incr, percentage, sample_size = 4000000):\n",
    "    sample = sampleFromDensity(pdf, sample_size=sample_size)\n",
    "    \n",
    "    increase_num = sample_size * percentage / 100\n",
    "    \n",
    "    mask = np.zeros(sample_size)\n",
    "    \n",
    "    mask[np.random.randint(0, sample_size, int(increase_num))] = incr\n",
    "    \n",
    "    sample += mask\n",
    "    \n",
    "    return sample"
   ]
  },
  {
   "cell_type": "code",
   "execution_count": 21,
   "metadata": {
    "collapsed": false
   },
   "outputs": [],
   "source": [
    "stats_funcs = [#np.mean,\n",
    "                #lambda x : np.percentile(x, 50),\n",
    "                lambda x : np.percentile(x, 99.9),\n",
    "                lambda x : np.percentile(x, 99.99),\n",
    "                lambda x : np.percentile(x, 99.999),\n",
    "              ]\n",
    "stats_names = [#'mean',\n",
    "               #50,\n",
    "               #90,\n",
    "                99.9,\n",
    "               99.99,\n",
    "                99.999\n",
    "              ]"
   ]
  },
  {
   "cell_type": "code",
   "execution_count": 22,
   "metadata": {
    "collapsed": false
   },
   "outputs": [
    {
     "name": "stdout",
     "output_type": "stream",
     "text": [
      "[ 0.  0.  0. ...,  0.  0.  0.]\n",
      "7373.85278332\n",
      "8848.62333999\n",
      "297.255500238\n",
      "8215.0\n",
      "2.44920178694e-05\n",
      "0.000138402651884\n",
      "2311.67083333\n",
      "2774.005\n",
      "80.9737139086\n",
      "2425.0\n",
      "0.00185017547765\n",
      "4.55643771104e-07\n",
      "23406.67608\n",
      "28088.011296\n",
      "3284.12758381\n",
      "19055.00128\n",
      "5.04922667683e-05\n",
      "2.7650985079e-06\n",
      "zero_H\n",
      "alternative: 1 1 1\n",
      "3.16066791141\n",
      "----------------------\n",
      "7373.85278332\n",
      "5899.08222666\n",
      "297.255500238\n",
      "8215.0\n",
      "2.44920178694e-05\n",
      "8.85135918067e-17\n",
      "2311.67083333\n",
      "1849.33666667\n",
      "80.9737139086\n",
      "2425.0\n",
      "0.00185017547765\n",
      "5.21910702537e-14\n",
      "23406.67608\n",
      "18725.340864\n",
      "3284.12758381\n",
      "19055.00128\n",
      "5.04922667683e-05\n",
      "0.000120865413584\n",
      "zero_H\n",
      "alternative: -1 -1 -1\n",
      "16.5882483331\n",
      "----------------------\n"
     ]
    }
   ],
   "source": [
    "doAll(_, genCheck(runs['Dev'][0]), [stats_funcs, stats_names, 3], runs['Highlander'][1])"
   ]
  },
  {
   "cell_type": "code",
   "execution_count": null,
   "metadata": {
    "collapsed": true
   },
   "outputs": [],
   "source": []
  },
  {
   "cell_type": "markdown",
   "metadata": {
    "collapsed": true
   },
   "source": [
    "# NEW TYPE CHECK. SURVIVAL"
   ]
  },
  {
   "cell_type": "code",
   "execution_count": 23,
   "metadata": {
    "collapsed": true
   },
   "outputs": [],
   "source": [
    "import data_processing_utils as utils\n",
    "\n",
    "oracle_dir = \"/home/anton/azul/New_config_latency_runs/OracleRD/\"\n",
    "dev_dir = \"/home/anton/azul/New_config_latency_runs/DevRD/\"\n",
    "highlander_dir = \"/home/anton/azul/New_config_latency_runs/HighlanderRD/\"\n",
    "\n",
    "oracle_runs = utils.read_multiple(oracle_dir, [\"READ\"], verbouse=False)\n",
    "dev_runs = utils.read_multiple(dev_dir, [\"READ\"], verbouse=False)\n",
    "highlander_runs = utils.read_multiple(highlander_dir, [\"READ\"], verbouse=False)"
   ]
  },
  {
   "cell_type": "code",
   "execution_count": 34,
   "metadata": {
    "collapsed": false
   },
   "outputs": [
    {
     "name": "stdout",
     "output_type": "stream",
     "text": [
      "[ 0.  0.  0. ...,  0.  0.  0.]\n",
      "1638.33621667\n",
      "1720.2530275\n",
      "354.661476487\n",
      "0.00111358138121\n",
      "0.00104930290416\n",
      "zero_H\n",
      "alternative: 1\n",
      "0.0594552481119\n",
      "----------------------\n",
      "1638.33621667\n",
      "1556.41940583\n",
      "354.661476487\n",
      "0.00111358138121\n",
      "0.00112040312335\n",
      "zero_H\n",
      "alternative: -1\n",
      "-0.00610726110489\n",
      "----------------------\n"
     ]
    }
   ],
   "source": [
    "doAll(_, genCheck(dev_runs[1]),\n",
    "      [stats_funcs, stats_names, 3], \n",
    "      dev_runs[3])"
   ]
  },
  {
   "cell_type": "code",
   "execution_count": 253,
   "metadata": {
    "collapsed": true
   },
   "outputs": [],
   "source": [
    "dev_samples = [sampleFromDensity(pdf, sample_size=4000000) for pdf in runs[\"Highlander\"][:3] + runs[\"Highlander\"][4:]]"
   ]
  },
  {
   "cell_type": "code",
   "execution_count": 254,
   "metadata": {
    "collapsed": false
   },
   "outputs": [],
   "source": [
    "statistics_vals = dict()\n",
    "\n",
    "for i in range(len(stats_names)):\n",
    "    statistics_vals[stats_names[i]] = []\n",
    "    \n",
    "    for j in range(len(dev_samples)):\n",
    "        statistics_vals[stats_names[i]].append(stats_funcs[i](dev_samples[j]))"
   ]
  },
  {
   "cell_type": "code",
   "execution_count": 255,
   "metadata": {
    "collapsed": false
   },
   "outputs": [],
   "source": [
    "dev_stats = dict()\n",
    "\n",
    "statistics_means = dict()\n",
    "statistics_stds = dict()\n",
    "    \n",
    "for key in statistics_vals:\n",
    "    statistics_means[key] = np.mean(statistics_vals[key])\n",
    "    statistics_stds[key] = np.std(statistics_vals[key])\n",
    "     \n",
    "zero_hypothesis = Hypothesis('zero_H', statistics_means, statistics_stds)\n",
    "right_shifts = dict()\n",
    "left_shifts = dict()\n",
    "for name in stats_names:\n",
    "    right_shifts[name] = 1\n",
    "    left_shifts[name] = -1\n",
    "right_alternative = generateAlternative(zero_hypothesis, right_shifts, alpha = 0.1)\n",
    "left_alternative = generateAlternative(zero_hypothesis, left_shifts, alpha = 0.1)"
   ]
  },
  {
   "cell_type": "code",
   "execution_count": 256,
   "metadata": {
    "collapsed": false
   },
   "outputs": [
    {
     "ename": "KeyError",
     "evalue": "99",
     "output_type": "error",
     "traceback": [
      "\u001b[1;31m---------------------------------------------------------------------------\u001b[0m",
      "\u001b[1;31mKeyError\u001b[0m                                  Traceback (most recent call last)",
      "\u001b[1;32m<ipython-input-256-3945f351ef3c>\u001b[0m in \u001b[0;36m<module>\u001b[1;34m()\u001b[0m\n\u001b[1;32m----> 1\u001b[1;33m \u001b[0mplt\u001b[0m\u001b[1;33m.\u001b[0m\u001b[0mplot\u001b[0m\u001b[1;33m(\u001b[0m\u001b[0mstats\u001b[0m\u001b[1;33m.\u001b[0m\u001b[0mnorm\u001b[0m\u001b[1;33m(\u001b[0m\u001b[0mzero_hypothesis\u001b[0m\u001b[1;33m.\u001b[0m\u001b[0mmeans\u001b[0m\u001b[1;33m[\u001b[0m\u001b[1;36m99\u001b[0m\u001b[1;33m]\u001b[0m\u001b[1;33m,\u001b[0m \u001b[0mzero_hypothesis\u001b[0m\u001b[1;33m.\u001b[0m\u001b[0mstds\u001b[0m\u001b[1;33m[\u001b[0m\u001b[1;36m99\u001b[0m\u001b[1;33m]\u001b[0m\u001b[1;33m)\u001b[0m\u001b[1;33m.\u001b[0m\u001b[0mpdf\u001b[0m\u001b[1;33m(\u001b[0m\u001b[0mnp\u001b[0m\u001b[1;33m.\u001b[0m\u001b[0mlinspace\u001b[0m\u001b[1;33m(\u001b[0m\u001b[1;36m0\u001b[0m\u001b[1;33m,\u001b[0m \u001b[1;36m2000\u001b[0m\u001b[1;33m,\u001b[0m \u001b[1;36m2000\u001b[0m\u001b[1;33m)\u001b[0m\u001b[1;33m)\u001b[0m\u001b[1;33m)\u001b[0m\u001b[1;33m\u001b[0m\u001b[0m\n\u001b[0m\u001b[0;32m      2\u001b[0m \u001b[0mplt\u001b[0m\u001b[1;33m.\u001b[0m\u001b[0mplot\u001b[0m\u001b[1;33m(\u001b[0m\u001b[0mstats\u001b[0m\u001b[1;33m.\u001b[0m\u001b[0mnorm\u001b[0m\u001b[1;33m(\u001b[0m\u001b[0mzero_hypothesis\u001b[0m\u001b[1;33m.\u001b[0m\u001b[0mmeans\u001b[0m\u001b[1;33m[\u001b[0m\u001b[1;36m99\u001b[0m\u001b[1;33m]\u001b[0m\u001b[1;33m,\u001b[0m \u001b[0mzero_hypothesis\u001b[0m\u001b[1;33m.\u001b[0m\u001b[0mstds\u001b[0m\u001b[1;33m[\u001b[0m\u001b[1;36m99\u001b[0m\u001b[1;33m]\u001b[0m\u001b[1;33m)\u001b[0m\u001b[1;33m.\u001b[0m\u001b[0mpdf\u001b[0m\u001b[1;33m(\u001b[0m\u001b[0mnp\u001b[0m\u001b[1;33m.\u001b[0m\u001b[0mlinspace\u001b[0m\u001b[1;33m(\u001b[0m\u001b[1;36m0\u001b[0m\u001b[1;33m,\u001b[0m \u001b[1;36m2000\u001b[0m\u001b[1;33m,\u001b[0m \u001b[1;36m2000\u001b[0m\u001b[1;33m)\u001b[0m\u001b[1;33m)\u001b[0m\u001b[1;33m)\u001b[0m\u001b[1;33m\u001b[0m\u001b[0m\n",
      "\u001b[1;31mKeyError\u001b[0m: 99"
     ]
    }
   ],
   "source": [
    "plt.plot(stats.norm(zero_hypothesis.means[99], zero_hypothesis.stds[99]).pdf(np.linspace(0, 2000, 2000)))\n",
    "plt.plot(stats.norm(zero_hypothesis.means[99], zero_hypothesis.stds[99]).pdf(np.linspace(0, 2000, 2000)))"
   ]
  },
  {
   "cell_type": "code",
   "execution_count": 261,
   "metadata": {
    "collapsed": false
   },
   "outputs": [
    {
     "name": "stdout",
     "output_type": "stream",
     "text": [
      "9134.20144\n",
      "10047.621584\n",
      "801.009213671\n",
      "7771.0\n",
      "0.000117043370844\n",
      "8.77295149527e-06\n",
      "2745.8\n",
      "3020.38\n",
      "370.212047346\n",
      "2399.0\n",
      "0.00069487781357\n",
      "0.000263462175544\n",
      "23759.00032\n",
      "26134.900352\n",
      "626.33414683\n",
      "18559.0\n",
      "6.86463413416e-19\n",
      "1.08289076427e-35\n",
      "zero_H\n",
      "alternative: 1 1 1\n",
      "14.0829358687\n",
      "----------------------\n",
      "9134.20144\n",
      "8220.781296\n",
      "801.009213671\n",
      "7771.0\n",
      "0.000117043370844\n",
      "0.000425407783557\n",
      "2745.8\n",
      "2471.22\n",
      "370.212047346\n",
      "2399.0\n",
      "0.00069487781357\n",
      "0.00105729441803\n",
      "23759.00032\n",
      "21383.100288\n",
      "626.33414683\n",
      "18559.0\n",
      "6.86463413416e-19\n",
      "2.45127524313e-08\n",
      "zero_H\n",
      "alternative: -1 -1 -1\n",
      "-8.66963259485\n",
      "----------------------\n"
     ]
    },
    {
     "data": {
      "text/plain": [
       "-8.6696325948545727"
      ]
     },
     "execution_count": 261,
     "metadata": {},
     "output_type": "execute_result"
    }
   ],
   "source": [
    "check = genCheck(runs[\"Dev\"][0])\n",
    "singleNPStat(zero_hypothesis, right_alternative, check)\n",
    "singleNPStat(zero_hypothesis, left_alternative, check)"
   ]
  },
  {
   "cell_type": "markdown",
   "metadata": {},
   "source": [
    "### "
   ]
  },
  {
   "cell_type": "markdown",
   "metadata": {
    "collapsed": true
   },
   "source": [
    "# Discover data"
   ]
  },
  {
   "cell_type": "code",
   "execution_count": null,
   "metadata": {
    "collapsed": true
   },
   "outputs": [],
   "source": []
  },
  {
   "cell_type": "code",
   "execution_count": null,
   "metadata": {
    "collapsed": true
   },
   "outputs": [],
   "source": []
  },
  {
   "cell_type": "code",
   "execution_count": null,
   "metadata": {
    "collapsed": true
   },
   "outputs": [],
   "source": []
  },
  {
   "cell_type": "code",
   "execution_count": null,
   "metadata": {
    "collapsed": true
   },
   "outputs": [],
   "source": []
  },
  {
   "cell_type": "code",
   "execution_count": 108,
   "metadata": {
    "collapsed": false,
    "scrolled": true
   },
   "outputs": [
    {
     "data": {
      "text/plain": [
       "2568"
      ]
     },
     "execution_count": 108,
     "metadata": {},
     "output_type": "execute_result"
    }
   ],
   "source": [
    "pdfPercentiles(densityFromSample(genGCpauseEmulation(runs['Dev'][0], 1000, 10))[0], 99.9)"
   ]
  },
  {
   "cell_type": "code",
   "execution_count": 109,
   "metadata": {
    "collapsed": false
   },
   "outputs": [
    {
     "data": {
      "text/plain": [
       "2420"
      ]
     },
     "execution_count": 109,
     "metadata": {},
     "output_type": "execute_result"
    }
   ],
   "source": [
    "pdfPercentiles(runs['Dev'][0], 99.9)"
   ]
  },
  {
   "cell_type": "code",
   "execution_count": 110,
   "metadata": {
    "collapsed": false,
    "scrolled": false
   },
   "outputs": [
    {
     "name": "stdout",
     "output_type": "stream",
     "text": [
      "[ 0.  0.  0. ...,  0.  0.  0.]\n",
      "873.833333333\n",
      "882.571666667\n",
      "1.06718737291\n",
      "7.70682686564e-95\n",
      "1.55515520756e-35\n",
      "zero_H\n",
      "alternative: 1\n",
      "-136.55457439\n",
      "----------------------\n",
      "873.833333333\n",
      "865.095\n",
      "1.06718737291\n",
      "7.70682686564e-95\n",
      "2.91118251041e-183\n",
      "zero_H\n",
      "alternative: -1\n",
      "203.601035366\n",
      "----------------------\n"
     ]
    },
    {
     "name": "stderr",
     "output_type": "stream",
     "text": [
      "/home/anton/anaconda2/lib/python2.7/site-packages/ipykernel/__main__.py:8: DeprecationWarning: using a non-integer number instead of an integer will result in an error in the future\n"
     ]
    }
   ],
   "source": [
    "doAll(_, genCheck(densityFromSample(genGCpauseEmulation(runs['Dev'][0], 3000, 0.1))[0]),\n",
    "      [stats_funcs, stats_names, 3], \n",
    "      runs['Dev'][0])"
   ]
  },
  {
   "cell_type": "code",
   "execution_count": 139,
   "metadata": {
    "collapsed": false,
    "scrolled": true
   },
   "outputs": [
    {
     "name": "stdout",
     "output_type": "stream",
     "text": [
      "[ 0.  0.  0. ...,  0.  0.  0.]\n",
      "811.0\n",
      "851.55\n",
      "2.70801280155\n",
      "873.0\n",
      "2.20609280181e-115\n",
      "3.50082193453e-15\n",
      "2242.502\n",
      "2354.6271\n",
      "116.759690544\n",
      "2423.002\n",
      "0.00103435664186\n",
      "0.00287839554792\n",
      "zero_H\n",
      "alternative: 1 1\n",
      "-115.871868749\n",
      "----------------------\n",
      "811.0\n",
      "770.45\n",
      "2.70801280155\n",
      "873.0\n",
      "2.20609280181e-115\n",
      "5.81080507243e-313\n",
      "2242.502\n",
      "2130.3769\n",
      "116.759690544\n",
      "2423.002\n",
      "0.00103435664186\n",
      "0.000147804841042\n",
      "zero_H\n",
      "alternative: -1 -1\n",
      "228.444497211\n",
      "----------------------\n"
     ]
    }
   ],
   "source": [
    "\n",
    "         \n",
    "\n",
    "doAll(_, genCheck(runs['Dev'][0]), [stats_funcs, stats_names, 3], runs['Dev'][1])\n",
    "#doAll(_, genCheck(runs['Granada'][0]), [stats_funcs, stats_names, 3], runs['Highlander'][0])\n",
    "\n",
    "#print '\\nHighlander \\n \\n'\n",
    "#doAll(_, genCheck(runs['Highlander'][1]), [stats_funcs, stats_names, 3], runs['Highlander'][0])\n",
    "#doAll(_, genCheck(runs['Highlander'][2]), [stats_funcs, stats_names, 3], runs['Highlander'][0])\n",
    "#doAll(_, genCheck(runs['Highlander'][3]), [stats_funcs, stats_names, 3], runs['Highlander'][0])"
   ]
  },
  {
   "cell_type": "code",
   "execution_count": 33,
   "metadata": {
    "collapsed": true
   },
   "outputs": [],
   "source": [
    "samp = sampleFromDensity(runs['Highlander'][0])"
   ]
  },
  {
   "cell_type": "code",
   "execution_count": 44,
   "metadata": {
    "collapsed": false
   },
   "outputs": [
    {
     "data": {
      "text/plain": [
       "array([ 0.   ,  0.   ,  0.   , ...,  0.   ,  0.   ,  0.001])"
      ]
     },
     "execution_count": 44,
     "metadata": {},
     "output_type": "execute_result"
    }
   ],
   "source": [
    "densityFromSample(samp)[0]"
   ]
  },
  {
   "cell_type": "code",
   "execution_count": 233,
   "metadata": {
    "collapsed": false
   },
   "outputs": [
    {
     "ename": "SyntaxError",
     "evalue": "non-keyword arg after keyword arg (<ipython-input-233-5eeef46aea44>, line 1)",
     "output_type": "error",
     "traceback": [
      "\u001b[1;36m  File \u001b[1;32m\"<ipython-input-233-5eeef46aea44>\"\u001b[1;36m, line \u001b[1;32m1\u001b[0m\n\u001b[1;33m    doAll(_, check = check, [stats_funcs, stats_names, 3], runs['Highlander'][0])\u001b[0m\n\u001b[1;31mSyntaxError\u001b[0m\u001b[1;31m:\u001b[0m non-keyword arg after keyword arg\n"
     ]
    }
   ],
   "source": [
    "doAll(_,  genCheck(runs['Dev'][0] , [stats_funcs, stats_names, 3], runs['Highlander'][0])"
   ]
  },
  {
   "cell_type": "code",
   "execution_count": 45,
   "metadata": {
    "collapsed": false
   },
   "outputs": [
    {
     "data": {
      "text/plain": [
       "489.1189"
      ]
     },
     "execution_count": 45,
     "metadata": {},
     "output_type": "execute_result"
    }
   ],
   "source": [
    "np.mean(sampleFromDensity(runs['Dev'][0], sample_size = 10000))"
   ]
  },
  {
   "cell_type": "code",
   "execution_count": 325,
   "metadata": {
    "collapsed": false
   },
   "outputs": [
    {
     "data": {
      "text/plain": [
       "503.32679999999999"
      ]
     },
     "execution_count": 325,
     "metadata": {},
     "output_type": "execute_result"
    }
   ],
   "source": [
    "np.mean(sampleFromDensity(runs['Highlander'][3], sample_size = 10000))"
   ]
  },
  {
   "cell_type": "code",
   "execution_count": 28,
   "metadata": {
    "collapsed": false
   },
   "outputs": [
    {
     "data": {
      "text/plain": [
       "array([16510, 83058])"
      ]
     },
     "execution_count": 28,
     "metadata": {},
     "output_type": "execute_result"
    }
   ],
   "source": [
    "np.random.randint(0, 100000, 2)"
   ]
  },
  {
   "cell_type": "code",
   "execution_count": null,
   "metadata": {
    "collapsed": true
   },
   "outputs": [],
   "source": []
  },
  {
   "cell_type": "markdown",
   "metadata": {},
   "source": [
    "# EXPERIMNETS AGAIN"
   ]
  },
  {
   "cell_type": "code",
   "execution_count": 60,
   "metadata": {
    "collapsed": false
   },
   "outputs": [],
   "source": [
    "a = []\n",
    "for i in range(6):\n",
    "    a.append(pdfPercentiles(runs['Granada'][i], 50))"
   ]
  },
  {
   "cell_type": "code",
   "execution_count": 31,
   "metadata": {
    "collapsed": false
   },
   "outputs": [
    {
     "ename": "SyntaxError",
     "evalue": "invalid syntax (<ipython-input-31-08fcec1c5d4d>, line 1)",
     "output_type": "error",
     "traceback": [
      "\u001b[1;36m  File \u001b[1;32m\"<ipython-input-31-08fcec1c5d4d>\"\u001b[1;36m, line \u001b[1;32m1\u001b[0m\n\u001b[1;33m    np.log(/ np.inf)\u001b[0m\n\u001b[1;37m           ^\u001b[0m\n\u001b[1;31mSyntaxError\u001b[0m\u001b[1;31m:\u001b[0m invalid syntax\n"
     ]
    }
   ],
   "source": [
    "np.log(/ np.inf)\n"
   ]
  },
  {
   "cell_type": "code",
   "execution_count": 61,
   "metadata": {
    "collapsed": false,
    "scrolled": true
   },
   "outputs": [
    {
     "data": {
      "text/plain": [
       "2.5819888974716112"
      ]
     },
     "execution_count": 61,
     "metadata": {},
     "output_type": "execute_result"
    }
   ],
   "source": [
    "np.std(a)"
   ]
  },
  {
   "cell_type": "code",
   "execution_count": null,
   "metadata": {
    "collapsed": true
   },
   "outputs": [],
   "source": []
  },
  {
   "cell_type": "code",
   "execution_count": 66,
   "metadata": {
    "collapsed": false
   },
   "outputs": [
    {
     "data": {
      "text/plain": [
       "(65535,)"
      ]
     },
     "execution_count": 66,
     "metadata": {},
     "output_type": "execute_result"
    }
   ],
   "source": []
  },
  {
   "cell_type": "code",
   "execution_count": null,
   "metadata": {
    "collapsed": true
   },
   "outputs": [],
   "source": []
  },
  {
   "cell_type": "code",
   "execution_count": 241,
   "metadata": {
    "collapsed": false
   },
   "outputs": [],
   "source": [
    "def CrossValidation(pdfs):\n",
    "    summary = sum(pdfs)\n",
    "    \n",
    "    for i in range(len(pdfs)):\n",
    "        print i\n",
    "        doAll(_,  genCheck(pdfs[i]) , [stats_funcs, stats_names, 3], (summary - pdfs[i])/(len(pdfs) - 1))"
   ]
  },
  {
   "cell_type": "code",
   "execution_count": 252,
   "metadata": {
    "collapsed": false,
    "scrolled": false
   },
   "outputs": [
    {
     "name": "stdout",
     "output_type": "stream",
     "text": [
      "0\n",
      "[ 0.  0.  0. ...,  0.  0.  0.]\n",
      "8304.67551666\n",
      "9965.61061999\n",
      "758.354428249\n",
      "8091.0008\n",
      "0.000505590235006\n",
      "2.47832280255e-05\n",
      "2480.5045\n",
      "2976.6054\n",
      "79.2254726162\n",
      "2417.0\n",
      "0.00365196103775\n",
      "7.37998019193e-14\n",
      "20319.67831\n",
      "24383.6139719\n",
      "3795.43587925\n",
      "20447.00048\n",
      "0.000105051931547\n",
      "6.1382759704e-05\n",
      "zero_H\n",
      "alternative: 1 1 1\n",
      "9.39260485369\n",
      "----------------------\n",
      "8304.67551666\n",
      "6643.74041333\n",
      "758.354428249\n",
      "8091.0008\n",
      "0.000505590235006\n",
      "8.51473783529e-05\n",
      "2480.5045\n",
      "1984.4036\n",
      "79.2254726162\n",
      "2417.0\n",
      "0.00365196103775\n",
      "1.68958752446e-09\n",
      "20319.67831\n",
      "16255.742648\n",
      "3795.43587925\n",
      "20447.00048\n",
      "0.000105051931547\n",
      "5.71277771366e-05\n",
      "zero_H\n",
      "alternative: -1 -1 -1\n",
      "5.65893256099\n",
      "----------------------\n",
      "1\n",
      "[ 0.  0.  0. ...,  0.  0.  0.]\n",
      "8580.84238333\n",
      "10297.01086\n",
      "537.0100221\n",
      "8207.0\n",
      "0.0005830302974\n",
      "3.81729225676e-07\n",
      "2585.16866667\n",
      "3102.2024\n",
      "71.3699555687\n",
      "2273.0\n",
      "3.91790782028e-07\n",
      "2.72555275437e-32\n",
      "21857.1825349\n",
      "26228.6190419\n",
      "3043.30069424\n",
      "22159.0\n",
      "0.00013044560053\n",
      "5.36118743427e-05\n",
      "zero_H\n",
      "alternative: 1 1 1\n",
      "22.0493274926\n",
      "----------------------\n",
      "8580.84238333\n",
      "6864.67390666\n",
      "537.0100221\n",
      "8207.0\n",
      "0.0005830302974\n",
      "3.2670791331e-05\n",
      "2585.16866667\n",
      "2068.13493333\n",
      "71.3699555687\n",
      "2273.0\n",
      "3.91790782028e-07\n",
      "9.08224104692e-05\n",
      "21857.1825349\n",
      "17485.7460279\n",
      "3043.30069424\n",
      "22159.0\n",
      "0.00013044560053\n",
      "4.03204929013e-05\n",
      "zero_H\n",
      "alternative: -1 -1 -1\n",
      "-0.463359741464\n",
      "----------------------\n",
      "2\n",
      "[ 0.  0.  0. ...,  0.  0.  0.]\n",
      "8070.01166666\n",
      "9684.01399999\n",
      "757.917745858\n",
      "8391.0\n",
      "0.000481215576206\n",
      "0.000122825533478\n",
      "2501.67066667\n",
      "3002.0048\n",
      "53.0770029632\n",
      "2543.0\n",
      "0.00555063047035\n",
      "4.32891514189e-19\n",
      "19676.0223482\n",
      "23611.2268179\n",
      "1910.69430364\n",
      "21823.0038399\n",
      "0.000111056363506\n",
      "0.000134746280699\n",
      "zero_H\n",
      "alternative: 1 1 1\n",
      "12.754050239\n",
      "----------------------\n",
      "8070.01166666\n",
      "6456.00933333\n",
      "757.917745858\n",
      "8391.0\n",
      "0.000481215576206\n",
      "2.02266866029e-05\n",
      "2501.67066667\n",
      "2001.33653333\n",
      "53.0770029632\n",
      "2543.0\n",
      "0.00555063047035\n",
      "1.82303018891e-25\n",
      "19676.0223482\n",
      "15740.8178786\n",
      "1910.69430364\n",
      "21823.0038399\n",
      "0.000111056363506\n",
      "1.31634974256e-06\n",
      "zero_H\n",
      "alternative: -1 -1 -1\n",
      "19.7915904346\n",
      "----------------------\n",
      "3\n",
      "[ 0.  0.  0. ...,  0.  0.  0.]\n",
      "7818.33918333\n",
      "9382.00702\n",
      "274.156967767\n",
      "9263.0008\n",
      "1.35930728033e-09\n",
      "0.00132432506718\n",
      "2394.00433333\n",
      "2872.8052\n",
      "93.1055155305\n",
      "2841.0\n",
      "4.23511329196e-08\n",
      "0.00404198834054\n",
      "20592.8468333\n",
      "24711.4161999\n",
      "1756.55939713\n",
      "23823.0025599\n",
      "4.18739371118e-05\n",
      "0.000199848283557\n",
      "zero_H\n",
      "alternative: 1 1 1\n",
      "-8.93952843213\n",
      "----------------------\n",
      "7818.33918333\n",
      "6254.67134666\n",
      "274.156967767\n",
      "9263.0008\n",
      "1.35930728033e-09\n",
      "1.03952292435e-29\n",
      "2394.00433333\n",
      "1915.20346667\n",
      "93.1055155305\n",
      "2841.0\n",
      "4.23511329196e-08\n",
      "1.45147121924e-24\n",
      "20592.8468333\n",
      "16474.2774666\n",
      "1756.55939713\n",
      "23823.0025599\n",
      "4.18739371118e-05\n",
      "3.59453795245e-08\n",
      "zero_H\n",
      "alternative: -1 -1 -1\n",
      "30.4308424741\n",
      "----------------------\n"
     ]
    }
   ],
   "source": [
    "CrossValidation(runs[\"Dev\"])"
   ]
  },
  {
   "cell_type": "code",
   "execution_count": 251,
   "metadata": {
    "collapsed": false
   },
   "outputs": [
    {
     "data": {
      "text/plain": [
       "<matplotlib.text.Text at 0x7ff3a6e8a610>"
      ]
     },
     "execution_count": 251,
     "metadata": {},
     "output_type": "execute_result"
    },
    {
     "data": {
      "image/png": "[encoded data removed]",
      "text/plain": [
       "<matplotlib.figure.Figure at 0x7ff3ac27ecd0>"
      ]
     },
     "metadata": {},
     "output_type": "display_data"
    }
   ],
   "source": [
    "fig = plt.figure(figsize=(20, 10))\n",
    "ax = fig.add_subplot(1,1,1)\n",
    "\n",
    "axes_limits = [0,1000, 0, 0.01]\n",
    "colors = ['g']*6\n",
    "colors[2] = 'r'\n",
    "densities = runs['Granada'] \n",
    "\n",
    "if len(axes_limits) == 4: \n",
    "    ax.axis(axes_limits)\n",
    "    ax = plt.gca()\n",
    "    ax.set_autoscale_on(False)\n",
    "\n",
    "for i in range(len(densities)):\n",
    "    density = densities[i]\n",
    "    if colors is None:\n",
    "        ax.plot(density)\n",
    "    else:\n",
    "        ax.plot(density, colors[i])\n",
    "\n",
    "#red_patch = mpatches.Patch(color='red', label='Dev 600s + 1800s runs')\n",
    "#blue_patch = mpatches.Patch(color='blue', label='Granada 600s + 1800s runs')\n",
    "green_patch = mpatches.Patch(color='green', label='Granada 600s + 1800s runs')\n",
    "ax.legend(handles=[green_patch])#[red_patch, blue_patch, green_patch])\n",
    "ax.set_title(\"Cassandra 3.2.1 single node, D READ\", loc = 'center')\n",
    "\n",
    "#fig.savefig('Highlander wrong.png')"
   ]
  },
  {
   "cell_type": "code",
   "execution_count": 113,
   "metadata": {
    "collapsed": false
   },
   "outputs": [],
   "source": []
  },
  {
   "cell_type": "code",
   "execution_count": 122,
   "metadata": {
    "collapsed": true
   },
   "outputs": [],
   "source": [
    "def generateNoiseMeansPattern(lenght, scale=1):\n",
    "    s = 0\n",
    "    s_l = np.zeros(lenght)\n",
    "    \n",
    "    BD = stats.bernoulli(0.5)\n",
    "    \n",
    "    for i in range(lenght):\n",
    "        s += (BD.rvs() - 0.5) * scale\n",
    "        s_l[i] = s\n",
    "    \n",
    "    return s_l"
   ]
  },
  {
   "cell_type": "code",
   "execution_count": 156,
   "metadata": {
    "collapsed": true
   },
   "outputs": [],
   "source": [
    "d = densityFromSample(sampleFromDensity(runs['Highlander'][0], sample_size= 100000, noisy = True, noise_scale= 0.3))"
   ]
  },
  {
   "cell_type": "code",
   "execution_count": 177,
   "metadata": {
    "collapsed": true
   },
   "outputs": [],
   "source": [
    "d2 = densityFromSample(sampleFromDensity(runs['Highlander'][0], sample_size= 100000, noisy = True, noise_scale=0.1))"
   ]
  },
  {
   "cell_type": "code",
   "execution_count": 178,
   "metadata": {
    "collapsed": false
   },
   "outputs": [
    {
     "data": {
      "image/png": "[encoded data removed]",
      "text/plain": [
       "<matplotlib.figure.Figure at 0x7f09565937d0>"
      ]
     },
     "metadata": {},
     "output_type": "display_data"
    }
   ],
   "source": [
    "plotDensity([d[0], d2[0]],\n",
    "             axes_limits = [0, 1000, 0, 0.008])"
   ]
  },
  {
   "cell_type": "code",
   "execution_count": 203,
   "metadata": {
    "collapsed": false
   },
   "outputs": [],
   "source": [
    "samples = []\n",
    "for i in log_progress(range(20), every = 1):\n",
    "    samples.append(sampleFromDensity(runs['Highlander'][0], sample_size= 100000, noisy = True, noise_scale= 0.1))"
   ]
  },
  {
   "cell_type": "code",
   "execution_count": 198,
   "metadata": {
    "collapsed": false
   },
   "outputs": [
    {
     "data": {
      "image/png": "[encoded data removed]",
      "text/plain": [
       "<matplotlib.figure.Figure at 0x7f095618a0d0>"
      ]
     },
     "metadata": {},
     "output_type": "display_data"
    }
   ],
   "source": [
    "plotDensity(denn[:4]\n",
    "            ,\n",
    "            axes_limits = [0, 1000, 0, 0.007]\n",
    "           )"
   ]
  },
  {
   "cell_type": "code",
   "execution_count": 193,
   "metadata": {
    "collapsed": false
   },
   "outputs": [],
   "source": [
    "denn = [den[i][0] for i in range(len(den))]"
   ]
  },
  {
   "cell_type": "code",
   "execution_count": 200,
   "metadata": {
    "collapsed": false
   },
   "outputs": [],
   "source": [
    "m = [np.mean(denn[i]) for i in range(20)]"
   ]
  },
  {
   "cell_type": "code",
   "execution_count": 201,
   "metadata": {
    "collapsed": false
   },
   "outputs": [
    {
     "data": {
      "text/plain": [
       "[4.78148608587549e-05,\n",
       " 4.1018909717379707e-05,\n",
       " 3.6127167630057813e-05,\n",
       " 1.8135654697134564e-05,\n",
       " 4.1015544891513881e-05,\n",
       " 3.9987204094689698e-05,\n",
       " 2.0186115989422473e-05,\n",
       " 3.8170852736850135e-05,\n",
       " 5.7054829691333371e-05,\n",
       " 4.112011184670422e-05,\n",
       " 5.0950221633464103e-05,\n",
       " 3.9813672014969937e-05,\n",
       " 3.9618081692484448e-05,\n",
       " 5.0100200400801596e-05,\n",
       " 4.0003200256020489e-05,\n",
       " 4.1101520756267974e-05,\n",
       " 4.1933995890468405e-05,\n",
       " 2.707605664311049e-05,\n",
       " 5.1783957330019154e-05,\n",
       " 4.362621062734491e-05]"
      ]
     },
     "execution_count": 201,
     "metadata": {},
     "output_type": "execute_result"
    }
   ],
   "source": [
    "m"
   ]
  },
  {
   "cell_type": "code",
   "execution_count": 23,
   "metadata": {
    "collapsed": false,
    "scrolled": true
   },
   "outputs": [
    {
     "ename": "NameError",
     "evalue": "name 'highlander_runs' is not defined",
     "output_type": "error",
     "traceback": [
      "\u001b[1;31m---------------------------------------------------------------------------\u001b[0m",
      "\u001b[1;31mNameError\u001b[0m                                 Traceback (most recent call last)",
      "\u001b[1;32m<ipython-input-23-e7d4e39cc8c2>\u001b[0m in \u001b[0;36m<module>\u001b[1;34m()\u001b[0m\n\u001b[0;32m      4\u001b[0m \u001b[0maxes_limits\u001b[0m \u001b[1;33m=\u001b[0m \u001b[1;33m[\u001b[0m\u001b[1;36m0\u001b[0m\u001b[1;33m,\u001b[0m\u001b[1;36m700\u001b[0m\u001b[1;33m,\u001b[0m \u001b[1;36m0\u001b[0m\u001b[1;33m,\u001b[0m \u001b[1;36m0.015\u001b[0m\u001b[1;33m]\u001b[0m\u001b[1;33m\u001b[0m\u001b[0m\n\u001b[0;32m      5\u001b[0m \u001b[0mcolors\u001b[0m \u001b[1;33m=\u001b[0m \u001b[1;33m[\u001b[0m\u001b[1;34m'r'\u001b[0m\u001b[1;33m]\u001b[0m\u001b[1;33m*\u001b[0m\u001b[1;36m4\u001b[0m \u001b[1;33m+\u001b[0m \u001b[1;33m[\u001b[0m\u001b[1;34m'g'\u001b[0m\u001b[1;33m]\u001b[0m \u001b[1;33m+\u001b[0m \u001b[1;33m[\u001b[0m\u001b[1;34m'r'\u001b[0m\u001b[1;33m]\u001b[0m \u001b[1;31m#+ ['g']*6 + ['b']*6\u001b[0m\u001b[1;33m\u001b[0m\u001b[0m\n\u001b[1;32m----> 6\u001b[1;33m \u001b[0mdensities\u001b[0m \u001b[1;33m=\u001b[0m  \u001b[0mhighlander_runs\u001b[0m\u001b[1;31m# + dev_runs\u001b[0m\u001b[1;33m\u001b[0m\u001b[0m\n\u001b[0m\u001b[0;32m      7\u001b[0m \u001b[1;33m\u001b[0m\u001b[0m\n\u001b[0;32m      8\u001b[0m \u001b[1;32mprint\u001b[0m \u001b[0mlen\u001b[0m\u001b[1;33m(\u001b[0m\u001b[0mdensities\u001b[0m\u001b[1;33m)\u001b[0m\u001b[1;33m\u001b[0m\u001b[0m\n",
      "\u001b[1;31mNameError\u001b[0m: name 'highlander_runs' is not defined"
     ]
    },
    {
     "data": {
      "image/png": "[encoded data removed]",
      "text/plain": [
       "<matplotlib.figure.Figure at 0x7fa169611190>"
      ]
     },
     "metadata": {},
     "output_type": "display_data"
    }
   ],
   "source": [
    "fig = plt.figure(figsize=(20, 10))\n",
    "ax = fig.add_subplot(1,1,1)\n",
    "\n",
    "axes_limits = [0,700, 0, 0.015]\n",
    "colors = ['r']*4 + ['g'] + ['r'] #+ ['g']*6 + ['b']*6\n",
    "densities =  highlander_runs# + dev_runs\n",
    "\n",
    "print len(densities)\n",
    "if len(axes_limits) == 4:\n",
    "    ax.axis(axes_limits)\n",
    "    ax = plt.gca()\n",
    "    ax.set_autoscale_on(False)\n",
    "\n",
    "for i in range(len(densities)):\n",
    "    density = densities[i]\n",
    "    if colors is None:\n",
    "        ax.plot(density)\n",
    "    else:\n",
    "        ax.plot(density, colors[i])\n",
    "\n",
    "red_patch = mpatches.Patch(color='red', label='Oracle')\n",
    "blue_patch = mpatches.Patch(color='blue', label='Dev')\n",
    "green_patch = mpatches.Patch(color='green', label='Highlander')\n",
    "ax.legend(handles=[red_patch, blue_patch, green_patch])\n",
    "ax.set_title(\"Cassandra 3.2.1 single node, D READ\", loc = 'center')\n"
   ]
  },
  {
   "cell_type": "markdown",
   "metadata": {},
   "source": [
    "# NewBe Y"
   ]
  },
  {
   "cell_type": "code",
   "execution_count": 28,
   "metadata": {
    "collapsed": true
   },
   "outputs": [],
   "source": [
    "import data_processing_utils as utils\n",
    "\n",
    "oracle_dir = \"/home/anton/azul/New_config_latency_runs/OracleRD/\"\n",
    "dev_dir = \"/home/anton/azul/New_config_latency_runs/DevRD/\"\n",
    "highlander_dir = \"/home/anton/azul/New_config_latency_runs/HighlanderRD/\"\n",
    "\n",
    "oracle_runs = utils.read_multiple(oracle_dir, [\"READ\"], verbouse=False)\n",
    "dev_runs = utils.read_multiple(dev_dir, [\"READ\"], verbouse=False)\n",
    "highlander_runs = utils.read_multiple(highlander_dir, [\"READ\"], verbouse=False)"
   ]
  },
  {
   "cell_type": "code",
   "execution_count": 122,
   "metadata": {
    "collapsed": true
   },
   "outputs": [],
   "source": [
    "def plot_percentile(runs, perc, perc_dict, threashold = 0.99):\n",
    "    perc_dict[perc] = []\n",
    "    for run in runs:\n",
    "        perc_dict[perc].append(pdfPercentiles(run, perc))\n",
    "    \n",
    "    perc_dict[perc] = drop_outliers(perc_dict[perc], threashold)\n",
    "    \n",
    "    mean = np.mean(perc_dict[perc])\n",
    "    std = np.std(perc_dict[perc])\n",
    "    \n",
    "    x_vals = np.linspace(mean - 3*std, mean + 3*std, 6*std)\n",
    "    y_vals = stats.norm.pdf(x_vals, mean, std)\n",
    "    \n",
    "    _ = plt.plot(x_vals, y_vals)\n",
    "    _ = plt.plot(perc_dict[perc], [-max(y_vals) / 10 for _ in range(len(perc_dict[perc]))], 'o')\n",
    "    normed_perc = [(perc_val - np.mean(perc_dict[perc])) / np.std(perc_dict[perc]) for perc_val in perc_dict[perc]]\n",
    "    \n",
    "    \n",
    "    print stats.kstest(normed_perc, \"norm\")\n",
    "    return perc_dict"
   ]
  },
  {
   "cell_type": "code",
   "execution_count": 80,
   "metadata": {
    "collapsed": true
   },
   "outputs": [],
   "source": [
    "dev_p = dict()\n",
    "high_p = dict()"
   ]
  },
  {
   "cell_type": "code",
   "execution_count": 81,
   "metadata": {
    "collapsed": false
   },
   "outputs": [
    {
     "name": "stdout",
     "output_type": "stream",
     "text": [
      "KstestResult(statistic=0.19403884992505971, pvalue=0.97759243899456794)\n"
     ]
    },
    {
     "data": {
      "image/png": "[encoded data removed]",
      "text/plain": [
       "<matplotlib.figure.Figure at 0x7fa1637cbc50>"
      ]
     },
     "metadata": {},
     "output_type": "display_data"
    }
   ],
   "source": [
    "dev_p = plot_percentile(dev_runs, 99, dev_p)"
   ]
  },
  {
   "cell_type": "code",
   "execution_count": 82,
   "metadata": {
    "collapsed": true
   },
   "outputs": [],
   "source": [
    "normed_dev_p = dict()\n",
    "normed_high_p = dict()"
   ]
  },
  {
   "cell_type": "code",
   "execution_count": 27,
   "metadata": {
    "collapsed": false
   },
   "outputs": [
    {
     "ename": "NameError",
     "evalue": "name 'dev_runs' is not defined",
     "output_type": "error",
     "traceback": [
      "\u001b[1;31m---------------------------------------------------------------------------\u001b[0m",
      "\u001b[1;31mNameError\u001b[0m                                 Traceback (most recent call last)",
      "\u001b[1;32m<ipython-input-27-0361e8f24260>\u001b[0m in \u001b[0;36m<module>\u001b[1;34m()\u001b[0m\n\u001b[0;32m      1\u001b[0m \u001b[0mp\u001b[0m \u001b[1;33m=\u001b[0m \u001b[1;36m99.99\u001b[0m\u001b[1;33m\u001b[0m\u001b[0m\n\u001b[1;32m----> 2\u001b[1;33m \u001b[0mdev_p\u001b[0m\u001b[1;33m[\u001b[0m\u001b[0mp\u001b[0m\u001b[1;33m]\u001b[0m \u001b[1;33m=\u001b[0m \u001b[1;33m[\u001b[0m\u001b[0mpdfPercentiles\u001b[0m\u001b[1;33m(\u001b[0m\u001b[0mo_r\u001b[0m\u001b[1;33m,\u001b[0m \u001b[0mp\u001b[0m\u001b[1;33m)\u001b[0m \u001b[1;32mfor\u001b[0m \u001b[0mo_r\u001b[0m \u001b[1;32min\u001b[0m \u001b[0mdev_runs\u001b[0m\u001b[1;33m]\u001b[0m\u001b[1;33m\u001b[0m\u001b[0m\n\u001b[0m\u001b[0;32m      3\u001b[0m \u001b[0mhigh_p\u001b[0m\u001b[1;33m[\u001b[0m\u001b[0mp\u001b[0m\u001b[1;33m]\u001b[0m \u001b[1;33m=\u001b[0m \u001b[1;33m[\u001b[0m\u001b[0mpdfPercentiles\u001b[0m\u001b[1;33m(\u001b[0m\u001b[0mo_r\u001b[0m\u001b[1;33m,\u001b[0m \u001b[0mp\u001b[0m\u001b[1;33m)\u001b[0m \u001b[1;32mfor\u001b[0m \u001b[0mo_r\u001b[0m \u001b[1;32min\u001b[0m \u001b[0mhighlander_runs\u001b[0m\u001b[1;33m]\u001b[0m\u001b[1;33m\u001b[0m\u001b[0m\n",
      "\u001b[1;31mNameError\u001b[0m: name 'dev_runs' is not defined"
     ]
    }
   ],
   "source": [
    "p = 99.99\n",
    "dev_p[p] = [pdfPercentiles(o_r, p) for o_r in dev_runs]\n",
    "high_p[p] = [pdfPercentiles(o_r, p) for o_r in highlander_runs]"
   ]
  },
  {
   "cell_type": "code",
   "execution_count": 139,
   "metadata": {
    "collapsed": true
   },
   "outputs": [],
   "source": [
    "normed_dev_p[p] = [(per - np.mean(dev_p[p])) / np.std(dev_p[p]) for per in dev_p[p]]\n",
    "normed_high_p[p] = [(per - np.mean(high_p[p])) / np.std(high_p[p]) for per in high_p[p]]"
   ]
  },
  {
   "cell_type": "code",
   "execution_count": 55,
   "metadata": {
    "collapsed": false
   },
   "outputs": [
    {
     "ename": "KeyError",
     "evalue": "99",
     "output_type": "error",
     "traceback": [
      "\u001b[1;31m---------------------------------------------------------------------------\u001b[0m",
      "\u001b[1;31mKeyError\u001b[0m                                  Traceback (most recent call last)",
      "\u001b[1;32m<ipython-input-55-ec85720ed0ee>\u001b[0m in \u001b[0;36m<module>\u001b[1;34m()\u001b[0m\n\u001b[1;32m----> 1\u001b[1;33m \u001b[1;32mprint\u001b[0m \u001b[0mstats\u001b[0m\u001b[1;33m.\u001b[0m\u001b[0mkstest\u001b[0m\u001b[1;33m(\u001b[0m\u001b[0mnormed_high_p\u001b[0m\u001b[1;33m[\u001b[0m\u001b[1;36m99\u001b[0m\u001b[1;33m]\u001b[0m\u001b[1;33m,\u001b[0m \u001b[1;34m\"norm\"\u001b[0m\u001b[1;33m)\u001b[0m\u001b[1;33m\u001b[0m\u001b[0m\n\u001b[0m\u001b[0;32m      2\u001b[0m \u001b[1;31m#print stats.kstest(normed_dev_p[p], \"norm\")\u001b[0m\u001b[1;33m\u001b[0m\u001b[1;33m\u001b[0m\u001b[0m\n",
      "\u001b[1;31mKeyError\u001b[0m: 99"
     ]
    }
   ],
   "source": [
    "print stats.kstest(normed_high_p[99], \"norm\")\n",
    "#print stats.kstest(normed_dev_p[p], \"norm\")"
   ]
  },
  {
   "cell_type": "code",
   "execution_count": 143,
   "metadata": {
    "collapsed": false,
    "scrolled": true
   },
   "outputs": [
    {
     "name": "stdout",
     "output_type": "stream",
     "text": [
      "1944.5\n",
      "2146.66666667\n"
     ]
    }
   ],
   "source": [
    "print np.mean(dev_p[p])\n",
    "print np.mean(high_p[p])"
   ]
  },
  {
   "cell_type": "code",
   "execution_count": 145,
   "metadata": {
    "collapsed": false
   },
   "outputs": [
    {
     "name": "stdout",
     "output_type": "stream",
     "text": [
      "510.607073329\n",
      "592.137277627\n"
     ]
    }
   ],
   "source": [
    "print np.std(dev_p[p])\n",
    "print np.std(high_p[p])"
   ]
  },
  {
   "cell_type": "code",
   "execution_count": 22,
   "metadata": {
    "collapsed": false
   },
   "outputs": [
    {
     "ename": "NameError",
     "evalue": "name 'dev_p' is not defined",
     "output_type": "error",
     "traceback": [
      "\u001b[1;31m---------------------------------------------------------------------------\u001b[0m",
      "\u001b[1;31mNameError\u001b[0m                                 Traceback (most recent call last)",
      "\u001b[1;32m<ipython-input-22-4ce74dcbd814>\u001b[0m in \u001b[0;36m<module>\u001b[1;34m()\u001b[0m\n\u001b[1;32m----> 1\u001b[1;33m \u001b[0mls\u001b[0m \u001b[1;33m=\u001b[0m \u001b[0mnp\u001b[0m\u001b[1;33m.\u001b[0m\u001b[0mlinspace\u001b[0m\u001b[1;33m(\u001b[0m\u001b[0mnp\u001b[0m\u001b[1;33m.\u001b[0m\u001b[0mmean\u001b[0m\u001b[1;33m(\u001b[0m\u001b[0mdev_p\u001b[0m\u001b[1;33m[\u001b[0m\u001b[0mp\u001b[0m\u001b[1;33m]\u001b[0m\u001b[1;33m)\u001b[0m \u001b[1;33m-\u001b[0m \u001b[1;36m3\u001b[0m \u001b[1;33m*\u001b[0m\u001b[0mnp\u001b[0m\u001b[1;33m.\u001b[0m\u001b[0mstd\u001b[0m\u001b[1;33m(\u001b[0m\u001b[0mdev_p\u001b[0m\u001b[1;33m[\u001b[0m\u001b[0mp\u001b[0m\u001b[1;33m]\u001b[0m\u001b[1;33m)\u001b[0m\u001b[1;33m,\u001b[0m \u001b[0mnp\u001b[0m\u001b[1;33m.\u001b[0m\u001b[0mmean\u001b[0m\u001b[1;33m(\u001b[0m\u001b[0mdev_p\u001b[0m\u001b[1;33m[\u001b[0m\u001b[0mp\u001b[0m\u001b[1;33m]\u001b[0m\u001b[1;33m)\u001b[0m \u001b[1;33m+\u001b[0m \u001b[1;36m3\u001b[0m \u001b[1;33m*\u001b[0m\u001b[0mnp\u001b[0m\u001b[1;33m.\u001b[0m\u001b[0mstd\u001b[0m\u001b[1;33m(\u001b[0m\u001b[0mdev_p\u001b[0m\u001b[1;33m[\u001b[0m\u001b[0mp\u001b[0m\u001b[1;33m]\u001b[0m\u001b[1;33m)\u001b[0m\u001b[1;33m,\u001b[0m \u001b[0mint\u001b[0m\u001b[1;33m(\u001b[0m\u001b[1;36m6\u001b[0m\u001b[1;33m*\u001b[0m \u001b[0mnp\u001b[0m\u001b[1;33m.\u001b[0m\u001b[0mstd\u001b[0m\u001b[1;33m(\u001b[0m\u001b[0mdev_p\u001b[0m\u001b[1;33m[\u001b[0m\u001b[0mp\u001b[0m\u001b[1;33m]\u001b[0m\u001b[1;33m)\u001b[0m\u001b[1;33m)\u001b[0m\u001b[1;33m)\u001b[0m\u001b[1;33m\u001b[0m\u001b[0m\n\u001b[0m\u001b[0;32m      2\u001b[0m \u001b[0mplt\u001b[0m\u001b[1;33m.\u001b[0m\u001b[0mplot\u001b[0m\u001b[1;33m(\u001b[0m\u001b[0mls\u001b[0m\u001b[1;33m,\u001b[0m \u001b[0mstats\u001b[0m\u001b[1;33m.\u001b[0m\u001b[0mnorm\u001b[0m\u001b[1;33m.\u001b[0m\u001b[0mpdf\u001b[0m\u001b[1;33m(\u001b[0m\u001b[0mls\u001b[0m\u001b[1;33m,\u001b[0m \u001b[0mnp\u001b[0m\u001b[1;33m.\u001b[0m\u001b[0mmean\u001b[0m\u001b[1;33m(\u001b[0m\u001b[0mdev_p\u001b[0m\u001b[1;33m[\u001b[0m\u001b[0mp\u001b[0m\u001b[1;33m]\u001b[0m\u001b[1;33m)\u001b[0m\u001b[1;33m,\u001b[0m \u001b[0mnp\u001b[0m\u001b[1;33m.\u001b[0m\u001b[0mstd\u001b[0m\u001b[1;33m(\u001b[0m\u001b[0mdev_p\u001b[0m\u001b[1;33m[\u001b[0m\u001b[0mp\u001b[0m\u001b[1;33m]\u001b[0m\u001b[1;33m)\u001b[0m\u001b[1;33m)\u001b[0m\u001b[1;33m)\u001b[0m\u001b[1;33m\u001b[0m\u001b[0m\n\u001b[0;32m      3\u001b[0m \u001b[0mplt\u001b[0m\u001b[1;33m.\u001b[0m\u001b[0mplot\u001b[0m\u001b[1;33m(\u001b[0m\u001b[0mls\u001b[0m\u001b[1;33m,\u001b[0m \u001b[0mstats\u001b[0m\u001b[1;33m.\u001b[0m\u001b[0mnorm\u001b[0m\u001b[1;33m.\u001b[0m\u001b[0mpdf\u001b[0m\u001b[1;33m(\u001b[0m\u001b[0mls\u001b[0m\u001b[1;33m,\u001b[0m \u001b[0mnp\u001b[0m\u001b[1;33m.\u001b[0m\u001b[0mmean\u001b[0m\u001b[1;33m(\u001b[0m\u001b[0mdev_p_halfs\u001b[0m\u001b[1;33m[\u001b[0m\u001b[0mp\u001b[0m\u001b[1;33m]\u001b[0m\u001b[1;33m)\u001b[0m\u001b[1;33m,\u001b[0m \u001b[0mnp\u001b[0m\u001b[1;33m.\u001b[0m\u001b[0mstd\u001b[0m\u001b[1;33m(\u001b[0m\u001b[0mdev_p_halfs\u001b[0m\u001b[1;33m[\u001b[0m\u001b[0mp\u001b[0m\u001b[1;33m]\u001b[0m\u001b[1;33m)\u001b[0m\u001b[1;33m)\u001b[0m\u001b[1;33m)\u001b[0m\u001b[1;33m\u001b[0m\u001b[0m\n",
      "\u001b[1;31mNameError\u001b[0m: name 'dev_p' is not defined"
     ]
    }
   ],
   "source": [
    "ls = np.linspace(np.mean(dev_p[p]) - 3 *np.std(dev_p[p]), np.mean(dev_p[p]) + 3 *np.std(dev_p[p]), int(6* np.std(dev_p[p])))\n",
    "plt.plot(ls, stats.norm.pdf(ls, np.mean(dev_p[p]), np.std(dev_p[p])))\n",
    "plt.plot(ls, stats.norm.pdf(ls, np.mean(dev_p_halfs[p]), np.std(dev_p_halfs[p])))"
   ]
  },
  {
   "cell_type": "code",
   "execution_count": 93,
   "metadata": {
    "collapsed": true
   },
   "outputs": [],
   "source": [
    "normed_dev_p = dict()"
   ]
  },
  {
   "cell_type": "code",
   "execution_count": 43,
   "metadata": {
    "collapsed": false
   },
   "outputs": [],
   "source": [
    "dev_dir = \"/home/anton/azul/New_config_latency_runs/DevRD_halfs/\"\n",
    "\n",
    "dev_runs_halfs = utils.read_multiple(dev_dir, [\"READ\"], verbouse=False)"
   ]
  },
  {
   "cell_type": "code",
   "execution_count": 66,
   "metadata": {
    "collapsed": true
   },
   "outputs": [],
   "source": [
    "high_dir = \"/home/anton/azul/New_config_latency_runs/HighRD_halfs/\"\n",
    "\n",
    "\n",
    "high_runs_halfs = utils.read_multiple(high_dir, [\"READ\"], verbouse=False)"
   ]
  },
  {
   "cell_type": "code",
   "execution_count": 67,
   "metadata": {
    "collapsed": true
   },
   "outputs": [],
   "source": [
    "dev_p_halfs = dict()\n",
    "high_p_halfs = dict()"
   ]
  },
  {
   "cell_type": "code",
   "execution_count": 70,
   "metadata": {
    "collapsed": false
   },
   "outputs": [
    {
     "name": "stdout",
     "output_type": "stream",
     "text": [
      "KstestResult(statistic=0.20908785329119595, pvalue=0.61487593754019376)\n"
     ]
    },
    {
     "data": {
      "text/plain": [
       "{99.9: [601, 597, 595, 554, 575, 553, 572, 583, 590, 572, 612, 566],\n",
       " 99.99: [1686,\n",
       "  2600,\n",
       "  2352,\n",
       "  1293,\n",
       "  1708,\n",
       "  1186,\n",
       "  1971,\n",
       "  1916,\n",
       "  2390,\n",
       "  4208,\n",
       "  1865,\n",
       "  1463]}"
      ]
     },
     "execution_count": 70,
     "metadata": {},
     "output_type": "execute_result"
    },
    {
     "data": {
      "image/png": "[encoded data removed]",
      "text/plain": [
       "<matplotlib.figure.Figure at 0x7fa1634a6e10>"
      ]
     },
     "metadata": {},
     "output_type": "display_data"
    }
   ],
   "source": [
    "plot_percentile(high_runs_halfs, 99.99, dev_p_halfs)"
   ]
  },
  {
   "cell_type": "code",
   "execution_count": 135,
   "metadata": {
    "collapsed": true
   },
   "outputs": [],
   "source": [
    "p = 99.99\n",
    "dev_p_halfs[p] = [pdfPercentiles(o_r, p) for o_r in dev_runs_halfs]"
   ]
  },
  {
   "cell_type": "code",
   "execution_count": 142,
   "metadata": {
    "collapsed": false
   },
   "outputs": [
    {
     "data": {
      "text/plain": [
       "1848.5833333333333"
      ]
     },
     "execution_count": 142,
     "metadata": {},
     "output_type": "execute_result"
    }
   ],
   "source": [
    "np.mean(dev_p_halfs[p])"
   ]
  },
  {
   "cell_type": "code",
   "execution_count": 144,
   "metadata": {
    "collapsed": false
   },
   "outputs": [
    {
     "data": {
      "text/plain": [
       "719.51296702854654"
      ]
     },
     "execution_count": 144,
     "metadata": {},
     "output_type": "execute_result"
    }
   ],
   "source": [
    "np.std(dev_p_halfs[p])"
   ]
  },
  {
   "cell_type": "code",
   "execution_count": 123,
   "metadata": {
    "collapsed": true
   },
   "outputs": [],
   "source": [
    "def read_and_plot(runs_dir, perc, threashold = 0.99):\n",
    "    runs = utils.read_multiple(runs_dir, [\"READ\"], verbouse=False)\n",
    "    perc_dict = dict()\n",
    "    plot_percentile(runs, perc, perc_dict, threashold)"
   ]
  },
  {
   "cell_type": "code",
   "execution_count": 129,
   "metadata": {
    "collapsed": false
   },
   "outputs": [
    {
     "name": "stdout",
     "output_type": "stream",
     "text": [
      "KstestResult(statistic=0.14552244928268676, pvalue=0.97397493654436551)\n",
      "KstestResult(statistic=0.20811227385080711, pvalue=0.67870355925379089)\n"
     ]
    },
    {
     "data": {
      "image/png": "[encoded data removed]",
      "text/plain": [
       "<matplotlib.figure.Figure at 0x7fa169583590>"
      ]
     },
     "metadata": {},
     "output_type": "display_data"
    }
   ],
   "source": [
    "read_and_plot(\"/home/anton/azul/New_config_latency_runs/HighRD_halfs/\", 99.99)\n",
    "read_and_plot(\"/home/anton/azul/New_config_latency_runs/DevRD_halfs/\", 99.99)\n"
   ]
  },
  {
   "cell_type": "code",
   "execution_count": 130,
   "metadata": {
    "collapsed": false
   },
   "outputs": [
    {
     "name": "stdout",
     "output_type": "stream",
     "text": [
      "KstestResult(statistic=0.2604204872895638, pvalue=0.33155438031761042)\n",
      "KstestResult(statistic=0.20908785329119595, pvalue=0.61487593754019376)\n"
     ]
    },
    {
     "data": {
      "image/png": "[encoded data removed]",
      "text/plain": [
       "<matplotlib.figure.Figure at 0x7fa163b05b90>"
      ]
     },
     "metadata": {},
     "output_type": "display_data"
    }
   ],
   "source": [
    "read_and_plot(\"/home/anton/azul/New_config_latency_runs/DevRD_halfs/\", 99.99, threashold = 1)\n",
    "read_and_plot(\"/home/anton/azul/New_config_latency_runs/HighRD_halfs/\", 99.99, threashold = 1)"
   ]
  },
  {
   "cell_type": "code",
   "execution_count": 131,
   "metadata": {
    "collapsed": false
   },
   "outputs": [
    {
     "name": "stdout",
     "output_type": "stream",
     "text": [
      "KstestResult(statistic=0.12792494442379165, pvalue=0.98942744804883032)\n",
      "KstestResult(statistic=0.19155307715348269, pvalue=0.73692456895586256)\n"
     ]
    },
    {
     "data": {
      "image/png": "[encoded data removed]",
      "text/plain": [
       "<matplotlib.figure.Figure at 0x7fa163b84ad0>"
      ]
     },
     "metadata": {},
     "output_type": "display_data"
    }
   ],
   "source": [
    "read_and_plot(\"/home/anton/azul/New_config_latency_runs/HighRD_halfs/\", 99.9)\n",
    "read_and_plot(\"/home/anton/azul/New_config_latency_runs/DevRD_halfs/\", 99.9\n",
    "             )\n"
   ]
  },
  {
   "cell_type": "code",
   "execution_count": null,
   "metadata": {
    "collapsed": true
   },
   "outputs": [],
   "source": []
  },
  {
   "cell_type": "code",
   "execution_count": null,
   "metadata": {
    "collapsed": true
   },
   "outputs": [],
   "source": []
  },
  {
   "cell_type": "code",
   "execution_count": 120,
   "metadata": {
    "collapsed": false
   },
   "outputs": [],
   "source": [
    "def drop_outliers(vals, threashold = None):\n",
    "    if threashold == None:\n",
    "        threashold = 1.0 / len(vals)\n",
    "    \n",
    "    new_vals = []\n",
    "    \n",
    "    for i in range(len(vals)):\n",
    "        mean = np.mean(np.hstack((vals[:i], vals[i:])))\n",
    "        std = np.std(np.hstack((vals[:i], vals[i:])))\n",
    "        check_val = vals[i]\n",
    "        \n",
    "        interval = stats.norm.interval(threashold, mean, std)\n",
    "        #print np.hstack((vals[:i], vals[i:]))\n",
    "        #print interval\n",
    "        #print check_val\n",
    "        \n",
    "        if check_val >= interval[0] and check_val <= interval[1]:\n",
    "            new_vals.append(check_val)\n",
    "        \n",
    "    return new_vals\n",
    "            \n",
    "        "
   ]
  },
  {
   "cell_type": "code",
   "execution_count": 117,
   "metadata": {
    "collapsed": false
   },
   "outputs": [
    {
     "name": "stdout",
     "output_type": "stream",
     "text": [
      "[ 1686.  2600.  2352.  1293.  1708.  1186.  1971.  1916.  2390.  4208.\n",
      "  1865.  1463.]\n",
      "(66.527017418726018, 4039.8063159146068)\n",
      "1686\n",
      "[1686 2600 2352 1293 1708 1186 1971 1916 2390 4208 1865 1463]\n",
      "(66.527017418726018, 4039.8063159146068)\n",
      "2600\n",
      "[1686 2600 2352 1293 1708 1186 1971 1916 2390 4208 1865 1463]\n",
      "(66.527017418726018, 4039.8063159146068)\n",
      "2352\n",
      "[1686 2600 2352 1293 1708 1186 1971 1916 2390 4208 1865 1463]\n",
      "(66.527017418726018, 4039.8063159146068)\n",
      "1293\n",
      "[1686 2600 2352 1293 1708 1186 1971 1916 2390 4208 1865 1463]\n",
      "(66.527017418726018, 4039.8063159146068)\n",
      "1708\n",
      "[1686 2600 2352 1293 1708 1186 1971 1916 2390 4208 1865 1463]\n",
      "(66.527017418726018, 4039.8063159146068)\n",
      "1186\n",
      "[1686 2600 2352 1293 1708 1186 1971 1916 2390 4208 1865 1463]\n",
      "(66.527017418726018, 4039.8063159146068)\n",
      "1971\n",
      "[1686 2600 2352 1293 1708 1186 1971 1916 2390 4208 1865 1463]\n",
      "(66.527017418726018, 4039.8063159146068)\n",
      "1916\n",
      "[1686 2600 2352 1293 1708 1186 1971 1916 2390 4208 1865 1463]\n",
      "(66.527017418726018, 4039.8063159146068)\n",
      "2390\n",
      "[1686 2600 2352 1293 1708 1186 1971 1916 2390 4208 1865 1463]\n",
      "(66.527017418726018, 4039.8063159146068)\n",
      "4208\n",
      "[1686 2600 2352 1293 1708 1186 1971 1916 2390 4208 1865 1463]\n",
      "(66.527017418726018, 4039.8063159146068)\n",
      "1865\n",
      "[1686 2600 2352 1293 1708 1186 1971 1916 2390 4208 1865 1463]\n",
      "(66.527017418726018, 4039.8063159146068)\n",
      "1463\n"
     ]
    },
    {
     "data": {
      "text/plain": [
       "[1686, 2600, 2352, 1293, 1708, 1186, 1971, 1916, 2390, 1865, 1463]"
      ]
     },
     "execution_count": 117,
     "metadata": {},
     "output_type": "execute_result"
    }
   ],
   "source": [
    "drop_outliers(dev_p_halfs[99.99], 0.99)"
   ]
  },
  {
   "cell_type": "code",
   "execution_count": 101,
   "metadata": {
    "collapsed": false
   },
   "outputs": [
    {
     "data": {
      "text/plain": [
       "{99.9: [601, 597, 595, 554, 575, 553, 572, 583, 590, 572, 612, 566],\n",
       " 99.99: [1686,\n",
       "  2600,\n",
       "  2352,\n",
       "  1293,\n",
       "  1708,\n",
       "  1186,\n",
       "  1971,\n",
       "  1916,\n",
       "  2390,\n",
       "  4208,\n",
       "  1865,\n",
       "  1463]}"
      ]
     },
     "execution_count": 101,
     "metadata": {},
     "output_type": "execute_result"
    }
   ],
   "source": [
    "dev_p_halfs"
   ]
  },
  {
   "cell_type": "code",
   "execution_count": 97,
   "metadata": {
    "collapsed": false
   },
   "outputs": [
    {
     "data": {
      "text/plain": [
       "(-2.5758293035489004, 2.5758293035489004)"
      ]
     },
     "execution_count": 97,
     "metadata": {},
     "output_type": "execute_result"
    }
   ],
   "source": [
    "stats.norm.interval(0.99)"
   ]
  },
  {
   "cell_type": "code",
   "execution_count": null,
   "metadata": {
    "collapsed": true
   },
   "outputs": [],
   "source": []
  }
 ],
 "metadata": {
  "kernelspec": {
   "display_name": "Python 2",
   "language": "python",
   "name": "python2"
  },
  "language_info": {
   "codemirror_mode": {
    "name": "ipython",
    "version": 2
   },
   "file_extension": ".py",
   "mimetype": "text/x-python",
   "name": "python",
   "nbconvert_exporter": "python",
   "pygments_lexer": "ipython2",
   "version": "2.7.11"
  }
 },
 "nbformat": 4,
 "nbformat_minor": 0
}
