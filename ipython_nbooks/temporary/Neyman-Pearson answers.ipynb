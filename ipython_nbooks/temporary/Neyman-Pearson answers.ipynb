{
 "cells": [
  {
   "cell_type": "markdown",
   "metadata": {},
   "source": [
    "# Imports"
   ]
  },
  {
   "cell_type": "code",
   "execution_count": 1,
   "metadata": {
    "collapsed": true
   },
   "outputs": [],
   "source": [
    "%matplotlib inline\n",
    "import pandas as pd\n",
    "import numpy as np\n",
    "import distribution_generator as dg\n",
    "from scipy import stats\n",
    "import matplotlib.pyplot as plt\n",
    "import matplotlib.patches as mpatches\n",
    "\n",
    "\n",
    "\n",
    "from random import lognormvariate, normalvariate\n",
    "\n",
    "from sklearn.neighbors import KernelDensity\n",
    "\n",
    "import imports\n",
    "import os\n",
    "import json\n",
    "\n",
    "from IPython.display import Audio\n",
    "sound_file = './call.wav'\n",
    "ALLERT = Audio(url=sound_file, autoplay=True)"
   ]
  },
  {
   "cell_type": "code",
   "execution_count": 2,
   "metadata": {
    "collapsed": true
   },
   "outputs": [],
   "source": [
    "def log_progress(sequence, every=None, size=None):\n",
    "    from ipywidgets import IntProgress, HTML, VBox\n",
    "    from IPython.display import display\n",
    "\n",
    "    is_iterator = False\n",
    "    if size is None:\n",
    "        try:\n",
    "            size = len(sequence)\n",
    "        except TypeError:\n",
    "            is_iterator = True\n",
    "    if size is not None:\n",
    "        if every is None:\n",
    "            if size <= 200:\n",
    "                every = 1\n",
    "            else:\n",
    "                every = size / 200     # every 0.5%\n",
    "    else:\n",
    "        assert every is not None, 'sequence is iterator, set every'\n",
    "\n",
    "    if is_iterator:\n",
    "        progress = IntProgress(min=0, max=1, value=1)\n",
    "        progress.bar_style = 'info'\n",
    "    else:\n",
    "        progress = IntProgress(min=0, max=size, value=0)\n",
    "    label = HTML()\n",
    "    box = VBox(children=[label, progress])\n",
    "    display(box)\n",
    "\n",
    "    index = 0\n",
    "    try:\n",
    "        for index, record in enumerate(sequence, 1):\n",
    "            if index == 1 or index % every == 0:\n",
    "                if is_iterator:\n",
    "                    label.value = '{index} / ?'.format(index=index)\n",
    "                else:\n",
    "                    progress.value = index\n",
    "                    label.value = u'{index} / {size}'.format(\n",
    "                        index=index,\n",
    "                        size=size\n",
    "                    )\n",
    "            yield record\n",
    "    except:\n",
    "        progress.bar_style = 'danger'\n",
    "        raise\n",
    "    else:\n",
    "        progress.bar_style = 'success'\n",
    "        progress.value = index\n",
    "        label.value = str(index or '?')"
   ]
  },
  {
   "cell_type": "markdown",
   "metadata": {},
   "source": [
    "# Read part"
   ]
  },
  {
   "cell_type": "code",
   "execution_count": 3,
   "metadata": {
    "collapsed": true
   },
   "outputs": [],
   "source": [
    "def plotDensity(densities, log_flag = False, height = 4, width = 12, left = None, right = None, axes_limits = None,\n",
    "               colors = None, name = None):\n",
    "    \n",
    "    if type(densities[0]) != list and type(densities[0]) != np.ndarray:\n",
    "        densities = [densities]\n",
    "    fig = plt.figure(figsize=(width, height))\n",
    "    ax = fig.add_subplot(1,1,1)\n",
    "\n",
    "    if axes_limits:\n",
    "        ax.axis(axes_limits)\n",
    "        ax = plt.gca()\n",
    "        ax.set_autoscale_on(False)\n",
    "\n",
    "    if left is None:\n",
    "        left = 0\n",
    "    if right is None:\n",
    "        right = len(densities[0])\n",
    "        \n",
    "    for i in range(len(densities)):\n",
    "        density = densities[i]\n",
    "        if colors is None:\n",
    "            ax.plot(density[left : right])\n",
    "        else:\n",
    "            ax.plot(density[left : right], colors[i])\n",
    "   \n",
    "    if not name is None: \n",
    "        fig.savefig(name)\n",
    "    if log_flag:\n",
    "        ax.set_xscale('log')\n",
    "        ax.set_yscale('log')\n",
    "    plt.show()"
   ]
  },
  {
   "cell_type": "code",
   "execution_count": 7,
   "metadata": {
    "collapsed": false
   },
   "outputs": [
    {
     "name": "stdout",
     "output_type": "stream",
     "text": [
      "asasas\n"
     ]
    }
   ],
   "source": [
    "runs_dir = \"/home/anton/azul/New_config_latency_runs/\"\n",
    "run_file_name = \"a.rd\"\n",
    "x, curr_pdf, curr_cdf = imports.readRD(run_file_name, runs_dir, scale = True)"
   ]
  },
  {
   "cell_type": "code",
   "execution_count": 5,
   "metadata": {
    "collapsed": false,
    "scrolled": true
   },
   "outputs": [
    {
     "data": {
      "image/png": "[encoded data removed]",
      "text/plain": [
       "<matplotlib.figure.Figure at 0x7facd6e32b10>"
      ]
     },
     "metadata": {},
     "output_type": "display_data"
    }
   ],
   "source": [
    "plotDensity(curr_pdf,\n",
    "           axes_limits = [0, 2000, 0, 0.008])"
   ]
  },
  {
   "cell_type": "code",
   "execution_count": 6,
   "metadata": {
    "collapsed": false
   },
   "outputs": [
    {
     "data": {
      "text/plain": [
       "array([ 0.,  0.,  0., ...,  0.,  0.,  0.])"
      ]
     },
     "execution_count": 6,
     "metadata": {},
     "output_type": "execute_result"
    }
   ],
   "source": [
    "curr_pdf"
   ]
  },
  {
   "cell_type": "code",
   "execution_count": 8,
   "metadata": {
    "collapsed": false
   },
   "outputs": [
    {
     "name": "stdout",
     "output_type": "stream",
     "text": [
      "asasas\n",
      "Granada-d-10000-600-2016.04.08-13.27.33-ycsb-run-READ.rd\n",
      "asasas\n",
      "Highlander-d-10000-1800-2016.04.08-09.16.33-ycsb-run-READ.rd\n",
      "asasas\n",
      "Dev-d-10000-1800-2016.04.08-15.59.41-ycsb-run-READ.rd\n",
      "asasas\n",
      "Highlander-d-10000-1800-2016.04.08-08.44.09-ycsb-run-READ.rd\n",
      "asasas\n",
      "Granada-d-10000-600-2016.04.08-13.15.11-ycsb-run-READ.rd\n",
      "asasas\n",
      "Dev-d-10000-600-2016.04.08-15.34.53-ycsb-run-READ.rd\n",
      "asasas\n",
      "Dev-d-10000-600-2016.04.08-15.47.16-ycsb-run-READ.rd\n",
      "asasas\n",
      "Granada-d-10000-1800-2016.04.08-14.44.42-ycsb-run-READ.rd\n",
      "asasas\n",
      "Highlander-d-10000-600-2016.04.08-08.19.19-ycsb-run-READ.rd\n",
      "asasas\n",
      "Highlander-d-10000-1800-2016.04.08-09.48.58-ycsb-run-READ.rd\n",
      "asasas\n",
      "Granada-d-10000-600-2016.04.08-13.02.39-ycsb-run-READ.rd\n",
      "asasas\n",
      "Dev-d-10000-600-2016.04.08-15.22.26-ycsb-run-READ.rd\n",
      "asasas\n",
      "Granada-d-10000-1800-2016.04.08-13.39.55-ycsb-run-READ.rd\n",
      "asasas\n",
      "Highlander-d-10000-600-2016.04.08-08.06.57-ycsb-run-READ.rd\n",
      "asasas\n",
      "Granada-d-10000-1800-2016.04.08-14.12.18-ycsb-run-READ.rd\n",
      "asasas\n",
      "Highlander-d-10000-600-2016.04.08-08.31.44-ycsb-run-READ.rd\n"
     ]
    }
   ],
   "source": [
    "runs_dir = \"/home/anton/azul/New_config_latency_runs/all0408RD/\"\n",
    "\n",
    "\n",
    "runs = dict(zip(['Dev', 'Granada', 'Highlander'], [[],[],[]]))\n",
    "\n",
    "for run_file_name in os.listdir(runs_dir):\n",
    "    if run_file_name.endswith(\"READ.rd\"):\n",
    "        x, curr_pdf, curr_cdf = imports.readRD(run_file_name, runs_dir, scale = True)\n",
    "        \n",
    "        \n",
    "        if run_file_name.split('-')[3] == '600':\n",
    "            runs[run_file_name.split('-')[0]].insert(0, curr_pdf)\n",
    "        if run_file_name.split('-')[3] == '1800':\n",
    "            runs[run_file_name.split('-')[0]].append(curr_pdf)\n",
    "        \n",
    "        print run_file_name"
   ]
  },
  {
   "cell_type": "markdown",
   "metadata": {},
   "source": [
    "# Usefull Funcs"
   ]
  },
  {
   "cell_type": "code",
   "execution_count": 9,
   "metadata": {
    "collapsed": true
   },
   "outputs": [],
   "source": [
    "def searchBoarders(density, i, bw):\n",
    "    left_boarder = i\n",
    "    right_boarder = i\n",
    "    \n",
    "    if bw % 2 == 0:\n",
    "        bw += 1\n",
    "        \n",
    "    right_saturation = (bw - 1) / 2\n",
    "    left_saturation = (bw - 1) / 2\n",
    "    \n",
    "    while left_saturation > 0 and left_boarder > 0:\n",
    "        if density[left_boarder] > 0:\n",
    "            left_saturation -= 1\n",
    "        left_boarder -= 1\n",
    "    \n",
    "    while right_saturation > 0 and right_boarder < len(density) - 1:\n",
    "        if density[right_boarder] > 0:\n",
    "            right_saturation -= 1\n",
    "        right_boarder += 1\n",
    "        \n",
    "    if right_saturation == 0 and left_saturation == 0:\n",
    "        return left_boarder, right_boarder\n",
    "    elif right_saturation == 0 and left_saturation != 0:\n",
    "        return max(0, right_boarder - i), right_boarder\n",
    "    elif left_saturation == 0 and right_saturation != 0:\n",
    "        return left_boarder, i + i - left_boarder\n",
    "    else:\n",
    "        return 0, len(density)"
   ]
  },
  {
   "cell_type": "code",
   "execution_count": 10,
   "metadata": {
    "collapsed": true
   },
   "outputs": [],
   "source": [
    "def flattenDensities(densities, bw = 3): \n",
    "    #max_bw = np.where(density > 0)[0][0]\n",
    "    new_densities = []\n",
    "    \n",
    "    if type(densities[0]) != np.ndarray and type(densities[0]) != list:\n",
    "        #print 'Type changing...'\n",
    "        densities = [densities]\n",
    "        \n",
    "    for density in densities:\n",
    "\n",
    "        new_density = np.zeros(len(density)*2)\n",
    "\n",
    "        saturation = 0\n",
    "\n",
    "        for i in range(len(density)):\n",
    "            if density[i] == 0:\n",
    "                pass\n",
    "            else:\n",
    "                left_boarder, right_boarder = searchBoarders(density, i, bw)\n",
    "                for j in range(left_boarder, right_boarder):\n",
    "                    new_density[j] += density[i] / (right_boarder - left_boarder)\n",
    "        \n",
    "        new_densities.append(new_density)\n",
    "\n",
    "    return new_densities\n",
    "    "
   ]
  },
  {
   "cell_type": "code",
   "execution_count": 11,
   "metadata": {
    "collapsed": true
   },
   "outputs": [],
   "source": [
    "def sampleFromDensity(densities, sample_size = 1000, scaling = False, noisy = False, noise_scale = 1.0):\n",
    "    \n",
    "    if type(densities[0]) != np.ndarray and type(densities[0]) != list:\n",
    "        #print 'Type changing...'\n",
    "        densities = [densities]\n",
    "    \n",
    "    sample = np.empty(0)\n",
    "    for density in densities:\n",
    "        if scaling:\n",
    "            density = density / sum(density)\n",
    "        if noisy:\n",
    "            noise = generateNoiseMeansPattern(sample_size / len(densities), noise_scale)\n",
    "        else:\n",
    "            noise = np.zeros(sample_size / len(densities))\n",
    "        curr_sample = np.random.choice(range(len(density)), sample_size / len(densities), p = density) + noise\n",
    "        sample = np.hstack((sample, curr_sample))\n",
    "    return sample"
   ]
  },
  {
   "cell_type": "code",
   "execution_count": 12,
   "metadata": {
    "collapsed": true
   },
   "outputs": [],
   "source": [
    "def densityFromSample(sample, normed = True):\n",
    "    return np.histogram(sample, bins=round(max(sample) + 1) , \n",
    "                        density=True, range = (0, round(max(sample) +1)))"
   ]
  },
  {
   "cell_type": "code",
   "execution_count": 13,
   "metadata": {
    "collapsed": false
   },
   "outputs": [],
   "source": [
    "def bootstrap(pdfs, statistics_set, statistics_names, stat_sample_size = 6, sample_size = 1000, scaling = False,\n",
    "              noisy = False):\n",
    "    \n",
    "    if len(statistics_set) != len(statistics_names):\n",
    "        raise AttributeError(\"Statistics_names and statistics_set should have the same lenghth,\\\n",
    "        also Statistics_names shold be unique!\")\n",
    "    \n",
    "    statistics_vals = dict(zip(statistics_names, [[] for _ in range(len(statistics_names))]))\n",
    "    \n",
    "    for i in log_progress(range(stat_sample_size), every=1):\n",
    "        sample = (sampleFromDensity(pdfs, sample_size, scaling = scaling))\n",
    "        for j in range(len(statistics_set)):\n",
    "            \n",
    "            statistics_vals[statistics_names[j]].append(statistics_set[j](sample))\n",
    "    \n",
    "    return statistics_vals"
   ]
  },
  {
   "cell_type": "code",
   "execution_count": 14,
   "metadata": {
    "collapsed": true
   },
   "outputs": [],
   "source": [
    "def readRDHeader(file_name, file_dir, header_size = 12):\n",
    "    f = open(file_dir+file_name, 'r')\n",
    "    header = dict()\n",
    "    \n",
    "    for i in range(header_size):\n",
    "        s = f.readline()\n",
    "        key = s.split('=')[0]\n",
    "        val = s.split('=')[1].replace(',', '.')\n",
    "        if key.endswith('ptile'):\n",
    "            key = float(key[:-5].replace(',', '.'))\n",
    "        header[key] = float(val)\n",
    "    \n",
    "    return header"
   ]
  },
  {
   "cell_type": "code",
   "execution_count": 15,
   "metadata": {
    "collapsed": true
   },
   "outputs": [],
   "source": [
    "def pdfPercentiles(pdf, perc, strat = 'first_higher'):\n",
    "    perc_normed = float(perc)/ 100\n",
    "    curr_perc = 0.0\n",
    "    \n",
    "    i = 0 \n",
    "    last_grow = 0\n",
    "    while curr_perc < perc_normed and i < len(pdf):\n",
    "        curr_perc += pdf[i]\n",
    "        if pdf[i] > 0 and curr_perc < perc_normed: \n",
    "            last_grow = i\n",
    "        i += 1\n",
    "    \n",
    "    if curr_perc >= perc_normed:\n",
    "        if strat == 'first_higher':\n",
    "            return i\n",
    "        else:\n",
    "            return last_grow\n",
    "    else:\n",
    "        return -1         "
   ]
  },
  {
   "cell_type": "code",
   "execution_count": 16,
   "metadata": {
    "collapsed": true
   },
   "outputs": [],
   "source": [
    "def _parseArgs(args):\n",
    "    return args[0], args[1], args[2]"
   ]
  },
  {
   "cell_type": "code",
   "execution_count": 17,
   "metadata": {
    "collapsed": false
   },
   "outputs": [],
   "source": [
    "def genCheck(pdf):\n",
    "    check = dict()\n",
    "\n",
    "    check_sample = sampleFromDensity(pdf, sample_size=4000000)\n",
    "    for i in range(len(stats_funcs)):\n",
    "        check[stats_names[i]] = stats_funcs[i](check_sample)\n",
    "        \n",
    "    return check"
   ]
  },
  {
   "cell_type": "markdown",
   "metadata": {},
   "source": [
    "# Full algorithm"
   ]
  },
  {
   "cell_type": "code",
   "execution_count": 18,
   "metadata": {
    "collapsed": true
   },
   "outputs": [],
   "source": [
    "class Statistic():\n",
    "    def __init__(self, statistic_function, statistic_name = 'unnamed_statistic'):\n",
    "        self.statistic_function = statistic_function\n",
    "        self.name = statistic_name\n",
    "        \n",
    "    "
   ]
  },
  {
   "cell_type": "code",
   "execution_count": 19,
   "metadata": {
    "collapsed": false
   },
   "outputs": [],
   "source": [
    "class Hypothesis():\n",
    "    def __init__(self, name, distribution):\n",
    "        self.name = name\n",
    "        self.distribution = distribution\n",
    "    \n",
    "    def __str__(self):      \n",
    "        return self.name "
   ]
  },
  {
   "cell_type": "code",
   "execution_count": 20,
   "metadata": {
    "collapsed": false
   },
   "outputs": [],
   "source": [
    "def generateAlternative(base_hypothesis, shift_directions, alpha = 0.01):\n",
    "    alt_means = dict()\n",
    "    alt_stds = dict()\n",
    "    \n",
    "    for key in shift_directions:\n",
    "        alt_means[key] = base_hypothesis.means[key] * (1 + alpha * shift_directions[key])\n",
    "        alt_stds[key] = base_hypothesis.stds[key] \n",
    "      \n",
    "    alternative = Hypothesis(\n",
    "                                name = 'alternative: ' + ' '.join(map(str, shift_directions.values())),\n",
    "                                stat_means = alt_means,\n",
    "                                stat_stds = alt_stds\n",
    "                                )\n",
    "    \n",
    "    return alternative"
   ]
  },
  {
   "cell_type": "code",
   "execution_count": 21,
   "metadata": {
    "collapsed": true
   },
   "outputs": [],
   "source": [
    "def sampleFromHypothesis(hypothesis, sample_size = 1):\n",
    "    sample = dict()\n",
    "    \n",
    "    for key in hypothesis.stat_names:\n",
    "        sample[key] = stats.norm(hypothesis.means[key], hypothesis.stds[key]).rvs(sample_size)\n",
    "    \n",
    "    return sample"
   ]
  },
  {
   "cell_type": "code",
   "execution_count": 22,
   "metadata": {
    "collapsed": false
   },
   "outputs": [],
   "source": [
    "def singleNPStat(zero, alternative, sample, v = True):\n",
    "    '''\n",
    "        Calculate Neyman-Pearson statistic for two normal distributions \n",
    "    '''\n",
    "    \n",
    "    stat = 0\n",
    "    \n",
    "    for key in zero.stat_names:\n",
    "        if np.log(stats.norm(zero.means[key], zero.stds[key]).pdf(sample[key]) /\\\n",
    "                       stats.norm(alternative.means[key], alternative.stds[key]).pdf(sample[key])) != np.nan:\n",
    "            stat += np.log(stats.norm(zero.means[key], zero.stds[key]).pdf(sample[key]) /\\\n",
    "                           stats.norm(alternative.means[key], alternative.stds[key]).pdf(sample[key])) /\\\n",
    "                            len(zero.stat_names)\n",
    "            \n",
    "        print zero.means[key]\n",
    "        print alternative.means[key]\n",
    "        print zero.stds[key]\n",
    "        #print alternative.stds[key]\n",
    "        #\n",
    "        print stats.norm(zero.means[key], zero.stds[key]).pdf(sample[key])\n",
    "        \n",
    "        print stats.norm(alternative.means[key], alternative.stds[key]).pdf(sample[key])\n",
    "        #print stat\n",
    "\n",
    "    if v:\n",
    "        print zero.name\n",
    "        print alternative.name\n",
    "        print stat\n",
    "        print \"----------------------\"\n",
    "        \n",
    "    return stat"
   ]
  },
  {
   "cell_type": "code",
   "execution_count": 23,
   "metadata": {
    "collapsed": false
   },
   "outputs": [],
   "source": [
    "def NPStatDistribution(zero, alternative, sample_size = 100):\n",
    "    \n",
    "    zero_np_stat_samp = np.zeros(sample_size)\n",
    "    alternative_np_stat_samp = np.zeros(sample_size)\n",
    "    \n",
    "    zero_sample = sampleFromHypothesis(zero, sample_size=sample_size)\n",
    "    alternative_sample = sampleFromHypothesis(alternative, sample_size=sample_size)\n",
    "    \n",
    "    \n",
    "    for i in log_progress(range(sample_size), every = 1):\n",
    "        for key in zero.stat_names:\n",
    "            zero_np_stat_samp[i] += np.log(stats.norm(zero.means[key], zero.stds[key]).pdf(zero_sample[key][i]) /\\\n",
    "                                           stats.norm(alternative.means[key], alternative.stds[key]).pdf(zero_sample[key][i])) /\\\n",
    "                                            len(zero.stat_names)\n",
    "            alternative_np_stat_samp[i] += np.log(stats.norm(zero.means[key], zero.stds[key]).pdf(alternative_sample[key][i]) /\\\n",
    "                            stats.norm(alternative.means[key], alternative.stds[key]).pdf(alternative_sample[key][i])) /\\\n",
    "                            len(zero.stat_names)\n",
    "          \n",
    "    zero_np_hist = np.histogram(zero_np_stat_samp, bins=len(zero_np_stat_samp))\n",
    "    alternative_np_hist = np.histogram(alternative_np_stat_samp, bins = len(zero_np_stat_samp))\n",
    "    return zero_np_hist, alternative_np_hist"
   ]
  },
  {
   "cell_type": "code",
   "execution_count": 24,
   "metadata": {
    "collapsed": false
   },
   "outputs": [],
   "source": [
    "def doAll(base_sample, check, params, base_pdf = None):\n",
    "    if base_pdf is None:\n",
    "        base_pdf = densityFromSample(base_sample)[0]\n",
    "        \n",
    "    print base_pdf\n",
    "    statistics_set, statistics_names, bw = _parseArgs(params)\n",
    "    \n",
    "    base_pdf_smoothed = flattenDensities(base_pdf, bw=bw)\n",
    "    \n",
    "    statistics_vals = bootstrap(base_pdf_smoothed, statistics_set, statistics_names, sample_size=400000)\n",
    "    \n",
    "    statistics_means = dict()\n",
    "    statistics_stds = dict()\n",
    "    \n",
    "    for key in statistics_vals:\n",
    "        statistics_means[key] = np.mean(statistics_vals[key])\n",
    "        statistics_stds[key] = np.std(statistics_vals[key])\n",
    "     \n",
    "    zero_hypothesis = Hypothesis('zero_H', statistics_means, statistics_stds)\n",
    "    \n",
    "    ### create two basic alternatives, will improve later\n",
    "    right_shifts = dict()\n",
    "    left_shifts = dict()\n",
    "    for name in statistics_names:\n",
    "        right_shifts[name] = 1\n",
    "        left_shifts[name] = -1\n",
    "    \n",
    "    right_alternative = generateAlternative(zero_hypothesis, right_shifts, alpha = 0.01)\n",
    "    left_alternative = generateAlternative(zero_hypothesis, left_shifts, alpha = 0.01)\n",
    "    \n",
    "    singleNPStat(zero_hypothesis, right_alternative, check)\n",
    "    singleNPStat(zero_hypothesis, left_alternative, check)\n",
    "    \n",
    "    NP_plot = False\n",
    "    if NP_plot:\n",
    "        zero_np_hist, right_alt_np_hist = NPStatDistribution(zero_hypothesis, right_alternative, sample_size = 1000)\n",
    "        zero_np_hist, left_alt_np_hist = NPStatDistribution(zero_hypothesis, left_alternative, sample_size = 1000)\n",
    "\n",
    "        plt.bar(zero_np_hist[1][:-1], zero_np_hist[0], align='center', width=np.diff(zero_np_hist[1]),color = 'b', edgecolor = 'b')\n",
    "        plt.bar(right_alt_np_hist[1][:-1], right_alt_np_hist[0], align='center', width=np.diff(right_alt_np_hist[1]),color = 'g', edgecolor = 'g')\n",
    "        plt.show()\n",
    "    \n",
    "    #print zero_hypothesis\n",
    "    #print \"\\n\"\n",
    "    #print right_alternative\n",
    " \n",
    "    "
   ]
  },
  {
   "cell_type": "code",
   "execution_count": 25,
   "metadata": {
    "collapsed": true
   },
   "outputs": [],
   "source": [
    "def genGCpauseEmulation(pdf, incr, percentage, sample_size = 4000000):\n",
    "    sample = sampleFromDensity(pdf, sample_size=sample_size)\n",
    "    \n",
    "    increase_num = sample_size * percentage / 100\n",
    "    \n",
    "    mask = np.zeros(sample_size)\n",
    "    \n",
    "    mask[np.random.randint(0, sample_size, int(increase_num))] = incr\n",
    "    \n",
    "    sample += mask\n",
    "    \n",
    "    return sample"
   ]
  },
  {
   "cell_type": "code",
   "execution_count": 26,
   "metadata": {
    "collapsed": false,
    "scrolled": true
   },
   "outputs": [
    {
     "data": {
      "image/png": "[encoded data removed]",
      "text/plain": [
       "<matplotlib.figure.Figure at 0x7facd6bc5b10>"
      ]
     },
     "metadata": {},
     "output_type": "display_data"
    }
   ],
   "source": [
    "plotDensity([densityFromSample(genGCpauseEmulation(runs['Dev'][0], 20, 100))[0],\n",
    "             runs['Dev'][0],\n",
    "            #runs['Dev'][2]\n",
    "            ],\n",
    "           axes_limits = [0, 1000, 0, 0.008])"
   ]
  },
  {
   "cell_type": "code",
   "execution_count": 23,
   "metadata": {
    "collapsed": true
   },
   "outputs": [],
   "source": [
    "elongated = densityFromSample(genGCpauseEmulation(runs['Dev'][0], 10000, 1))[0]"
   ]
  },
  {
   "cell_type": "code",
   "execution_count": 24,
   "metadata": {
    "collapsed": false
   },
   "outputs": [
    {
     "data": {
      "text/plain": [
       "600"
      ]
     },
     "execution_count": 24,
     "metadata": {},
     "output_type": "execute_result"
    }
   ],
   "source": [
    "pdfPercentiles(elongated, 90)"
   ]
  },
  {
   "cell_type": "code",
   "execution_count": 25,
   "metadata": {
    "collapsed": false
   },
   "outputs": [
    {
     "data": {
      "text/plain": [
       "2420"
      ]
     },
     "execution_count": 25,
     "metadata": {},
     "output_type": "execute_result"
    }
   ],
   "source": [
    "pdfPercentiles(runs['Dev'][0], 99.9)"
   ]
  },
  {
   "cell_type": "code",
   "execution_count": 29,
   "metadata": {
    "collapsed": true
   },
   "outputs": [],
   "source": [
    "stats_funcs = [#np.mean,\n",
    "                #lambda x : np.percentile(x, 50),\n",
    "                #lambda x : np.percentile(x, 90),\n",
    "    lambda x : np.percentile(x, 99),\n",
    "                #lambda x : np.percentile(x, 99.9),\n",
    "              ]\n",
    "stats_names = [#'mean',\n",
    "               #50,\n",
    "               #90,\n",
    "            99\n",
    "               #99.9\n",
    "              ]"
   ]
  },
  {
   "cell_type": "code",
   "execution_count": 27,
   "metadata": {
    "collapsed": true
   },
   "outputs": [],
   "source": [
    "import data_processing_utils as utils\n",
    "\n",
    "oracle_dir = \"/home/anton/azul/New_config_latency_runs/OracleRD/\"\n",
    "dev_dir = \"/home/anton/azul/New_config_latency_runs/DevRD/\"\n",
    "highlander_dir = \"/home/anton/azul/New_config_latency_runs/HighlanderRD/\"\n",
    "\n",
    "oracle_runs = utils.read_multiple(oracle_dir, [\"READ\"], verbouse=False)\n",
    "dev_runs = utils.read_multiple(dev_dir, [\"READ\"], verbouse=False)\n",
    "highlander_runs = utils.read_multiple(highlander_dir, [\"READ\"], verbouse=False)"
   ]
  },
  {
   "cell_type": "code",
   "execution_count": 30,
   "metadata": {
    "collapsed": false
   },
   "outputs": [
    {
     "name": "stdout",
     "output_type": "stream",
     "text": [
      "[ 0.  0.  0. ...,  0.  0.  0.]\n"
     ]
    },
    {
     "ename": "TypeError",
     "evalue": "__init__() takes exactly 3 arguments (4 given)",
     "output_type": "error",
     "traceback": [
      "\u001b[1;31m---------------------------------------------------------------------------\u001b[0m",
      "\u001b[1;31mTypeError\u001b[0m                                 Traceback (most recent call last)",
      "\u001b[1;32m<ipython-input-30-11e7923f2752>\u001b[0m in \u001b[0;36m<module>\u001b[1;34m()\u001b[0m\n\u001b[0;32m      1\u001b[0m doAll(_, genCheck(dev_runs[0]),\n\u001b[0;32m      2\u001b[0m       \u001b[1;33m[\u001b[0m\u001b[0mstats_funcs\u001b[0m\u001b[1;33m,\u001b[0m \u001b[0mstats_names\u001b[0m\u001b[1;33m,\u001b[0m \u001b[1;36m3\u001b[0m\u001b[1;33m]\u001b[0m\u001b[1;33m,\u001b[0m\u001b[1;33m\u001b[0m\u001b[0m\n\u001b[1;32m----> 3\u001b[1;33m       dev_runs[1])\n\u001b[0m",
      "\u001b[1;32m<ipython-input-24-6827ebb7429b>\u001b[0m in \u001b[0;36mdoAll\u001b[1;34m(base_sample, check, params, base_pdf)\u001b[0m\n\u001b[0;32m     17\u001b[0m         \u001b[0mstatistics_stds\u001b[0m\u001b[1;33m[\u001b[0m\u001b[0mkey\u001b[0m\u001b[1;33m]\u001b[0m \u001b[1;33m=\u001b[0m \u001b[0mnp\u001b[0m\u001b[1;33m.\u001b[0m\u001b[0mstd\u001b[0m\u001b[1;33m(\u001b[0m\u001b[0mstatistics_vals\u001b[0m\u001b[1;33m[\u001b[0m\u001b[0mkey\u001b[0m\u001b[1;33m]\u001b[0m\u001b[1;33m)\u001b[0m\u001b[1;33m\u001b[0m\u001b[0m\n\u001b[0;32m     18\u001b[0m \u001b[1;33m\u001b[0m\u001b[0m\n\u001b[1;32m---> 19\u001b[1;33m     \u001b[0mzero_hypothesis\u001b[0m \u001b[1;33m=\u001b[0m \u001b[0mHypothesis\u001b[0m\u001b[1;33m(\u001b[0m\u001b[1;34m'zero_H'\u001b[0m\u001b[1;33m,\u001b[0m \u001b[0mstatistics_means\u001b[0m\u001b[1;33m,\u001b[0m \u001b[0mstatistics_stds\u001b[0m\u001b[1;33m)\u001b[0m\u001b[1;33m\u001b[0m\u001b[0m\n\u001b[0m\u001b[0;32m     20\u001b[0m \u001b[1;33m\u001b[0m\u001b[0m\n\u001b[0;32m     21\u001b[0m     \u001b[1;31m### create two basic alternatives, will improve later\u001b[0m\u001b[1;33m\u001b[0m\u001b[1;33m\u001b[0m\u001b[0m\n",
      "\u001b[1;31mTypeError\u001b[0m: __init__() takes exactly 3 arguments (4 given)"
     ]
    }
   ],
   "source": [
    "doAll(_, genCheck(dev_runs[0]),\n",
    "      [stats_funcs, stats_names, 3], \n",
    "      dev_runs[1])"
   ]
  },
  {
   "cell_type": "code",
   "execution_count": null,
   "metadata": {
    "collapsed": true
   },
   "outputs": [],
   "source": []
  },
  {
   "cell_type": "code",
   "execution_count": null,
   "metadata": {
    "collapsed": true
   },
   "outputs": [],
   "source": []
  },
  {
   "cell_type": "code",
   "execution_count": null,
   "metadata": {
    "collapsed": true
   },
   "outputs": [],
   "source": []
  },
  {
   "cell_type": "code",
   "execution_count": null,
   "metadata": {
    "collapsed": true
   },
   "outputs": [],
   "source": []
  },
  {
   "cell_type": "code",
   "execution_count": null,
   "metadata": {
    "collapsed": true
   },
   "outputs": [],
   "source": []
  },
  {
   "cell_type": "code",
   "execution_count": null,
   "metadata": {
    "collapsed": true
   },
   "outputs": [],
   "source": []
  },
  {
   "cell_type": "code",
   "execution_count": null,
   "metadata": {
    "collapsed": true
   },
   "outputs": [],
   "source": []
  },
  {
   "cell_type": "code",
   "execution_count": null,
   "metadata": {
    "collapsed": true
   },
   "outputs": [],
   "source": []
  },
  {
   "cell_type": "code",
   "execution_count": null,
   "metadata": {
    "collapsed": true
   },
   "outputs": [],
   "source": []
  },
  {
   "cell_type": "code",
   "execution_count": null,
   "metadata": {
    "collapsed": true
   },
   "outputs": [],
   "source": []
  },
  {
   "cell_type": "code",
   "execution_count": null,
   "metadata": {
    "collapsed": true
   },
   "outputs": [],
   "source": []
  },
  {
   "cell_type": "code",
   "execution_count": null,
   "metadata": {
    "collapsed": true
   },
   "outputs": [],
   "source": []
  },
  {
   "cell_type": "code",
   "execution_count": null,
   "metadata": {
    "collapsed": true
   },
   "outputs": [],
   "source": []
  },
  {
   "cell_type": "code",
   "execution_count": null,
   "metadata": {
    "collapsed": true
   },
   "outputs": [],
   "source": []
  },
  {
   "cell_type": "code",
   "execution_count": null,
   "metadata": {
    "collapsed": true
   },
   "outputs": [],
   "source": []
  },
  {
   "cell_type": "code",
   "execution_count": null,
   "metadata": {
    "collapsed": true
   },
   "outputs": [],
   "source": []
  },
  {
   "cell_type": "code",
   "execution_count": null,
   "metadata": {
    "collapsed": true
   },
   "outputs": [],
   "source": []
  },
  {
   "cell_type": "code",
   "execution_count": null,
   "metadata": {
    "collapsed": true
   },
   "outputs": [],
   "source": []
  },
  {
   "cell_type": "code",
   "execution_count": null,
   "metadata": {
    "collapsed": true
   },
   "outputs": [],
   "source": []
  },
  {
   "cell_type": "code",
   "execution_count": null,
   "metadata": {
    "collapsed": true
   },
   "outputs": [],
   "source": []
  },
  {
   "cell_type": "code",
   "execution_count": null,
   "metadata": {
    "collapsed": true
   },
   "outputs": [],
   "source": []
  },
  {
   "cell_type": "code",
   "execution_count": null,
   "metadata": {
    "collapsed": true
   },
   "outputs": [],
   "source": []
  },
  {
   "cell_type": "code",
   "execution_count": null,
   "metadata": {
    "collapsed": true
   },
   "outputs": [],
   "source": []
  },
  {
   "cell_type": "code",
   "execution_count": null,
   "metadata": {
    "collapsed": true
   },
   "outputs": [],
   "source": []
  },
  {
   "cell_type": "code",
   "execution_count": null,
   "metadata": {
    "collapsed": true
   },
   "outputs": [],
   "source": []
  },
  {
   "cell_type": "code",
   "execution_count": null,
   "metadata": {
    "collapsed": true
   },
   "outputs": [],
   "source": []
  },
  {
   "cell_type": "code",
   "execution_count": null,
   "metadata": {
    "collapsed": true
   },
   "outputs": [],
   "source": []
  },
  {
   "cell_type": "code",
   "execution_count": null,
   "metadata": {
    "collapsed": true
   },
   "outputs": [],
   "source": []
  },
  {
   "cell_type": "code",
   "execution_count": null,
   "metadata": {
    "collapsed": true
   },
   "outputs": [],
   "source": []
  },
  {
   "cell_type": "code",
   "execution_count": null,
   "metadata": {
    "collapsed": true
   },
   "outputs": [],
   "source": []
  },
  {
   "cell_type": "code",
   "execution_count": null,
   "metadata": {
    "collapsed": true
   },
   "outputs": [],
   "source": []
  },
  {
   "cell_type": "code",
   "execution_count": null,
   "metadata": {
    "collapsed": true
   },
   "outputs": [],
   "source": []
  },
  {
   "cell_type": "code",
   "execution_count": null,
   "metadata": {
    "collapsed": true
   },
   "outputs": [],
   "source": []
  },
  {
   "cell_type": "code",
   "execution_count": null,
   "metadata": {
    "collapsed": true
   },
   "outputs": [],
   "source": []
  },
  {
   "cell_type": "code",
   "execution_count": 27,
   "metadata": {
    "collapsed": false,
    "scrolled": true
   },
   "outputs": [
    {
     "data": {
      "text/plain": [
       "2587"
      ]
     },
     "execution_count": 27,
     "metadata": {},
     "output_type": "execute_result"
    }
   ],
   "source": [
    "pdfPercentiles(densityFromSample(genGCpauseEmulation(runs['Dev'][0], 1000, 10))[0], 99.9)"
   ]
  },
  {
   "cell_type": "code",
   "execution_count": 28,
   "metadata": {
    "collapsed": false
   },
   "outputs": [
    {
     "data": {
      "text/plain": [
       "2420"
      ]
     },
     "execution_count": 28,
     "metadata": {},
     "output_type": "execute_result"
    }
   ],
   "source": [
    "pdfPercentiles(runs['Dev'][0], 99.9)"
   ]
  },
  {
   "cell_type": "code",
   "execution_count": 29,
   "metadata": {
    "collapsed": false,
    "scrolled": false
   },
   "outputs": [
    {
     "name": "stdout",
     "output_type": "stream",
     "text": [
      "[ 0.  0.  0. ...,  0.  0.  0.]\n"
     ]
    },
    {
     "ename": "TypeError",
     "evalue": "__init__() takes exactly 3 arguments (4 given)",
     "output_type": "error",
     "traceback": [
      "\u001b[1;31m---------------------------------------------------------------------------\u001b[0m",
      "\u001b[1;31mTypeError\u001b[0m                                 Traceback (most recent call last)",
      "\u001b[1;32m<ipython-input-29-8909dc49c6d7>\u001b[0m in \u001b[0;36m<module>\u001b[1;34m()\u001b[0m\n\u001b[0;32m      1\u001b[0m doAll(_, genCheck(densityFromSample(genGCpauseEmulation(runs['Dev'][0], 3000, 0.1))[0]),\n\u001b[0;32m      2\u001b[0m       \u001b[1;33m[\u001b[0m\u001b[0mstats_funcs\u001b[0m\u001b[1;33m,\u001b[0m \u001b[0mstats_names\u001b[0m\u001b[1;33m,\u001b[0m \u001b[1;36m3\u001b[0m\u001b[1;33m]\u001b[0m\u001b[1;33m,\u001b[0m\u001b[1;33m\u001b[0m\u001b[0m\n\u001b[1;32m----> 3\u001b[1;33m       runs['Dev'][0])\n\u001b[0m",
      "\u001b[1;32m<ipython-input-20-6827ebb7429b>\u001b[0m in \u001b[0;36mdoAll\u001b[1;34m(base_sample, check, params, base_pdf)\u001b[0m\n\u001b[0;32m     17\u001b[0m         \u001b[0mstatistics_stds\u001b[0m\u001b[1;33m[\u001b[0m\u001b[0mkey\u001b[0m\u001b[1;33m]\u001b[0m \u001b[1;33m=\u001b[0m \u001b[0mnp\u001b[0m\u001b[1;33m.\u001b[0m\u001b[0mstd\u001b[0m\u001b[1;33m(\u001b[0m\u001b[0mstatistics_vals\u001b[0m\u001b[1;33m[\u001b[0m\u001b[0mkey\u001b[0m\u001b[1;33m]\u001b[0m\u001b[1;33m)\u001b[0m\u001b[1;33m\u001b[0m\u001b[0m\n\u001b[0;32m     18\u001b[0m \u001b[1;33m\u001b[0m\u001b[0m\n\u001b[1;32m---> 19\u001b[1;33m     \u001b[0mzero_hypothesis\u001b[0m \u001b[1;33m=\u001b[0m \u001b[0mHypothesis\u001b[0m\u001b[1;33m(\u001b[0m\u001b[1;34m'zero_H'\u001b[0m\u001b[1;33m,\u001b[0m \u001b[0mstatistics_means\u001b[0m\u001b[1;33m,\u001b[0m \u001b[0mstatistics_stds\u001b[0m\u001b[1;33m)\u001b[0m\u001b[1;33m\u001b[0m\u001b[0m\n\u001b[0m\u001b[0;32m     20\u001b[0m \u001b[1;33m\u001b[0m\u001b[0m\n\u001b[0;32m     21\u001b[0m     \u001b[1;31m### create two basic alternatives, will improve later\u001b[0m\u001b[1;33m\u001b[0m\u001b[1;33m\u001b[0m\u001b[0m\n",
      "\u001b[1;31mTypeError\u001b[0m: __init__() takes exactly 3 arguments (4 given)"
     ]
    }
   ],
   "source": [
    "doAll(_, genCheck(densityFromSample(genGCpauseEmulation(runs['Dev'][0], 3000, 0.1))[0]),\n",
    "      [stats_funcs, stats_names, 3], \n",
    "      runs['Dev'][0])"
   ]
  },
  {
   "cell_type": "code",
   "execution_count": null,
   "metadata": {
    "collapsed": false,
    "scrolled": true
   },
   "outputs": [],
   "source": [
    "\n",
    "         \n",
    "\n",
    "doAll(_, genCheck(runs['Dev'][0]), [stats_funcs, stats_names, 3], runs['Dev'][1])\n",
    "#doAll(_, genCheck(runs['Granada'][0]), [stats_funcs, stats_names, 3], runs['Highlander'][0])\n",
    "\n",
    "#print '\\nHighlander \\n \\n'\n",
    "#doAll(_, genCheck(runs['Highlander'][1]), [stats_funcs, stats_names, 3], runs['Highlander'][0])\n",
    "#doAll(_, genCheck(runs['Highlander'][2]), [stats_funcs, stats_names, 3], runs['Highlander'][0])\n",
    "#doAll(_, genCheck(runs['Highlander'][3]), [stats_funcs, stats_names, 3], runs['Highlander'][0])"
   ]
  },
  {
   "cell_type": "code",
   "execution_count": null,
   "metadata": {
    "collapsed": true
   },
   "outputs": [],
   "source": [
    "samp = sampleFromDensity(runs['Highlander'][0])"
   ]
  },
  {
   "cell_type": "code",
   "execution_count": null,
   "metadata": {
    "collapsed": false
   },
   "outputs": [],
   "source": [
    "densityFromSample(samp)[0]"
   ]
  },
  {
   "cell_type": "code",
   "execution_count": 233,
   "metadata": {
    "collapsed": false
   },
   "outputs": [
    {
     "ename": "SyntaxError",
     "evalue": "non-keyword arg after keyword arg (<ipython-input-233-5eeef46aea44>, line 1)",
     "output_type": "error",
     "traceback": [
      "\u001b[1;36m  File \u001b[1;32m\"<ipython-input-233-5eeef46aea44>\"\u001b[1;36m, line \u001b[1;32m1\u001b[0m\n\u001b[1;33m    doAll(_, check = check, [stats_funcs, stats_names, 3], runs['Highlander'][0])\u001b[0m\n\u001b[1;31mSyntaxError\u001b[0m\u001b[1;31m:\u001b[0m non-keyword arg after keyword arg\n"
     ]
    }
   ],
   "source": [
    "doAll(_,  genCheck(runs['Dev'][0] , [stats_funcs, stats_names, 3], runs['Highlander'][0])"
   ]
  },
  {
   "cell_type": "code",
   "execution_count": 45,
   "metadata": {
    "collapsed": false
   },
   "outputs": [
    {
     "data": {
      "text/plain": [
       "489.1189"
      ]
     },
     "execution_count": 45,
     "metadata": {},
     "output_type": "execute_result"
    }
   ],
   "source": [
    "np.mean(sampleFromDensity(runs['Dev'][0], sample_size = 10000))"
   ]
  },
  {
   "cell_type": "code",
   "execution_count": 325,
   "metadata": {
    "collapsed": false
   },
   "outputs": [
    {
     "data": {
      "text/plain": [
       "503.32679999999999"
      ]
     },
     "execution_count": 325,
     "metadata": {},
     "output_type": "execute_result"
    }
   ],
   "source": [
    "np.mean(sampleFromDensity(runs['Highlander'][3], sample_size = 10000))"
   ]
  },
  {
   "cell_type": "code",
   "execution_count": 28,
   "metadata": {
    "collapsed": false
   },
   "outputs": [
    {
     "data": {
      "text/plain": [
       "array([16510, 83058])"
      ]
     },
     "execution_count": 28,
     "metadata": {},
     "output_type": "execute_result"
    }
   ],
   "source": [
    "np.random.randint(0, 100000, 2)"
   ]
  },
  {
   "cell_type": "code",
   "execution_count": null,
   "metadata": {
    "collapsed": true
   },
   "outputs": [],
   "source": []
  },
  {
   "cell_type": "markdown",
   "metadata": {},
   "source": [
    "# EXPERIMNETS AGAIN"
   ]
  },
  {
   "cell_type": "code",
   "execution_count": 60,
   "metadata": {
    "collapsed": false
   },
   "outputs": [],
   "source": [
    "a = []\n",
    "for i in range(6):\n",
    "    a.append(pdfPercentiles(runs['Granada'][i], 50))"
   ]
  },
  {
   "cell_type": "code",
   "execution_count": 31,
   "metadata": {
    "collapsed": false
   },
   "outputs": [
    {
     "ename": "SyntaxError",
     "evalue": "invalid syntax (<ipython-input-31-08fcec1c5d4d>, line 1)",
     "output_type": "error",
     "traceback": [
      "\u001b[1;36m  File \u001b[1;32m\"<ipython-input-31-08fcec1c5d4d>\"\u001b[1;36m, line \u001b[1;32m1\u001b[0m\n\u001b[1;33m    np.log(/ np.inf)\u001b[0m\n\u001b[1;37m           ^\u001b[0m\n\u001b[1;31mSyntaxError\u001b[0m\u001b[1;31m:\u001b[0m invalid syntax\n"
     ]
    }
   ],
   "source": [
    "np.log(/ np.inf)\n"
   ]
  },
  {
   "cell_type": "code",
   "execution_count": 61,
   "metadata": {
    "collapsed": false,
    "scrolled": true
   },
   "outputs": [
    {
     "data": {
      "text/plain": [
       "2.5819888974716112"
      ]
     },
     "execution_count": 61,
     "metadata": {},
     "output_type": "execute_result"
    }
   ],
   "source": [
    "np.std(a)"
   ]
  },
  {
   "cell_type": "code",
   "execution_count": null,
   "metadata": {
    "collapsed": true
   },
   "outputs": [],
   "source": []
  },
  {
   "cell_type": "code",
   "execution_count": 66,
   "metadata": {
    "collapsed": false
   },
   "outputs": [
    {
     "data": {
      "text/plain": [
       "(65535,)"
      ]
     },
     "execution_count": 66,
     "metadata": {},
     "output_type": "execute_result"
    }
   ],
   "source": []
  },
  {
   "cell_type": "code",
   "execution_count": null,
   "metadata": {
    "collapsed": true
   },
   "outputs": [],
   "source": []
  },
  {
   "cell_type": "code",
   "execution_count": 32,
   "metadata": {
    "collapsed": false
   },
   "outputs": [],
   "source": [
    "def CrossValidation(pdfs):\n",
    "    summary = sum(pdfs)\n",
    "    \n",
    "    for i in range(len(pdfs)):\n",
    "        print i\n",
    "        doAll(_,  genCheck(pdfs[i]) , [stats_funcs, stats_names, 3], (summary - pdfs[i])/(len(pdfs) - 1))"
   ]
  },
  {
   "cell_type": "code",
   "execution_count": 33,
   "metadata": {
    "collapsed": false,
    "scrolled": false
   },
   "outputs": [
    {
     "name": "stdout",
     "output_type": "stream",
     "text": [
      "0\n",
      "[ 0.  0.  0. ...,  0.  0.  0.]\n"
     ]
    },
    {
     "ename": "TypeError",
     "evalue": "__init__() takes exactly 3 arguments (4 given)",
     "output_type": "error",
     "traceback": [
      "\u001b[1;31m---------------------------------------------------------------------------\u001b[0m",
      "\u001b[1;31mTypeError\u001b[0m                                 Traceback (most recent call last)",
      "\u001b[1;32m<ipython-input-33-7bdbcad42b89>\u001b[0m in \u001b[0;36m<module>\u001b[1;34m()\u001b[0m\n\u001b[1;32m----> 1\u001b[1;33m \u001b[0mCrossValidation\u001b[0m\u001b[1;33m(\u001b[0m\u001b[0mruns\u001b[0m\u001b[1;33m[\u001b[0m\u001b[1;34m'Dev'\u001b[0m\u001b[1;33m]\u001b[0m\u001b[1;33m)\u001b[0m\u001b[1;33m\u001b[0m\u001b[0m\n\u001b[0m",
      "\u001b[1;32m<ipython-input-32-5581ad4d4038>\u001b[0m in \u001b[0;36mCrossValidation\u001b[1;34m(pdfs)\u001b[0m\n\u001b[0;32m      4\u001b[0m     \u001b[1;32mfor\u001b[0m \u001b[0mi\u001b[0m \u001b[1;32min\u001b[0m \u001b[0mrange\u001b[0m\u001b[1;33m(\u001b[0m\u001b[0mlen\u001b[0m\u001b[1;33m(\u001b[0m\u001b[0mpdfs\u001b[0m\u001b[1;33m)\u001b[0m\u001b[1;33m)\u001b[0m\u001b[1;33m:\u001b[0m\u001b[1;33m\u001b[0m\u001b[0m\n\u001b[0;32m      5\u001b[0m         \u001b[1;32mprint\u001b[0m \u001b[0mi\u001b[0m\u001b[1;33m\u001b[0m\u001b[0m\n\u001b[1;32m----> 6\u001b[1;33m         \u001b[0mdoAll\u001b[0m\u001b[1;33m(\u001b[0m\u001b[0m_\u001b[0m\u001b[1;33m,\u001b[0m  \u001b[0mgenCheck\u001b[0m\u001b[1;33m(\u001b[0m\u001b[0mpdfs\u001b[0m\u001b[1;33m[\u001b[0m\u001b[0mi\u001b[0m\u001b[1;33m]\u001b[0m\u001b[1;33m)\u001b[0m \u001b[1;33m,\u001b[0m \u001b[1;33m[\u001b[0m\u001b[0mstats_funcs\u001b[0m\u001b[1;33m,\u001b[0m \u001b[0mstats_names\u001b[0m\u001b[1;33m,\u001b[0m \u001b[1;36m3\u001b[0m\u001b[1;33m]\u001b[0m\u001b[1;33m,\u001b[0m \u001b[1;33m(\u001b[0m\u001b[0msummary\u001b[0m \u001b[1;33m-\u001b[0m \u001b[0mpdfs\u001b[0m\u001b[1;33m[\u001b[0m\u001b[0mi\u001b[0m\u001b[1;33m]\u001b[0m\u001b[1;33m)\u001b[0m\u001b[1;33m/\u001b[0m\u001b[1;33m(\u001b[0m\u001b[0mlen\u001b[0m\u001b[1;33m(\u001b[0m\u001b[0mpdfs\u001b[0m\u001b[1;33m)\u001b[0m \u001b[1;33m-\u001b[0m \u001b[1;36m1\u001b[0m\u001b[1;33m)\u001b[0m\u001b[1;33m)\u001b[0m\u001b[1;33m\u001b[0m\u001b[0m\n\u001b[0m",
      "\u001b[1;32m<ipython-input-24-6827ebb7429b>\u001b[0m in \u001b[0;36mdoAll\u001b[1;34m(base_sample, check, params, base_pdf)\u001b[0m\n\u001b[0;32m     17\u001b[0m         \u001b[0mstatistics_stds\u001b[0m\u001b[1;33m[\u001b[0m\u001b[0mkey\u001b[0m\u001b[1;33m]\u001b[0m \u001b[1;33m=\u001b[0m \u001b[0mnp\u001b[0m\u001b[1;33m.\u001b[0m\u001b[0mstd\u001b[0m\u001b[1;33m(\u001b[0m\u001b[0mstatistics_vals\u001b[0m\u001b[1;33m[\u001b[0m\u001b[0mkey\u001b[0m\u001b[1;33m]\u001b[0m\u001b[1;33m)\u001b[0m\u001b[1;33m\u001b[0m\u001b[0m\n\u001b[0;32m     18\u001b[0m \u001b[1;33m\u001b[0m\u001b[0m\n\u001b[1;32m---> 19\u001b[1;33m     \u001b[0mzero_hypothesis\u001b[0m \u001b[1;33m=\u001b[0m \u001b[0mHypothesis\u001b[0m\u001b[1;33m(\u001b[0m\u001b[1;34m'zero_H'\u001b[0m\u001b[1;33m,\u001b[0m \u001b[0mstatistics_means\u001b[0m\u001b[1;33m,\u001b[0m \u001b[0mstatistics_stds\u001b[0m\u001b[1;33m)\u001b[0m\u001b[1;33m\u001b[0m\u001b[0m\n\u001b[0m\u001b[0;32m     20\u001b[0m \u001b[1;33m\u001b[0m\u001b[0m\n\u001b[0;32m     21\u001b[0m     \u001b[1;31m### create two basic alternatives, will improve later\u001b[0m\u001b[1;33m\u001b[0m\u001b[1;33m\u001b[0m\u001b[0m\n",
      "\u001b[1;31mTypeError\u001b[0m: __init__() takes exactly 3 arguments (4 given)"
     ]
    }
   ],
   "source": [
    "CrossValidation(runs['Dev'])"
   ]
  },
  {
   "cell_type": "code",
   "execution_count": 102,
   "metadata": {
    "collapsed": false
   },
   "outputs": [
    {
     "data": {
      "image/png": "[encoded data removed]",
      "text/plain": [
       "<matplotlib.figure.Figure at 0x7f0956a06f10>"
      ]
     },
     "metadata": {},
     "output_type": "display_data"
    }
   ],
   "source": [
    "fig = plt.figure(figsize=(20, 10))\n",
    "ax = fig.add_subplot(1,1,1)\n",
    "\n",
    "axes_limits = [0,1000, 0, 0.01]\n",
    "colors = ['g']*6\n",
    "colors[3] = 'r'\n",
    "densities = runs['Highlander'] \n",
    "\n",
    "if len(axes_limits) == 4: \n",
    "    ax.axis(axes_limits)\n",
    "    ax = plt.gca()\n",
    "    ax.set_autoscale_on(False)\n",
    "\n",
    "for i in range(len(densities)):\n",
    "    density = densities[i]\n",
    "    if colors is None:\n",
    "        ax.plot(density)\n",
    "    else:\n",
    "        ax.plot(density, colors[i])\n",
    "\n",
    "#red_patch = mpatches.Patch(color='red', label='Dev 600s + 1800s runs')\n",
    "#blue_patch = mpatches.Patch(color='blue', label='Granada 600s + 1800s runs')\n",
    "green_patch = mpatches.Patch(color='green', label='Highlander 600s + 1800s runs')\n",
    "ax.legend(handles=[green_patch])#[red_patch, blue_patch, green_patch])\n",
    "ax.set_title(\"Cassandra 3.2.1 single node, D READ\", loc = 'center')\n",
    "\n",
    "fig.savefig('DevHlanderGran.png')"
   ]
  },
  {
   "cell_type": "code",
   "execution_count": 113,
   "metadata": {
    "collapsed": false
   },
   "outputs": [],
   "source": []
  },
  {
   "cell_type": "code",
   "execution_count": 122,
   "metadata": {
    "collapsed": true
   },
   "outputs": [],
   "source": [
    "def generateNoiseMeansPattern(lenght, scale=1):\n",
    "    s = 0\n",
    "    s_l = np.zeros(lenght)\n",
    "    \n",
    "    BD = stats.bernoulli(0.5)\n",
    "    \n",
    "    for i in range(lenght):\n",
    "        s += (BD.rvs() - 0.5) * scale\n",
    "        s_l[i] = s\n",
    "    \n",
    "    return s_l"
   ]
  },
  {
   "cell_type": "code",
   "execution_count": 156,
   "metadata": {
    "collapsed": true
   },
   "outputs": [],
   "source": [
    "d = densityFromSample(sampleFromDensity(runs['Highlander'][0], sample_size= 100000, noisy = True, noise_scale= 0.3))"
   ]
  },
  {
   "cell_type": "code",
   "execution_count": 177,
   "metadata": {
    "collapsed": true
   },
   "outputs": [],
   "source": [
    "d2 = densityFromSample(sampleFromDensity(runs['Highlander'][0], sample_size= 100000, noisy = True, noise_scale=0.1))"
   ]
  },
  {
   "cell_type": "code",
   "execution_count": 178,
   "metadata": {
    "collapsed": false
   },
   "outputs": [
    {
     "data": {
      "image/png": "[encoded data removed]",
      "text/plain": [
       "<matplotlib.figure.Figure at 0x7f09565937d0>"
      ]
     },
     "metadata": {},
     "output_type": "display_data"
    }
   ],
   "source": [
    "plotDensity([d[0], d2[0]],\n",
    "             axes_limits = [0, 1000, 0, 0.008])"
   ]
  },
  {
   "cell_type": "code",
   "execution_count": 203,
   "metadata": {
    "collapsed": false
   },
   "outputs": [],
   "source": [
    "samples = []\n",
    "for i in log_progress(range(20), every = 1):\n",
    "    samples.append(sampleFromDensity(runs['Highlander'][0], sample_size= 100000, noisy = True, noise_scale= 0.1))"
   ]
  },
  {
   "cell_type": "code",
   "execution_count": 198,
   "metadata": {
    "collapsed": false
   },
   "outputs": [
    {
     "data": {
      "image/png": "[encoded data removed]",
      "text/plain": [
       "<matplotlib.figure.Figure at 0x7f095618a0d0>"
      ]
     },
     "metadata": {},
     "output_type": "display_data"
    }
   ],
   "source": [
    "plotDensity(denn[:4]\n",
    "            ,\n",
    "            axes_limits = [0, 1000, 0, 0.007]\n",
    "           )"
   ]
  },
  {
   "cell_type": "code",
   "execution_count": 193,
   "metadata": {
    "collapsed": false
   },
   "outputs": [],
   "source": [
    "denn = [den[i][0] for i in range(len(den))]"
   ]
  },
  {
   "cell_type": "code",
   "execution_count": 200,
   "metadata": {
    "collapsed": false
   },
   "outputs": [],
   "source": [
    "m = [np.mean(denn[i]) for i in range(20)]"
   ]
  },
  {
   "cell_type": "code",
   "execution_count": 201,
   "metadata": {
    "collapsed": false
   },
   "outputs": [
    {
     "data": {
      "text/plain": [
       "[4.78148608587549e-05,\n",
       " 4.1018909717379707e-05,\n",
       " 3.6127167630057813e-05,\n",
       " 1.8135654697134564e-05,\n",
       " 4.1015544891513881e-05,\n",
       " 3.9987204094689698e-05,\n",
       " 2.0186115989422473e-05,\n",
       " 3.8170852736850135e-05,\n",
       " 5.7054829691333371e-05,\n",
       " 4.112011184670422e-05,\n",
       " 5.0950221633464103e-05,\n",
       " 3.9813672014969937e-05,\n",
       " 3.9618081692484448e-05,\n",
       " 5.0100200400801596e-05,\n",
       " 4.0003200256020489e-05,\n",
       " 4.1101520756267974e-05,\n",
       " 4.1933995890468405e-05,\n",
       " 2.707605664311049e-05,\n",
       " 5.1783957330019154e-05,\n",
       " 4.362621062734491e-05]"
      ]
     },
     "execution_count": 201,
     "metadata": {},
     "output_type": "execute_result"
    }
   ],
   "source": [
    "m"
   ]
  },
  {
   "cell_type": "code",
   "execution_count": 33,
   "metadata": {
    "collapsed": false
   },
   "outputs": [
    {
     "data": {
      "image/png": "[encoded data removed]",
      "text/plain": [
       "<matplotlib.figure.Figure at 0x7f019b8af810>"
      ]
     },
     "metadata": {},
     "output_type": "display_data"
    }
   ],
   "source": [
    "plotDensity(runs[\"Highlander\"][0],\n",
    "           axes_limits = [5000, 30000, 0, 0.000002])"
   ]
  },
  {
   "cell_type": "code",
   "execution_count": 23,
   "metadata": {
    "collapsed": true
   },
   "outputs": [],
   "source": [
    "aaaa = runs[\"Highlander\"][0]"
   ]
  },
  {
   "cell_type": "code",
   "execution_count": 44,
   "metadata": {
    "collapsed": false
   },
   "outputs": [
    {
     "data": {
      "text/plain": [
       "KernelDensity(algorithm='auto', atol=0, bandwidth=100, breadth_first=True,\n",
       "       kernel='tophat', leaf_size=40, metric='euclidean',\n",
       "       metric_params=None, rtol=0)"
      ]
     },
     "execution_count": 44,
     "metadata": {},
     "output_type": "execute_result"
    }
   ],
   "source": [
    "from sklearn.neighbors.kde import KernelDensity\n",
    "\n",
    "kd = KernelDensity(bandwidth=100, kernel='tophat')\n",
    "kd.fit(aaaa.reshape(-1, 1))"
   ]
  },
  {
   "cell_type": "code",
   "execution_count": 46,
   "metadata": {
    "collapsed": false
   },
   "outputs": [
    {
     "data": {
      "image/png": "[encoded data removed]",
      "text/plain": [
       "<matplotlib.figure.Figure at 0x7f4a4200b5d0>"
      ]
     },
     "metadata": {},
     "output_type": "display_data"
    }
   ],
   "source": [
    "plotDensity([aaaa,\n",
    "             np.exp(kd.score_samples(np.linspace(0, 1000,1000).reshape(-1,1)))\n",
    "            ],\n",
    "           axes_limits = [0, 1000, 0, 0.0008])"
   ]
  },
  {
   "cell_type": "code",
   "execution_count": 61,
   "metadata": {
    "collapsed": false
   },
   "outputs": [],
   "source": [
    "d = kd.score_samples(np.linspace(0, 40000,40000)[:, np.newaxis])"
   ]
  },
  {
   "cell_type": "code",
   "execution_count": 63,
   "metadata": {
    "collapsed": false
   },
   "outputs": [
    {
     "data": {
      "text/plain": [
       "0.69946418791254472"
      ]
     },
     "execution_count": 63,
     "metadata": {},
     "output_type": "execute_result"
    }
   ],
   "source": [
    "sum(np.exp(d))"
   ]
  },
  {
   "cell_type": "code",
   "execution_count": 47,
   "metadata": {
    "collapsed": false
   },
   "outputs": [
    {
     "name": "stderr",
     "output_type": "stream",
     "text": [
      "/home/anton/anaconda2/lib/python2.7/site-packages/ipykernel/__main__.py:2: DeprecationWarning: using a non-integer number instead of an integer will result in an error in the future\n",
      "  from ipykernel import kernelapp as app\n",
      "/home/anton/anaconda2/lib/python2.7/site-packages/ipykernel/__main__.py:3: DeprecationWarning: using a non-integer number instead of an integer will result in an error in the future\n",
      "  app.launch_new_instance()\n"
     ]
    }
   ],
   "source": [
    "N = 20\n",
    "X = np.concatenate((np.random.normal(0, 1, 0.3 * N),\n",
    "                    np.random.normal(5, 1, 0.7 * N)))[:, np.newaxis]\n",
    "X_plot = np.linspace(-5, 10, 1000)[:, np.newaxis]\n",
    "bins = np.linspace(-5, 10, 10)"
   ]
  },
  {
   "cell_type": "code",
   "execution_count": 1,
   "metadata": {
    "collapsed": true
   },
   "outputs": [],
   "source": [
    "s = \"read_and go away\""
   ]
  },
  {
   "cell_type": "code",
   "execution_count": 4,
   "metadata": {
    "collapsed": false
   },
   "outputs": [
    {
     "ename": "TypeError",
     "evalue": "'in <string>' requires string as left operand, not list",
     "output_type": "error",
     "traceback": [
      "\u001b[1;31m---------------------------------------------------------------------------\u001b[0m",
      "\u001b[1;31mTypeError\u001b[0m                                 Traceback (most recent call last)",
      "\u001b[1;32m<ipython-input-4-0da1e1fa2cb7>\u001b[0m in \u001b[0;36m<module>\u001b[1;34m()\u001b[0m\n\u001b[1;32m----> 1\u001b[1;33m \u001b[0many\u001b[0m\u001b[1;33m(\u001b[0m\u001b[1;33m[\u001b[0m\u001b[1;34m\"r\"\u001b[0m\u001b[1;33m,\u001b[0m \u001b[1;34m\" go\"\u001b[0m\u001b[1;33m]\u001b[0m \u001b[1;32min\u001b[0m \u001b[0ms\u001b[0m\u001b[1;33m)\u001b[0m\u001b[1;33m\u001b[0m\u001b[0m\n\u001b[0m",
      "\u001b[1;31mTypeError\u001b[0m: 'in <string>' requires string as left operand, not list"
     ]
    }
   ],
   "source": [
    "any([\"r\", \" go\"] in s)"
   ]
  },
  {
   "cell_type": "code",
   "execution_count": 5,
   "metadata": {
    "collapsed": true
   },
   "outputs": [],
   "source": [
    "def __strings_in_string(string_list, base_string):\n",
    "    checks = [check_string in base_string for check_string in string_list]\n",
    "    return all(checks)"
   ]
  },
  {
   "cell_type": "code",
   "execution_count": 7,
   "metadata": {
    "collapsed": false
   },
   "outputs": [
    {
     "data": {
      "text/plain": [
       "False"
      ]
     },
     "execution_count": 7,
     "metadata": {},
     "output_type": "execute_result"
    }
   ],
   "source": [
    "__strings_in_string([\"r\", \" go\", \"hui\"],s)"
   ]
  },
  {
   "cell_type": "code",
   "execution_count": 28,
   "metadata": {
    "collapsed": false
   },
   "outputs": [
    {
     "data": {
      "text/plain": [
       "131070"
      ]
     },
     "execution_count": 28,
     "metadata": {},
     "output_type": "execute_result"
    }
   ],
   "source": [
    "len(flattenDensities(runs[\"Highlander\"][1])[0])"
   ]
  },
  {
   "cell_type": "code",
   "execution_count": 29,
   "metadata": {
    "collapsed": false
   },
   "outputs": [
    {
     "data": {
      "text/plain": [
       "65535"
      ]
     },
     "execution_count": 29,
     "metadata": {},
     "output_type": "execute_result"
    }
   ],
   "source": [
    "len(runs[\"Highlander\"][1])"
   ]
  },
  {
   "cell_type": "code",
   "execution_count": 30,
   "metadata": {
    "collapsed": false
   },
   "outputs": [
    {
     "data": {
      "image/png": "[encoded data removed]",
      "text/plain": [
       "<matplotlib.figure.Figure at 0x7f314cc3f250>"
      ]
     },
     "metadata": {},
     "output_type": "display_data"
    }
   ],
   "source": [
    "import numpy\n",
    "import matplotlib.pyplot as plt\n",
    "from matplotlib.widgets import Slider\n",
    "# fake data\n",
    "xdata = numpy.random.rand(100,100) \n",
    "ydata = numpy.random.rand(100,100) \n",
    "# set up figure\n",
    "fig = plt.figure()\n",
    "ax = fig.add_subplot(111)\n",
    "ax.autoscale(True)\n",
    "plt.subplots_adjust(left=0.25, bottom=0.25)\n",
    "\n",
    "# plot first data set\n",
    "frame = 0\n",
    "ln, = ax.plot(xdata[frame],ydata[frame])\n",
    "\n",
    "# make the slider\n",
    "axframe = plt.axes([0.25, 0.1, 0.65, 0.03])\n",
    "sframe = Slider(axframe, 'Frame', 0, 99, valinit=0,valfmt='%d')\n",
    "\n",
    "# call back function\n",
    "def update(val):\n",
    "    frame = numpy.floor(sframe.val)\n",
    "    ln.set_xdata(xdata[frame])\n",
    "    ln.set_ydata((frame+1)* ydata[frame])\n",
    "    ax.set_title(frame)\n",
    "    ax.relim()\n",
    "    ax.autoscale_view()\n",
    "    plt.draw()\n",
    "\n",
    "# connect callback to slider   \n",
    "sframe.on_changed(update)\n",
    "plt.show()"
   ]
  },
  {
   "cell_type": "code",
   "execution_count": null,
   "metadata": {
    "collapsed": true
   },
   "outputs": [],
   "source": []
  }
 ],
 "metadata": {
  "kernelspec": {
   "display_name": "Python 2",
   "language": "python",
   "name": "python2"
  },
  "language_info": {
   "codemirror_mode": {
    "name": "ipython",
    "version": 2
   },
   "file_extension": ".py",
   "mimetype": "text/x-python",
   "name": "python",
   "nbconvert_exporter": "python",
   "pygments_lexer": "ipython2",
   "version": "2.7.11"
  }
 },
 "nbformat": 4,
 "nbformat_minor": 0
}
